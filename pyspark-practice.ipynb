{
 "cells": [
  {
   "cell_type": "code",
   "execution_count": 1,
   "id": "1b139fb3",
   "metadata": {
    "_cell_guid": "b1076dfc-b9ad-4769-8c92-a6c4dae69d19",
    "_uuid": "8f2839f25d086af736a60e9eeb907d3b93b6e0e5",
    "execution": {
     "iopub.execute_input": "2023-03-22T13:47:27.490209Z",
     "iopub.status.busy": "2023-03-22T13:47:27.489838Z",
     "iopub.status.idle": "2023-03-22T13:48:03.710238Z",
     "shell.execute_reply": "2023-03-22T13:48:03.709320Z"
    },
    "papermill": {
     "duration": 36.264241,
     "end_time": "2023-03-22T13:48:03.713393",
     "exception": false,
     "start_time": "2023-03-22T13:47:27.449152",
     "status": "completed"
    },
    "tags": []
   },
   "outputs": [
    {
     "name": "stdout",
     "output_type": "stream",
     "text": [
      "Requirement already satisfied: pyspark in ./pyspark-env/lib/python3.11/site-packages (4.0.1)\n",
      "Requirement already satisfied: py4j==0.10.9.9 in ./pyspark-env/lib/python3.11/site-packages (from pyspark) (0.10.9.9)\n",
      "Note: you may need to restart the kernel to use updated packages.\n"
     ]
    }
   ],
   "source": [
    "pip install pyspark"
   ]
  },
  {
   "cell_type": "markdown",
   "id": "7a6345fa",
   "metadata": {
    "papermill": {
     "duration": 0.042273,
     "end_time": "2023-03-22T13:48:03.799959",
     "exception": false,
     "start_time": "2023-03-22T13:48:03.757686",
     "status": "completed"
    },
    "tags": []
   },
   "source": [
    "# Basic Spark Dataframe Operations - Part 1"
   ]
  },
  {
   "cell_type": "code",
   "execution_count": null,
   "id": "c93d1dfa",
   "metadata": {},
   "outputs": [
    {
     "name": "stderr",
     "output_type": "stream",
     "text": [
      "WARNING: Using incubator modules: jdk.incubator.vector\n",
      "Using Spark's default log4j profile: org/apache/spark/log4j2-defaults.properties\n",
      "Setting default log level to \"WARN\".\n",
      "To adjust logging level use sc.setLogLevel(newLevel). For SparkR, use setLogLevel(newLevel).\n",
      "25/10/24 13:06:49 WARN NativeCodeLoader: Unable to load native-hadoop library for your platform... using builtin-java classes where applicable\n"
     ]
    },
    {
     "name": "stdout",
     "output_type": "stream",
     "text": [
      "Available methods on spark.read:\n",
      "['csv', 'format', 'jdbc', 'json', 'load', 'option', 'options', 'orc', 'parquet', 'schema', 'table', 'text', 'xml']\n"
     ]
    }
   ],
   "source": [
    "# Testing of kernal setup\n",
    "# import os\n",
    "# os.environ['JAVA_HOME'] = '/Library/Java/JavaVirtualMachines/temurin-17.jdk/Contents/Home'\n",
    "\n",
    "# from pyspark.sql import SparkSession\n",
    "# spark = SparkSession.builder.appName('Basics').getOrCreate()\n",
    "\n",
    "# # Test that spark.read is working\n",
    "# print(\"Available methods on spark.read:\")\n",
    "# print([method for method in dir(spark.read) if not method.startswith('_')])\n"
   ]
  },
  {
   "cell_type": "code",
   "execution_count": 1,
   "id": "dbc8b891",
   "metadata": {
    "execution": {
     "iopub.execute_input": "2023-03-22T13:48:03.887917Z",
     "iopub.status.busy": "2023-03-22T13:48:03.887560Z",
     "iopub.status.idle": "2023-03-22T13:48:03.934984Z",
     "shell.execute_reply": "2023-03-22T13:48:03.933769Z"
    },
    "papermill": {
     "duration": 0.093823,
     "end_time": "2023-03-22T13:48:03.937280",
     "exception": false,
     "start_time": "2023-03-22T13:48:03.843457",
     "status": "completed"
    },
    "tags": []
   },
   "outputs": [
    {
     "name": "stderr",
     "output_type": "stream",
     "text": [
      "WARNING: Using incubator modules: jdk.incubator.vector\n",
      "Using Spark's default log4j profile: org/apache/spark/log4j2-defaults.properties\n",
      "Setting default log level to \"WARN\".\n",
      "To adjust logging level use sc.setLogLevel(newLevel). For SparkR, use setLogLevel(newLevel).\n",
      "25/10/24 13:40:07 WARN NativeCodeLoader: Unable to load native-hadoop library for your platform... using builtin-java classes where applicable\n"
     ]
    }
   ],
   "source": [
    "import os\n",
    "os.environ['JAVA_HOME'] = '/Library/Java/JavaVirtualMachines/temurin-17.jdk/Contents/Home'\n",
    "\n",
    "from pyspark.sql import SparkSession\n",
    "spark = SparkSession.builder.appName('Basics').getOrCreate()\n"
   ]
  },
  {
   "cell_type": "code",
   "execution_count": 2,
   "id": "f09f1bd3",
   "metadata": {
    "execution": {
     "iopub.execute_input": "2023-03-22T13:48:04.025258Z",
     "iopub.status.busy": "2023-03-22T13:48:04.024886Z",
     "iopub.status.idle": "2023-03-22T13:48:14.283236Z",
     "shell.execute_reply": "2023-03-22T13:48:14.281145Z"
    },
    "papermill": {
     "duration": 10.306179,
     "end_time": "2023-03-22T13:48:14.286312",
     "exception": false,
     "start_time": "2023-03-22T13:48:03.980133",
     "status": "completed"
    },
    "tags": []
   },
   "outputs": [],
   "source": [
    "df = spark.read.json('data/people.json')"
   ]
  },
  {
   "cell_type": "code",
   "execution_count": 3,
   "id": "edcda89f",
   "metadata": {
    "execution": {
     "iopub.execute_input": "2023-03-22T13:48:14.375921Z",
     "iopub.status.busy": "2023-03-22T13:48:14.375528Z",
     "iopub.status.idle": "2023-03-22T13:48:14.801798Z",
     "shell.execute_reply": "2023-03-22T13:48:14.800860Z"
    },
    "papermill": {
     "duration": 0.474536,
     "end_time": "2023-03-22T13:48:14.804904",
     "exception": false,
     "start_time": "2023-03-22T13:48:14.330368",
     "status": "completed"
    },
    "tags": []
   },
   "outputs": [
    {
     "name": "stdout",
     "output_type": "stream",
     "text": [
      "+----+-------+\n",
      "| age|   name|\n",
      "+----+-------+\n",
      "|NULL|Michael|\n",
      "|  30|   Andy|\n",
      "|  19| Justin|\n",
      "|  25|  Sarah|\n",
      "|NULL|  David|\n",
      "|  42|Jessica|\n",
      "|  35|  Chris|\n",
      "|  22|  Emily|\n",
      "|NULL| Daniel|\n",
      "|  51|  Laura|\n",
      "|  29| Robert|\n",
      "|  38|  Linda|\n",
      "+----+-------+\n",
      "\n"
     ]
    }
   ],
   "source": [
    "df.show() # Prints the dataframe"
   ]
  },
  {
   "cell_type": "code",
   "execution_count": 4,
   "id": "88fa7a01",
   "metadata": {
    "execution": {
     "iopub.execute_input": "2023-03-22T13:48:14.894273Z",
     "iopub.status.busy": "2023-03-22T13:48:14.893834Z",
     "iopub.status.idle": "2023-03-22T13:48:14.904791Z",
     "shell.execute_reply": "2023-03-22T13:48:14.903842Z"
    },
    "papermill": {
     "duration": 0.059062,
     "end_time": "2023-03-22T13:48:14.908002",
     "exception": false,
     "start_time": "2023-03-22T13:48:14.848940",
     "status": "completed"
    },
    "tags": []
   },
   "outputs": [
    {
     "name": "stdout",
     "output_type": "stream",
     "text": [
      "root\n",
      " |-- age: long (nullable = true)\n",
      " |-- name: string (nullable = true)\n",
      "\n"
     ]
    }
   ],
   "source": [
    "df.printSchema() # Prints Schema of the dataframe attributes in a tree format"
   ]
  },
  {
   "cell_type": "code",
   "execution_count": 5,
   "id": "c3a065fc",
   "metadata": {
    "execution": {
     "iopub.execute_input": "2023-03-22T13:48:15.008245Z",
     "iopub.status.busy": "2023-03-22T13:48:15.007477Z",
     "iopub.status.idle": "2023-03-22T13:48:15.035826Z",
     "shell.execute_reply": "2023-03-22T13:48:15.034608Z"
    },
    "papermill": {
     "duration": 0.076432,
     "end_time": "2023-03-22T13:48:15.038561",
     "exception": false,
     "start_time": "2023-03-22T13:48:14.962129",
     "status": "completed"
    },
    "tags": []
   },
   "outputs": [
    {
     "data": {
      "text/plain": [
       "['age', 'name']"
      ]
     },
     "execution_count": 5,
     "metadata": {},
     "output_type": "execute_result"
    }
   ],
   "source": [
    "df.columns # Returns column names of dataframe"
   ]
  },
  {
   "cell_type": "code",
   "execution_count": 6,
   "id": "2ec98bcf",
   "metadata": {
    "execution": {
     "iopub.execute_input": "2023-03-22T13:48:15.131651Z",
     "iopub.status.busy": "2023-03-22T13:48:15.131187Z",
     "iopub.status.idle": "2023-03-22T13:48:16.363902Z",
     "shell.execute_reply": "2023-03-22T13:48:16.362721Z"
    },
    "papermill": {
     "duration": 1.282113,
     "end_time": "2023-03-22T13:48:16.366649",
     "exception": false,
     "start_time": "2023-03-22T13:48:15.084536",
     "status": "completed"
    },
    "tags": []
   },
   "outputs": [
    {
     "name": "stdout",
     "output_type": "stream",
     "text": [
      "+-------+------------------+-----+\n",
      "|summary|               age| name|\n",
      "+-------+------------------+-----+\n",
      "|  count|                 9|   12|\n",
      "|   mean|32.333333333333336| NULL|\n",
      "| stddev|10.222524150130436| NULL|\n",
      "|    min|                19| Andy|\n",
      "|    max|                51|Sarah|\n",
      "+-------+------------------+-----+\n",
      "\n"
     ]
    }
   ],
   "source": [
    "df.describe().show() # Provides a statistical summary of data"
   ]
  },
  {
   "cell_type": "markdown",
   "id": "3bdabde2",
   "metadata": {
    "papermill": {
     "duration": 0.050687,
     "end_time": "2023-03-22T13:48:16.479298",
     "exception": false,
     "start_time": "2023-03-22T13:48:16.428611",
     "status": "completed"
    },
    "tags": []
   },
   "source": [
    "# Chaning Schema Type"
   ]
  },
  {
   "cell_type": "code",
   "execution_count": 7,
   "id": "487cf55f",
   "metadata": {
    "execution": {
     "iopub.execute_input": "2023-03-22T13:48:16.569512Z",
     "iopub.status.busy": "2023-03-22T13:48:16.568494Z",
     "iopub.status.idle": "2023-03-22T13:48:16.573292Z",
     "shell.execute_reply": "2023-03-22T13:48:16.572516Z"
    },
    "papermill": {
     "duration": 0.051758,
     "end_time": "2023-03-22T13:48:16.575117",
     "exception": false,
     "start_time": "2023-03-22T13:48:16.523359",
     "status": "completed"
    },
    "tags": []
   },
   "outputs": [],
   "source": [
    "from pyspark.sql.types import (StructField, StringType, IntegerType, StructType)"
   ]
  },
  {
   "cell_type": "code",
   "execution_count": 8,
   "id": "a05088d8",
   "metadata": {
    "execution": {
     "iopub.execute_input": "2023-03-22T13:48:16.663955Z",
     "iopub.status.busy": "2023-03-22T13:48:16.663108Z",
     "iopub.status.idle": "2023-03-22T13:48:16.668092Z",
     "shell.execute_reply": "2023-03-22T13:48:16.667162Z"
    },
    "papermill": {
     "duration": 0.051497,
     "end_time": "2023-03-22T13:48:16.670010",
     "exception": false,
     "start_time": "2023-03-22T13:48:16.618513",
     "status": "completed"
    },
    "tags": []
   },
   "outputs": [],
   "source": [
    "data_schema = [StructField('age', IntegerType(), True),\n",
    "               StructField('name', StringType(), True)]"
   ]
  },
  {
   "cell_type": "code",
   "execution_count": 9,
   "id": "16922faa",
   "metadata": {
    "execution": {
     "iopub.execute_input": "2023-03-22T13:48:16.760980Z",
     "iopub.status.busy": "2023-03-22T13:48:16.760372Z",
     "iopub.status.idle": "2023-03-22T13:48:16.765177Z",
     "shell.execute_reply": "2023-03-22T13:48:16.764101Z"
    },
    "papermill": {
     "duration": 0.053387,
     "end_time": "2023-03-22T13:48:16.767537",
     "exception": false,
     "start_time": "2023-03-22T13:48:16.714150",
     "status": "completed"
    },
    "tags": []
   },
   "outputs": [],
   "source": [
    "final_struc = StructType(fields=data_schema)"
   ]
  },
  {
   "cell_type": "code",
   "execution_count": 11,
   "id": "a4e52a93",
   "metadata": {
    "execution": {
     "iopub.execute_input": "2023-03-22T13:48:16.856600Z",
     "iopub.status.busy": "2023-03-22T13:48:16.855971Z",
     "iopub.status.idle": "2023-03-22T13:48:16.899096Z",
     "shell.execute_reply": "2023-03-22T13:48:16.897963Z"
    },
    "papermill": {
     "duration": 0.090375,
     "end_time": "2023-03-22T13:48:16.901230",
     "exception": false,
     "start_time": "2023-03-22T13:48:16.810855",
     "status": "completed"
    },
    "tags": []
   },
   "outputs": [
    {
     "name": "stdout",
     "output_type": "stream",
     "text": [
      "root\n",
      " |-- age: integer (nullable = true)\n",
      " |-- name: string (nullable = true)\n",
      "\n"
     ]
    }
   ],
   "source": [
    "df = spark.read.json('data/people.json', schema=final_struc)\n",
    "\n",
    "df.printSchema()"
   ]
  },
  {
   "cell_type": "markdown",
   "id": "8a39e4d8",
   "metadata": {
    "papermill": {
     "duration": 0.045086,
     "end_time": "2023-03-22T13:48:16.989522",
     "exception": false,
     "start_time": "2023-03-22T13:48:16.944436",
     "status": "completed"
    },
    "tags": []
   },
   "source": [
    "# Basic Spark Dataframe Operations - Part 2"
   ]
  },
  {
   "cell_type": "code",
   "execution_count": 12,
   "id": "47a77799",
   "metadata": {
    "execution": {
     "iopub.execute_input": "2023-03-22T13:48:17.078151Z",
     "iopub.status.busy": "2023-03-22T13:48:17.077737Z",
     "iopub.status.idle": "2023-03-22T13:48:17.224728Z",
     "shell.execute_reply": "2023-03-22T13:48:17.223989Z"
    },
    "papermill": {
     "duration": 0.194508,
     "end_time": "2023-03-22T13:48:17.227263",
     "exception": false,
     "start_time": "2023-03-22T13:48:17.032755",
     "status": "completed"
    },
    "tags": []
   },
   "outputs": [
    {
     "name": "stdout",
     "output_type": "stream",
     "text": [
      "+----+-------+\n",
      "| age|   name|\n",
      "+----+-------+\n",
      "|NULL|Michael|\n",
      "|  30|   Andy|\n",
      "|  19| Justin|\n",
      "|  25|  Sarah|\n",
      "|NULL|  David|\n",
      "|  42|Jessica|\n",
      "|  35|  Chris|\n",
      "|  22|  Emily|\n",
      "|NULL| Daniel|\n",
      "|  51|  Laura|\n",
      "|  29| Robert|\n",
      "|  38|  Linda|\n",
      "+----+-------+\n",
      "\n"
     ]
    }
   ],
   "source": [
    "df.show()"
   ]
  },
  {
   "cell_type": "code",
   "execution_count": 13,
   "id": "1fc82e14",
   "metadata": {
    "execution": {
     "iopub.execute_input": "2023-03-22T13:48:17.354016Z",
     "iopub.status.busy": "2023-03-22T13:48:17.353599Z",
     "iopub.status.idle": "2023-03-22T13:48:17.362162Z",
     "shell.execute_reply": "2023-03-22T13:48:17.361350Z"
    },
    "papermill": {
     "duration": 0.076227,
     "end_time": "2023-03-22T13:48:17.364402",
     "exception": false,
     "start_time": "2023-03-22T13:48:17.288175",
     "status": "completed"
    },
    "tags": []
   },
   "outputs": [
    {
     "data": {
      "text/plain": [
       "pyspark.sql.classic.column.Column"
      ]
     },
     "execution_count": 13,
     "metadata": {},
     "output_type": "execute_result"
    }
   ],
   "source": [
    "type(df['age']) # Returning a column of age"
   ]
  },
  {
   "cell_type": "code",
   "execution_count": 14,
   "id": "c4e52ead",
   "metadata": {
    "execution": {
     "iopub.execute_input": "2023-03-22T13:48:17.464089Z",
     "iopub.status.busy": "2023-03-22T13:48:17.463249Z",
     "iopub.status.idle": "2023-03-22T13:48:17.649995Z",
     "shell.execute_reply": "2023-03-22T13:48:17.649026Z"
    },
    "papermill": {
     "duration": 0.235381,
     "end_time": "2023-03-22T13:48:17.653394",
     "exception": false,
     "start_time": "2023-03-22T13:48:17.418013",
     "status": "completed"
    },
    "tags": []
   },
   "outputs": [
    {
     "name": "stdout",
     "output_type": "stream",
     "text": [
      "+----+\n",
      "| age|\n",
      "+----+\n",
      "|NULL|\n",
      "|  30|\n",
      "|  19|\n",
      "|  25|\n",
      "|NULL|\n",
      "|  42|\n",
      "|  35|\n",
      "|  22|\n",
      "|NULL|\n",
      "|  51|\n",
      "|  29|\n",
      "|  38|\n",
      "+----+\n",
      "\n"
     ]
    }
   ],
   "source": [
    "df.select('age').show() # Returning a dataframe with single column age"
   ]
  },
  {
   "cell_type": "code",
   "execution_count": 15,
   "id": "a5d02ba2",
   "metadata": {
    "execution": {
     "iopub.execute_input": "2023-03-22T13:48:17.771298Z",
     "iopub.status.busy": "2023-03-22T13:48:17.770884Z",
     "iopub.status.idle": "2023-03-22T13:48:17.894047Z",
     "shell.execute_reply": "2023-03-22T13:48:17.893002Z"
    },
    "papermill": {
     "duration": 0.182811,
     "end_time": "2023-03-22T13:48:17.897421",
     "exception": false,
     "start_time": "2023-03-22T13:48:17.714610",
     "status": "completed"
    },
    "tags": []
   },
   "outputs": [
    {
     "name": "stdout",
     "output_type": "stream",
     "text": [
      "+----+-------+\n",
      "| age|   name|\n",
      "+----+-------+\n",
      "|NULL|Michael|\n",
      "|  30|   Andy|\n",
      "|  19| Justin|\n",
      "|  25|  Sarah|\n",
      "|NULL|  David|\n",
      "|  42|Jessica|\n",
      "|  35|  Chris|\n",
      "|  22|  Emily|\n",
      "|NULL| Daniel|\n",
      "|  51|  Laura|\n",
      "|  29| Robert|\n",
      "|  38|  Linda|\n",
      "+----+-------+\n",
      "\n"
     ]
    }
   ],
   "source": [
    "df.select('age', 'name').show() # Returning a dataframe with two columns age and name"
   ]
  },
  {
   "cell_type": "code",
   "execution_count": 16,
   "id": "bdcb196f",
   "metadata": {
    "execution": {
     "iopub.execute_input": "2023-03-22T13:48:17.993750Z",
     "iopub.status.busy": "2023-03-22T13:48:17.993303Z",
     "iopub.status.idle": "2023-03-22T13:48:18.120586Z",
     "shell.execute_reply": "2023-03-22T13:48:18.119596Z"
    },
    "papermill": {
     "duration": 0.177223,
     "end_time": "2023-03-22T13:48:18.124595",
     "exception": false,
     "start_time": "2023-03-22T13:48:17.947372",
     "status": "completed"
    },
    "tags": []
   },
   "outputs": [
    {
     "name": "stdout",
     "output_type": "stream",
     "text": [
      "+----+-------+\n",
      "| age|   name|\n",
      "+----+-------+\n",
      "|NULL|Michael|\n",
      "|  30|   Andy|\n",
      "|  19| Justin|\n",
      "|  25|  Sarah|\n",
      "|NULL|  David|\n",
      "|  42|Jessica|\n",
      "|  35|  Chris|\n",
      "|  22|  Emily|\n",
      "|NULL| Daniel|\n",
      "|  51|  Laura|\n",
      "|  29| Robert|\n",
      "|  38|  Linda|\n",
      "+----+-------+\n",
      "\n"
     ]
    }
   ],
   "source": [
    "df.select(['age', 'name']).show()"
   ]
  },
  {
   "cell_type": "code",
   "execution_count": 21,
   "id": "e31e622a",
   "metadata": {
    "execution": {
     "iopub.execute_input": "2023-03-22T13:48:18.223905Z",
     "iopub.status.busy": "2023-03-22T13:48:18.223462Z",
     "iopub.status.idle": "2023-03-22T13:48:18.353077Z",
     "shell.execute_reply": "2023-03-22T13:48:18.352068Z"
    },
    "papermill": {
     "duration": 0.180537,
     "end_time": "2023-03-22T13:48:18.355386",
     "exception": false,
     "start_time": "2023-03-22T13:48:18.174849",
     "status": "completed"
    },
    "tags": []
   },
   "outputs": [
    {
     "data": {
      "text/plain": [
       "[Row(age=None, name='Michael'), Row(age=30, name='Andy')]"
      ]
     },
     "execution_count": 21,
     "metadata": {},
     "output_type": "execute_result"
    }
   ],
   "source": [
    "df.head(2)"
   ]
  },
  {
   "cell_type": "code",
   "execution_count": 26,
   "id": "ebdeb09c",
   "metadata": {
    "execution": {
     "iopub.execute_input": "2023-03-22T13:48:18.478302Z",
     "iopub.status.busy": "2023-03-22T13:48:18.477965Z",
     "iopub.status.idle": "2023-03-22T13:48:18.625134Z",
     "shell.execute_reply": "2023-03-22T13:48:18.624242Z"
    },
    "papermill": {
     "duration": 0.211588,
     "end_time": "2023-03-22T13:48:18.627828",
     "exception": false,
     "start_time": "2023-03-22T13:48:18.416240",
     "status": "completed"
    },
    "tags": []
   },
   "outputs": [
    {
     "name": "stdout",
     "output_type": "stream",
     "text": [
      "+----+-------+----------+\n",
      "| age|   name|double_age|\n",
      "+----+-------+----------+\n",
      "|NULL|Michael|      NULL|\n",
      "|  30|   Andy|        60|\n",
      "|  19| Justin|        38|\n",
      "|  25|  Sarah|        50|\n",
      "|NULL|  David|      NULL|\n",
      "|  42|Jessica|        84|\n",
      "|  35|  Chris|        70|\n",
      "|  22|  Emily|        44|\n",
      "|NULL| Daniel|      NULL|\n",
      "|  51|  Laura|       102|\n",
      "|  29| Robert|        58|\n",
      "|  38|  Linda|        76|\n",
      "+----+-------+----------+\n",
      "\n",
      "+----+-------+----------+\n",
      "| age|   name|triple_age|\n",
      "+----+-------+----------+\n",
      "|NULL|Michael|      NULL|\n",
      "|  30|   Andy|        90|\n",
      "|  19| Justin|        57|\n",
      "|  25|  Sarah|        75|\n",
      "|NULL|  David|      NULL|\n",
      "|  42|Jessica|       126|\n",
      "|  35|  Chris|       105|\n",
      "|  22|  Emily|        66|\n",
      "|NULL| Daniel|      NULL|\n",
      "|  51|  Laura|       153|\n",
      "|  29| Robert|        87|\n",
      "|  38|  Linda|       114|\n",
      "+----+-------+----------+\n",
      "\n"
     ]
    }
   ],
   "source": [
    "# withColumn function helps creating a new column or replace an existing column in a dataframe\n",
    "# Not an inplace operation\n",
    "df.withColumn('double_age', df['age']*2).show() \n",
    "# df.withColumn('triple_age', df['age']*3).show() \n"
   ]
  },
  {
   "cell_type": "code",
   "execution_count": 23,
   "id": "856fde7d",
   "metadata": {
    "execution": {
     "iopub.execute_input": "2023-03-22T13:48:18.717985Z",
     "iopub.status.busy": "2023-03-22T13:48:18.717631Z",
     "iopub.status.idle": "2023-03-22T13:48:18.821390Z",
     "shell.execute_reply": "2023-03-22T13:48:18.819668Z"
    },
    "papermill": {
     "duration": 0.152801,
     "end_time": "2023-03-22T13:48:18.825831",
     "exception": false,
     "start_time": "2023-03-22T13:48:18.673030",
     "status": "completed"
    },
    "tags": []
   },
   "outputs": [
    {
     "name": "stdout",
     "output_type": "stream",
     "text": [
      "+----+-------+\n",
      "| age|   name|\n",
      "+----+-------+\n",
      "|NULL|Michael|\n",
      "|  30|   Andy|\n",
      "|  19| Justin|\n",
      "|  25|  Sarah|\n",
      "|NULL|  David|\n",
      "|  42|Jessica|\n",
      "|  35|  Chris|\n",
      "|  22|  Emily|\n",
      "|NULL| Daniel|\n",
      "|  51|  Laura|\n",
      "|  29| Robert|\n",
      "|  38|  Linda|\n",
      "+----+-------+\n",
      "\n"
     ]
    }
   ],
   "source": [
    "# New column not added, since the above operation is not an inplace operation\n",
    "df.show()"
   ]
  },
  {
   "cell_type": "code",
   "execution_count": 27,
   "id": "a926eda7",
   "metadata": {
    "execution": {
     "iopub.execute_input": "2023-03-22T13:48:18.917442Z",
     "iopub.status.busy": "2023-03-22T13:48:18.917096Z",
     "iopub.status.idle": "2023-03-22T13:48:19.026311Z",
     "shell.execute_reply": "2023-03-22T13:48:19.025276Z"
    },
    "papermill": {
     "duration": 0.157966,
     "end_time": "2023-03-22T13:48:19.029036",
     "exception": false,
     "start_time": "2023-03-22T13:48:18.871070",
     "status": "completed"
    },
    "tags": []
   },
   "outputs": [
    {
     "name": "stdout",
     "output_type": "stream",
     "text": [
      "+---------------+-------+\n",
      "|new_age_renamed|   name|\n",
      "+---------------+-------+\n",
      "|           NULL|Michael|\n",
      "|             30|   Andy|\n",
      "|             19| Justin|\n",
      "|             25|  Sarah|\n",
      "|           NULL|  David|\n",
      "|             42|Jessica|\n",
      "|             35|  Chris|\n",
      "|             22|  Emily|\n",
      "|           NULL| Daniel|\n",
      "|             51|  Laura|\n",
      "|             29| Robert|\n",
      "|             38|  Linda|\n",
      "+---------------+-------+\n",
      "\n"
     ]
    }
   ],
   "source": [
    "# Renaming a column\n",
    "df.withColumnRenamed('age', 'new_age_renamed').show()"
   ]
  },
  {
   "cell_type": "code",
   "execution_count": 28,
   "id": "ee55e2fd",
   "metadata": {},
   "outputs": [
    {
     "name": "stdout",
     "output_type": "stream",
     "text": [
      "+----+-------+\n",
      "| age|   name|\n",
      "+----+-------+\n",
      "|NULL|Michael|\n",
      "|  30|   Andy|\n",
      "|  19| Justin|\n",
      "|  25|  Sarah|\n",
      "|NULL|  David|\n",
      "|  42|Jessica|\n",
      "|  35|  Chris|\n",
      "|  22|  Emily|\n",
      "|NULL| Daniel|\n",
      "|  51|  Laura|\n",
      "|  29| Robert|\n",
      "|  38|  Linda|\n",
      "+----+-------+\n",
      "\n"
     ]
    }
   ],
   "source": [
    "df.show()"
   ]
  },
  {
   "cell_type": "markdown",
   "id": "61b1d189",
   "metadata": {},
   "source": [
    "# Spark in SQL "
   ]
  },
  {
   "cell_type": "code",
   "execution_count": 29,
   "id": "7ca4907f",
   "metadata": {
    "execution": {
     "iopub.execute_input": "2023-03-22T13:48:19.123908Z",
     "iopub.status.busy": "2023-03-22T13:48:19.123550Z",
     "iopub.status.idle": "2023-03-22T13:48:19.166628Z",
     "shell.execute_reply": "2023-03-22T13:48:19.165678Z"
    },
    "papermill": {
     "duration": 0.092859,
     "end_time": "2023-03-22T13:48:19.168893",
     "exception": false,
     "start_time": "2023-03-22T13:48:19.076034",
     "status": "completed"
    },
    "tags": []
   },
   "outputs": [],
   "source": [
    "df.createOrReplaceTempView('people') # Registering it as a SQL temporaroy view"
   ]
  },
  {
   "cell_type": "code",
   "execution_count": 30,
   "id": "d548b2c7",
   "metadata": {
    "execution": {
     "iopub.execute_input": "2023-03-22T13:48:19.259581Z",
     "iopub.status.busy": "2023-03-22T13:48:19.259250Z",
     "iopub.status.idle": "2023-03-22T13:48:19.417698Z",
     "shell.execute_reply": "2023-03-22T13:48:19.416499Z"
    },
    "papermill": {
     "duration": 0.207195,
     "end_time": "2023-03-22T13:48:19.420672",
     "exception": false,
     "start_time": "2023-03-22T13:48:19.213477",
     "status": "completed"
    },
    "tags": []
   },
   "outputs": [
    {
     "name": "stdout",
     "output_type": "stream",
     "text": [
      "+----+-------+\n",
      "| age|   name|\n",
      "+----+-------+\n",
      "|NULL|Michael|\n",
      "|  30|   Andy|\n",
      "|  19| Justin|\n",
      "|  25|  Sarah|\n",
      "|NULL|  David|\n",
      "|  42|Jessica|\n",
      "|  35|  Chris|\n",
      "|  22|  Emily|\n",
      "|NULL| Daniel|\n",
      "|  51|  Laura|\n",
      "|  29| Robert|\n",
      "|  38|  Linda|\n",
      "+----+-------+\n",
      "\n"
     ]
    }
   ],
   "source": [
    "results = spark.sql(\"SELECT * FROM people\")\n"
   ]
  },
  {
   "cell_type": "code",
   "execution_count": 23,
   "id": "4e541a39",
   "metadata": {
    "execution": {
     "iopub.execute_input": "2023-03-22T13:48:19.548956Z",
     "iopub.status.busy": "2023-03-22T13:48:19.548541Z",
     "iopub.status.idle": "2023-03-22T13:48:19.843446Z",
     "shell.execute_reply": "2023-03-22T13:48:19.842238Z"
    },
    "papermill": {
     "duration": 0.363517,
     "end_time": "2023-03-22T13:48:19.845927",
     "exception": false,
     "start_time": "2023-03-22T13:48:19.482410",
     "status": "completed"
    },
    "tags": []
   },
   "outputs": [
    {
     "name": "stdout",
     "output_type": "stream",
     "text": [
      "+---+\n",
      "|age|\n",
      "+---+\n",
      "| 30|\n",
      "+---+\n",
      "\n"
     ]
    }
   ],
   "source": [
    "results = spark.sql(\"SELECT age FROM people WHERE name = 'Andy'\")\n",
    "results.show()"
   ]
  },
  {
   "cell_type": "code",
   "execution_count": 34,
   "id": "db3c4e8a",
   "metadata": {},
   "outputs": [
    {
     "name": "stdout",
     "output_type": "stream",
     "text": [
      "+---+-------+\n",
      "|age|   name|\n",
      "+---+-------+\n",
      "| 30|   Andy|\n",
      "| 19| Justin|\n",
      "| 25|  Sarah|\n",
      "| 42|Jessica|\n",
      "| 35|  Chris|\n",
      "| 22|  Emily|\n",
      "| 51|  Laura|\n",
      "| 29| Robert|\n",
      "| 38|  Linda|\n",
      "+---+-------+\n",
      "\n"
     ]
    }
   ],
   "source": [
    "results = spark.sql(\"SELECT * FROM people \" \\\n",
    "\"WHERE age is NOT NULL \")\n",
    "results.show()"
   ]
  },
  {
   "cell_type": "markdown",
   "id": "afb38106",
   "metadata": {
    "papermill": {
     "duration": 0.062916,
     "end_time": "2023-03-22T13:48:19.970333",
     "exception": false,
     "start_time": "2023-03-22T13:48:19.907417",
     "status": "completed"
    },
    "tags": []
   },
   "source": [
    "# Data Filtering in Spark Dataframes"
   ]
  },
  {
   "cell_type": "code",
   "execution_count": 37,
   "id": "f4b9902b",
   "metadata": {
    "execution": {
     "iopub.execute_input": "2023-03-22T13:48:20.075942Z",
     "iopub.status.busy": "2023-03-22T13:48:20.074504Z",
     "iopub.status.idle": "2023-03-22T13:48:20.652058Z",
     "shell.execute_reply": "2023-03-22T13:48:20.650997Z"
    },
    "papermill": {
     "duration": 0.627444,
     "end_time": "2023-03-22T13:48:20.655297",
     "exception": false,
     "start_time": "2023-03-22T13:48:20.027853",
     "status": "completed"
    },
    "tags": []
   },
   "outputs": [],
   "source": [
    "spark = SparkSession.builder.appName('ops').getOrCreate()\n",
    "\n",
    "df = spark.read.csv('data/appl_stock.csv', header=True, inferSchema=True)"
   ]
  },
  {
   "cell_type": "code",
   "execution_count": 38,
   "id": "9b288189",
   "metadata": {
    "execution": {
     "iopub.execute_input": "2023-03-22T13:48:20.778676Z",
     "iopub.status.busy": "2023-03-22T13:48:20.777685Z",
     "iopub.status.idle": "2023-03-22T13:48:20.972593Z",
     "shell.execute_reply": "2023-03-22T13:48:20.971683Z"
    },
    "papermill": {
     "duration": 0.258265,
     "end_time": "2023-03-22T13:48:20.976142",
     "exception": false,
     "start_time": "2023-03-22T13:48:20.717877",
     "status": "completed"
    },
    "tags": []
   },
   "outputs": [
    {
     "name": "stdout",
     "output_type": "stream",
     "text": [
      "+----------+--------+--------+--------+--------+---------+---------+\n",
      "|      Date|    Open|    High|     Low|   Close|Adj Close|   Volume|\n",
      "+----------+--------+--------+--------+--------+---------+---------+\n",
      "|1980-12-12|0.128348|0.128906|0.128348|0.128348| 0.100323|469033600|\n",
      "|1980-12-15| 0.12221| 0.12221|0.121652|0.121652| 0.095089|175884800|\n",
      "|1980-12-16|0.113281|0.113281|0.112723|0.112723|  0.08811|105728000|\n",
      "|1980-12-17|0.115513|0.116071|0.115513|0.115513| 0.090291| 86441600|\n",
      "|1980-12-18|0.118862| 0.11942|0.118862|0.118862| 0.092908| 73449600|\n",
      "|1980-12-19|0.126116|0.126674|0.126116|0.126116| 0.098578| 48630400|\n",
      "|1980-12-22|0.132254|0.132813|0.132254|0.132254| 0.103376| 37363200|\n",
      "|1980-12-23|0.137835|0.138393|0.137835|0.137835| 0.107739| 46950400|\n",
      "|1980-12-24|0.145089|0.145647|0.145089|0.145089| 0.113409| 48003200|\n",
      "|1980-12-26|0.158482| 0.15904|0.158482|0.158482| 0.123877| 55574400|\n",
      "|1980-12-29|0.160714|0.161272|0.160714|0.160714| 0.125622| 93161600|\n",
      "|1980-12-30|0.157366|0.157366|0.156808|0.156808| 0.122569| 68880000|\n",
      "|1980-12-31|0.152902|0.152902|0.152344|0.152344|  0.11908| 35750400|\n",
      "|1981-01-02|0.154018|0.155134|0.154018|0.154018| 0.120388| 21660800|\n",
      "|1981-01-05|0.151228|0.151228| 0.15067| 0.15067| 0.117771| 35728000|\n",
      "|1981-01-06|0.144531|0.144531|0.143973|0.143973| 0.112536| 45158400|\n",
      "|1981-01-07|0.138393|0.138393|0.137835|0.137835| 0.107739| 55686400|\n",
      "|1981-01-08|0.135603|0.135603|0.135045|0.135045| 0.105558| 39827200|\n",
      "|1981-01-09|0.142299|0.142857|0.142299|0.142299| 0.111228| 21504000|\n",
      "|1981-01-12|0.142299|0.142299|0.141183|0.141183| 0.110356| 23699200|\n",
      "+----------+--------+--------+--------+--------+---------+---------+\n",
      "only showing top 20 rows\n"
     ]
    }
   ],
   "source": [
    "df.show()"
   ]
  },
  {
   "cell_type": "code",
   "execution_count": 39,
   "id": "79fe8488",
   "metadata": {
    "execution": {
     "iopub.execute_input": "2023-03-22T13:48:21.154847Z",
     "iopub.status.busy": "2023-03-22T13:48:21.154415Z",
     "iopub.status.idle": "2023-03-22T13:48:21.159961Z",
     "shell.execute_reply": "2023-03-22T13:48:21.158488Z"
    },
    "papermill": {
     "duration": 0.122174,
     "end_time": "2023-03-22T13:48:21.163440",
     "exception": false,
     "start_time": "2023-03-22T13:48:21.041266",
     "status": "completed"
    },
    "tags": []
   },
   "outputs": [
    {
     "name": "stdout",
     "output_type": "stream",
     "text": [
      "root\n",
      " |-- Date: date (nullable = true)\n",
      " |-- Open: double (nullable = true)\n",
      " |-- High: double (nullable = true)\n",
      " |-- Low: double (nullable = true)\n",
      " |-- Close: double (nullable = true)\n",
      " |-- Adj Close: double (nullable = true)\n",
      " |-- Volume: long (nullable = true)\n",
      "\n"
     ]
    }
   ],
   "source": [
    "df.printSchema()"
   ]
  },
  {
   "cell_type": "code",
   "execution_count": 40,
   "id": "036f7832",
   "metadata": {
    "execution": {
     "iopub.execute_input": "2023-03-22T13:48:21.256988Z",
     "iopub.status.busy": "2023-03-22T13:48:21.256355Z",
     "iopub.status.idle": "2023-03-22T13:48:21.812708Z",
     "shell.execute_reply": "2023-03-22T13:48:21.812007Z"
    },
    "papermill": {
     "duration": 0.606137,
     "end_time": "2023-03-22T13:48:21.815904",
     "exception": false,
     "start_time": "2023-03-22T13:48:21.209767",
     "status": "completed"
    },
    "tags": []
   },
   "outputs": [
    {
     "name": "stderr",
     "output_type": "stream",
     "text": [
      "25/10/24 14:16:44 WARN SparkStringUtils: Truncated the string representation of a plan since it was too large. This behavior can be adjusted by setting 'spark.sql.debug.maxToStringFields'.\n"
     ]
    },
    {
     "name": "stdout",
     "output_type": "stream",
     "text": [
      "+-------+------------------+------------------+-----------------+------------------+------------------+--------------------+\n",
      "|summary|              Open|              High|              Low|             Close|         Adj Close|              Volume|\n",
      "+-------+------------------+------------------+-----------------+------------------+------------------+--------------------+\n",
      "|  count|             10409|             10409|            10409|             10409|             10409|               10409|\n",
      "|   mean|13.959909858007512|14.111935729945243|13.80916341963685|13.966756942837936| 13.35033663012778|3.3217784717071766E8|\n",
      "| stddev|30.169243690613175|30.514877824393086|29.83505503777735|30.191696361026302|29.911131975662823| 3.393344185734637E8|\n",
      "|    min|          0.049665|          0.049665|         0.049107|          0.049107|          0.038384|                   0|\n",
      "|    max|        182.630005|        182.940002|       179.119995|        182.009995|        181.778397|          7421640800|\n",
      "+-------+------------------+------------------+-----------------+------------------+------------------+--------------------+\n",
      "\n"
     ]
    }
   ],
   "source": [
    "df.describe().show()"
   ]
  },
  {
   "cell_type": "code",
   "execution_count": 44,
   "id": "b896b24f",
   "metadata": {},
   "outputs": [
    {
     "name": "stdout",
     "output_type": "stream",
     "text": [
      "== Physical Plan ==\n",
      "FileScan csv [Date#391,Open#392,High#393,Low#394,Close#395,Adj Close#396,Volume#397L] Batched: false, DataFilters: [], Format: CSV, Location: InMemoryFileIndex(1 paths)[file:/Users/jiaxinhe.he/Desktop/Github/pyspark-practice/data/appl_stoc..., PartitionFilters: [], PushedFilters: [], ReadSchema: struct<Date:date,Open:double,High:double,Low:double,Close:double,Adj Close:double,Volume:bigint>\n",
      "\n",
      "\n"
     ]
    }
   ],
   "source": [
    "df.explain()"
   ]
  },
  {
   "cell_type": "code",
   "execution_count": 41,
   "id": "57f60e15",
   "metadata": {
    "execution": {
     "iopub.execute_input": "2023-03-22T13:48:21.914179Z",
     "iopub.status.busy": "2023-03-22T13:48:21.913700Z",
     "iopub.status.idle": "2023-03-22T13:48:22.079009Z",
     "shell.execute_reply": "2023-03-22T13:48:22.078127Z"
    },
    "papermill": {
     "duration": 0.215278,
     "end_time": "2023-03-22T13:48:22.081710",
     "exception": false,
     "start_time": "2023-03-22T13:48:21.866432",
     "status": "completed"
    },
    "tags": []
   },
   "outputs": [
    {
     "name": "stdout",
     "output_type": "stream",
     "text": [
      "+----------+--------+--------+--------+--------+---------+---------+\n",
      "|      Date|    Open|    High|     Low|   Close|Adj Close|   Volume|\n",
      "+----------+--------+--------+--------+--------+---------+---------+\n",
      "|1980-12-12|0.128348|0.128906|0.128348|0.128348| 0.100323|469033600|\n",
      "|1980-12-15| 0.12221| 0.12221|0.121652|0.121652| 0.095089|175884800|\n",
      "|1980-12-16|0.113281|0.113281|0.112723|0.112723|  0.08811|105728000|\n",
      "|1980-12-17|0.115513|0.116071|0.115513|0.115513| 0.090291| 86441600|\n",
      "|1980-12-18|0.118862| 0.11942|0.118862|0.118862| 0.092908| 73449600|\n",
      "|1980-12-19|0.126116|0.126674|0.126116|0.126116| 0.098578| 48630400|\n",
      "|1980-12-22|0.132254|0.132813|0.132254|0.132254| 0.103376| 37363200|\n",
      "|1980-12-23|0.137835|0.138393|0.137835|0.137835| 0.107739| 46950400|\n",
      "|1980-12-24|0.145089|0.145647|0.145089|0.145089| 0.113409| 48003200|\n",
      "|1980-12-26|0.158482| 0.15904|0.158482|0.158482| 0.123877| 55574400|\n",
      "|1980-12-29|0.160714|0.161272|0.160714|0.160714| 0.125622| 93161600|\n",
      "|1980-12-30|0.157366|0.157366|0.156808|0.156808| 0.122569| 68880000|\n",
      "|1980-12-31|0.152902|0.152902|0.152344|0.152344|  0.11908| 35750400|\n",
      "|1981-01-02|0.154018|0.155134|0.154018|0.154018| 0.120388| 21660800|\n",
      "|1981-01-05|0.151228|0.151228| 0.15067| 0.15067| 0.117771| 35728000|\n",
      "|1981-01-06|0.144531|0.144531|0.143973|0.143973| 0.112536| 45158400|\n",
      "|1981-01-07|0.138393|0.138393|0.137835|0.137835| 0.107739| 55686400|\n",
      "|1981-01-08|0.135603|0.135603|0.135045|0.135045| 0.105558| 39827200|\n",
      "|1981-01-09|0.142299|0.142857|0.142299|0.142299| 0.111228| 21504000|\n",
      "|1981-01-12|0.142299|0.142299|0.141183|0.141183| 0.110356| 23699200|\n",
      "+----------+--------+--------+--------+--------+---------+---------+\n",
      "only showing top 20 rows\n"
     ]
    }
   ],
   "source": [
    "df.filter(\"Close < 500\").show()"
   ]
  },
  {
   "cell_type": "code",
   "execution_count": 42,
   "id": "217cfbb2",
   "metadata": {
    "execution": {
     "iopub.execute_input": "2023-03-22T13:48:22.176214Z",
     "iopub.status.busy": "2023-03-22T13:48:22.175704Z",
     "iopub.status.idle": "2023-03-22T13:48:22.335994Z",
     "shell.execute_reply": "2023-03-22T13:48:22.334216Z"
    },
    "papermill": {
     "duration": 0.211037,
     "end_time": "2023-03-22T13:48:22.339369",
     "exception": false,
     "start_time": "2023-03-22T13:48:22.128332",
     "status": "completed"
    },
    "tags": []
   },
   "outputs": [
    {
     "name": "stdout",
     "output_type": "stream",
     "text": [
      "+--------+--------+\n",
      "|    Open|   Close|\n",
      "+--------+--------+\n",
      "|0.128348|0.128348|\n",
      "| 0.12221|0.121652|\n",
      "|0.113281|0.112723|\n",
      "|0.115513|0.115513|\n",
      "|0.118862|0.118862|\n",
      "|0.126116|0.126116|\n",
      "|0.132254|0.132254|\n",
      "|0.137835|0.137835|\n",
      "|0.145089|0.145089|\n",
      "|0.158482|0.158482|\n",
      "|0.160714|0.160714|\n",
      "|0.157366|0.156808|\n",
      "|0.152902|0.152344|\n",
      "|0.154018|0.154018|\n",
      "|0.151228| 0.15067|\n",
      "|0.144531|0.143973|\n",
      "|0.138393|0.137835|\n",
      "|0.135603|0.135045|\n",
      "|0.142299|0.142299|\n",
      "|0.142299|0.141183|\n",
      "+--------+--------+\n",
      "only showing top 20 rows\n"
     ]
    }
   ],
   "source": [
    "df.filter(\"Close < 500\").select('Open', 'Close').show()"
   ]
  },
  {
   "cell_type": "code",
   "execution_count": 45,
   "id": "900c66f4",
   "metadata": {
    "execution": {
     "iopub.execute_input": "2023-03-22T13:48:22.472621Z",
     "iopub.status.busy": "2023-03-22T13:48:22.470889Z",
     "iopub.status.idle": "2023-03-22T13:48:22.576699Z",
     "shell.execute_reply": "2023-03-22T13:48:22.575842Z"
    },
    "papermill": {
     "duration": 0.170596,
     "end_time": "2023-03-22T13:48:22.580249",
     "exception": false,
     "start_time": "2023-03-22T13:48:22.409653",
     "status": "completed"
    },
    "tags": []
   },
   "outputs": [
    {
     "name": "stdout",
     "output_type": "stream",
     "text": [
      "+--------+--------+\n",
      "|    Open|   Close|\n",
      "+--------+--------+\n",
      "|0.128348|0.128348|\n",
      "| 0.12221|0.121652|\n",
      "|0.113281|0.112723|\n",
      "|0.115513|0.115513|\n",
      "|0.118862|0.118862|\n",
      "|0.126116|0.126116|\n",
      "|0.132254|0.132254|\n",
      "|0.137835|0.137835|\n",
      "|0.145089|0.145089|\n",
      "|0.158482|0.158482|\n",
      "|0.160714|0.160714|\n",
      "|0.157366|0.156808|\n",
      "|0.152902|0.152344|\n",
      "|0.154018|0.154018|\n",
      "|0.151228| 0.15067|\n",
      "|0.144531|0.143973|\n",
      "|0.138393|0.137835|\n",
      "|0.135603|0.135045|\n",
      "|0.142299|0.142299|\n",
      "|0.142299|0.141183|\n",
      "+--------+--------+\n",
      "only showing top 20 rows\n"
     ]
    }
   ],
   "source": [
    "df.filter(\"Close < 500\").select(['Open', 'Close']).show()"
   ]
  },
  {
   "cell_type": "code",
   "execution_count": 49,
   "id": "fbf97f35",
   "metadata": {},
   "outputs": [
    {
     "name": "stdout",
     "output_type": "stream",
     "text": [
      "+--------+--------+\n",
      "|    High|   Close|\n",
      "+--------+--------+\n",
      "|0.128906|0.128348|\n",
      "| 0.12221|0.121652|\n",
      "|0.113281|0.112723|\n",
      "|0.116071|0.115513|\n",
      "| 0.11942|0.118862|\n",
      "|0.126674|0.126116|\n",
      "|0.132813|0.132254|\n",
      "|0.138393|0.137835|\n",
      "|0.145647|0.145089|\n",
      "| 0.15904|0.158482|\n",
      "|0.161272|0.160714|\n",
      "|0.157366|0.156808|\n",
      "|0.152902|0.152344|\n",
      "|0.155134|0.154018|\n",
      "|0.151228| 0.15067|\n",
      "|0.144531|0.143973|\n",
      "|0.138393|0.137835|\n",
      "|0.135603|0.135045|\n",
      "|0.142857|0.142299|\n",
      "|0.142299|0.141183|\n",
      "+--------+--------+\n",
      "only showing top 20 rows\n"
     ]
    }
   ],
   "source": [
    "df.filter(df['close'] < 500).select(['High', 'Close']).show()"
   ]
  },
  {
   "cell_type": "code",
   "execution_count": 50,
   "id": "1b8dab2e",
   "metadata": {
    "execution": {
     "iopub.execute_input": "2023-03-22T13:48:22.710909Z",
     "iopub.status.busy": "2023-03-22T13:48:22.710489Z",
     "iopub.status.idle": "2023-03-22T13:48:22.868633Z",
     "shell.execute_reply": "2023-03-22T13:48:22.867688Z"
    },
    "papermill": {
     "duration": 0.221989,
     "end_time": "2023-03-22T13:48:22.871397",
     "exception": false,
     "start_time": "2023-03-22T13:48:22.649408",
     "status": "completed"
    },
    "tags": []
   },
   "outputs": [
    {
     "name": "stdout",
     "output_type": "stream",
     "text": [
      "+--------+--------+--------+\n",
      "|    High|     Low|    Open|\n",
      "+--------+--------+--------+\n",
      "|0.128906|0.128348|0.128348|\n",
      "| 0.12221|0.121652| 0.12221|\n",
      "|0.113281|0.112723|0.113281|\n",
      "|0.116071|0.115513|0.115513|\n",
      "| 0.11942|0.118862|0.118862|\n",
      "|0.126674|0.126116|0.126116|\n",
      "|0.132813|0.132254|0.132254|\n",
      "|0.138393|0.137835|0.137835|\n",
      "|0.145647|0.145089|0.145089|\n",
      "| 0.15904|0.158482|0.158482|\n",
      "|0.161272|0.160714|0.160714|\n",
      "|0.157366|0.156808|0.157366|\n",
      "|0.152902|0.152344|0.152902|\n",
      "|0.155134|0.154018|0.154018|\n",
      "|0.151228| 0.15067|0.151228|\n",
      "|0.144531|0.143973|0.144531|\n",
      "|0.138393|0.137835|0.138393|\n",
      "|0.135603|0.135045|0.135603|\n",
      "|0.142857|0.142299|0.142299|\n",
      "|0.142299|0.141183|0.142299|\n",
      "+--------+--------+--------+\n",
      "only showing top 20 rows\n"
     ]
    }
   ],
   "source": [
    "df.filter(df['close'] < 500).select(['High', 'Low', 'Open']).show()"
   ]
  },
  {
   "cell_type": "code",
   "execution_count": 51,
   "id": "6e610952",
   "metadata": {
    "execution": {
     "iopub.execute_input": "2023-03-22T13:48:22.994533Z",
     "iopub.status.busy": "2023-03-22T13:48:22.994206Z",
     "iopub.status.idle": "2023-03-22T13:48:23.120036Z",
     "shell.execute_reply": "2023-03-22T13:48:23.118408Z"
    },
    "papermill": {
     "duration": 0.189224,
     "end_time": "2023-03-22T13:48:23.123736",
     "exception": false,
     "start_time": "2023-03-22T13:48:22.934512",
     "status": "completed"
    },
    "tags": []
   },
   "outputs": [
    {
     "name": "stdout",
     "output_type": "stream",
     "text": [
      "+--------+--------+\n",
      "|    Open|    High|\n",
      "+--------+--------+\n",
      "|0.128348|0.128906|\n",
      "| 0.12221| 0.12221|\n",
      "|0.113281|0.113281|\n",
      "|0.115513|0.116071|\n",
      "|0.118862| 0.11942|\n",
      "|0.126116|0.126674|\n",
      "|0.132254|0.132813|\n",
      "|0.137835|0.138393|\n",
      "|0.145089|0.145647|\n",
      "|0.158482| 0.15904|\n",
      "|0.160714|0.161272|\n",
      "|0.157366|0.157366|\n",
      "|0.152902|0.152902|\n",
      "|0.154018|0.155134|\n",
      "|0.151228|0.151228|\n",
      "|0.144531|0.144531|\n",
      "|0.138393|0.138393|\n",
      "|0.135603|0.135603|\n",
      "|0.142299|0.142857|\n",
      "|0.142299|0.142299|\n",
      "+--------+--------+\n",
      "only showing top 20 rows\n"
     ]
    }
   ],
   "source": [
    "df.filter(\"Open < 500\").select(['Open', 'High']).show()"
   ]
  },
  {
   "cell_type": "code",
   "execution_count": 54,
   "id": "792a61fb",
   "metadata": {
    "execution": {
     "iopub.execute_input": "2023-03-22T13:48:23.249139Z",
     "iopub.status.busy": "2023-03-22T13:48:23.248208Z",
     "iopub.status.idle": "2023-03-22T13:48:23.426360Z",
     "shell.execute_reply": "2023-03-22T13:48:23.425437Z"
    },
    "papermill": {
     "duration": 0.238891,
     "end_time": "2023-03-22T13:48:23.429248",
     "exception": false,
     "start_time": "2023-03-22T13:48:23.190357",
     "status": "completed"
    },
    "tags": []
   },
   "outputs": [
    {
     "name": "stdout",
     "output_type": "stream",
     "text": [
      "+----------+--------+--------+--------+--------+---------+---------+\n",
      "|      Date|    Open|    High|     Low|   Close|Adj Close|   Volume|\n",
      "+----------+--------+--------+--------+--------+---------+---------+\n",
      "|1981-05-14|0.121094|0.121094|0.119978|0.119978| 0.093781|  4928000|\n",
      "|1984-01-09|0.123884|0.123884|0.113281|0.117188|   0.0916|215734400|\n",
      "|1984-01-27|0.123326|0.123884|0.114397|0.116629| 0.091163|194096000|\n",
      "|1984-02-23| 0.12221| 0.12221|0.116071|0.119978| 0.093781|155052800|\n",
      "|1984-02-28|0.120536|0.121094|0.112165|0.113839| 0.088982|169926400|\n",
      "|1984-03-05|0.121652| 0.12221|0.117746| 0.11942| 0.093345| 73606400|\n",
      "|1984-03-14|0.120536|0.121094|0.118304|0.118862| 0.092908| 59606400|\n",
      "|1984-06-26|0.121652| 0.12221|0.116071|0.116071| 0.090727|148646400|\n",
      "|1984-07-30|0.121094|0.121652|0.112723|0.113839| 0.088982|125036800|\n",
      "|1984-08-31|0.120536|0.121094|0.116629|0.118304| 0.092472|137849600|\n",
      "|1984-09-21|0.121094|0.124442|0.118304|0.119978| 0.093781| 99836800|\n",
      "|1984-12-10|0.121652|0.121652| 0.11942| 0.11942| 0.093345|111484800|\n",
      "|1985-02-20|0.123326|0.123884|0.117746|0.117746| 0.092036|219968000|\n",
      "|1985-02-26|0.121652| 0.12221| 0.11942| 0.11942| 0.093345|188966400|\n",
      "|1986-03-24|0.123326|0.123326|0.117746| 0.11942| 0.093345|294313600|\n",
      "|1986-04-04|0.120536|0.120536|0.118862| 0.11942| 0.093345|125955200|\n",
      "|1986-04-14|0.120536|0.121652| 0.11942|0.119978| 0.093781| 84963200|\n",
      "|1997-07-01|0.124442|   0.125|0.117188|0.117746| 0.100823|450676800|\n",
      "|1997-12-22|0.123884|   0.125|0.117746|0.118862| 0.101779|159476800|\n",
      "+----------+--------+--------+--------+--------+---------+---------+\n",
      "\n"
     ]
    }
   ],
   "source": [
    "df.filter(df['Close'] < 0.12).filter(df['Open'] > 0.12).show()"
   ]
  },
  {
   "cell_type": "code",
   "execution_count": 55,
   "id": "2550acea",
   "metadata": {
    "execution": {
     "iopub.execute_input": "2023-03-22T13:48:23.539613Z",
     "iopub.status.busy": "2023-03-22T13:48:23.539211Z",
     "iopub.status.idle": "2023-03-22T13:48:23.712888Z",
     "shell.execute_reply": "2023-03-22T13:48:23.711823Z"
    },
    "papermill": {
     "duration": 0.226216,
     "end_time": "2023-03-22T13:48:23.716421",
     "exception": false,
     "start_time": "2023-03-22T13:48:23.490205",
     "status": "completed"
    },
    "tags": []
   },
   "outputs": [
    {
     "name": "stdout",
     "output_type": "stream",
     "text": [
      "+----------+--------+--------+--------+--------+---------+---------+\n",
      "|      Date|    Open|    High|     Low|   Close|Adj Close|   Volume|\n",
      "+----------+--------+--------+--------+--------+---------+---------+\n",
      "|1981-05-14|0.121094|0.121094|0.119978|0.119978| 0.093781|  4928000|\n",
      "|1984-01-09|0.123884|0.123884|0.113281|0.117188|   0.0916|215734400|\n",
      "|1984-01-27|0.123326|0.123884|0.114397|0.116629| 0.091163|194096000|\n",
      "|1984-02-23| 0.12221| 0.12221|0.116071|0.119978| 0.093781|155052800|\n",
      "|1984-02-28|0.120536|0.121094|0.112165|0.113839| 0.088982|169926400|\n",
      "|1984-03-05|0.121652| 0.12221|0.117746| 0.11942| 0.093345| 73606400|\n",
      "|1984-03-14|0.120536|0.121094|0.118304|0.118862| 0.092908| 59606400|\n",
      "|1984-06-26|0.121652| 0.12221|0.116071|0.116071| 0.090727|148646400|\n",
      "|1984-07-30|0.121094|0.121652|0.112723|0.113839| 0.088982|125036800|\n",
      "|1984-08-31|0.120536|0.121094|0.116629|0.118304| 0.092472|137849600|\n",
      "|1984-09-21|0.121094|0.124442|0.118304|0.119978| 0.093781| 99836800|\n",
      "|1984-12-10|0.121652|0.121652| 0.11942| 0.11942| 0.093345|111484800|\n",
      "|1985-02-20|0.123326|0.123884|0.117746|0.117746| 0.092036|219968000|\n",
      "|1985-02-26|0.121652| 0.12221| 0.11942| 0.11942| 0.093345|188966400|\n",
      "|1986-03-24|0.123326|0.123326|0.117746| 0.11942| 0.093345|294313600|\n",
      "|1986-04-04|0.120536|0.120536|0.118862| 0.11942| 0.093345|125955200|\n",
      "|1986-04-14|0.120536|0.121652| 0.11942|0.119978| 0.093781| 84963200|\n",
      "|1997-07-01|0.124442|   0.125|0.117188|0.117746| 0.100823|450676800|\n",
      "|1997-12-22|0.123884|   0.125|0.117746|0.118862| 0.101779|159476800|\n",
      "+----------+--------+--------+--------+--------+---------+---------+\n",
      "\n"
     ]
    }
   ],
   "source": [
    "df.filter((df['Close'] < 0.12) & (df['Open'] > 0.12)).show()"
   ]
  },
  {
   "cell_type": "code",
   "execution_count": 56,
   "id": "df456f23",
   "metadata": {
    "execution": {
     "iopub.execute_input": "2023-03-22T13:48:23.836688Z",
     "iopub.status.busy": "2023-03-22T13:48:23.836334Z",
     "iopub.status.idle": "2023-03-22T13:48:23.951194Z",
     "shell.execute_reply": "2023-03-22T13:48:23.950244Z"
    },
    "papermill": {
     "duration": 0.170285,
     "end_time": "2023-03-22T13:48:23.954396",
     "exception": false,
     "start_time": "2023-03-22T13:48:23.784111",
     "status": "completed"
    },
    "tags": []
   },
   "outputs": [
    {
     "name": "stdout",
     "output_type": "stream",
     "text": [
      "+----------+--------+--------+--------+--------+---------+---------+\n",
      "|      Date|    Open|    High|     Low|   Close|Adj Close|   Volume|\n",
      "+----------+--------+--------+--------+--------+---------+---------+\n",
      "|1981-01-09|0.142299|0.142857|0.142299|0.142299| 0.111228| 21504000|\n",
      "|1981-01-20|0.142857|0.142857|0.142299|0.142299| 0.111228| 30083200|\n",
      "|1982-12-01|0.142299| 0.15067|0.142299|0.145089| 0.113409|206841600|\n",
      "+----------+--------+--------+--------+--------+---------+---------+\n",
      "\n"
     ]
    }
   ],
   "source": [
    "df.filter(df['Low'] == 0.142299).show()"
   ]
  },
  {
   "cell_type": "code",
   "execution_count": 57,
   "id": "56f12d18",
   "metadata": {
    "execution": {
     "iopub.execute_input": "2023-03-22T13:48:24.076517Z",
     "iopub.status.busy": "2023-03-22T13:48:24.076108Z",
     "iopub.status.idle": "2023-03-22T13:48:24.204394Z",
     "shell.execute_reply": "2023-03-22T13:48:24.203104Z"
    },
    "papermill": {
     "duration": 0.186292,
     "end_time": "2023-03-22T13:48:24.207367",
     "exception": false,
     "start_time": "2023-03-22T13:48:24.021075",
     "status": "completed"
    },
    "tags": []
   },
   "outputs": [],
   "source": [
    "result = df.filter(df['Low'] == 0.142299).collect()"
   ]
  },
  {
   "cell_type": "code",
   "execution_count": 68,
   "id": "6ddea7a4",
   "metadata": {
    "execution": {
     "iopub.execute_input": "2023-03-22T13:48:24.316914Z",
     "iopub.status.busy": "2023-03-22T13:48:24.316512Z",
     "iopub.status.idle": "2023-03-22T13:48:24.323841Z",
     "shell.execute_reply": "2023-03-22T13:48:24.322926Z"
    },
    "papermill": {
     "duration": 0.057001,
     "end_time": "2023-03-22T13:48:24.325652",
     "exception": false,
     "start_time": "2023-03-22T13:48:24.268651",
     "status": "completed"
    },
    "tags": []
   },
   "outputs": [
    {
     "name": "stdout",
     "output_type": "stream",
     "text": [
      "[Row(Date=datetime.date(1981, 1, 9), Open=0.142299, High=0.142857, Low=0.142299, Close=0.142299, Adj Close=0.111228, Volume=21504000), Row(Date=datetime.date(1981, 1, 20), Open=0.142857, High=0.142857, Low=0.142299, Close=0.142299, Adj Close=0.111228, Volume=30083200), Row(Date=datetime.date(1982, 12, 1), Open=0.142299, High=0.15067, Low=0.142299, Close=0.145089, Adj Close=0.113409, Volume=206841600)]\n"
     ]
    },
    {
     "data": {
      "text/plain": [
       "{'Date': datetime.date(1981, 1, 9),\n",
       " 'Open': 0.142299,\n",
       " 'High': 0.142857,\n",
       " 'Low': 0.142299,\n",
       " 'Close': 0.142299,\n",
       " 'Adj Close': 0.111228,\n",
       " 'Volume': 21504000}"
      ]
     },
     "execution_count": 68,
     "metadata": {},
     "output_type": "execute_result"
    }
   ],
   "source": [
    "row = result[0]\n",
    "# print( result)\n",
    "row.asDict()"
   ]
  },
  {
   "cell_type": "code",
   "execution_count": 61,
   "id": "a85facab",
   "metadata": {
    "execution": {
     "iopub.execute_input": "2023-03-22T13:48:24.422448Z",
     "iopub.status.busy": "2023-03-22T13:48:24.421422Z",
     "iopub.status.idle": "2023-03-22T13:48:24.427812Z",
     "shell.execute_reply": "2023-03-22T13:48:24.427004Z"
    },
    "papermill": {
     "duration": 0.05657,
     "end_time": "2023-03-22T13:48:24.429576",
     "exception": false,
     "start_time": "2023-03-22T13:48:24.373006",
     "status": "completed"
    },
    "tags": []
   },
   "outputs": [
    {
     "data": {
      "text/plain": [
       "0.142299"
      ]
     },
     "execution_count": 61,
     "metadata": {},
     "output_type": "execute_result"
    }
   ],
   "source": [
    "# row.asDict()['Volume']\n",
    "row.asDict()['Open']\n",
    "# row.asDict()['High']"
   ]
  },
  {
   "cell_type": "markdown",
   "id": "0fc6b659",
   "metadata": {
    "papermill": {
     "duration": 0.045991,
     "end_time": "2023-03-22T13:48:24.523638",
     "exception": false,
     "start_time": "2023-03-22T13:48:24.477647",
     "status": "completed"
    },
    "tags": []
   },
   "source": [
    "# Data Aggregation in Spark Dataframes"
   ]
  },
  {
   "cell_type": "code",
   "execution_count": 69,
   "id": "babe1c8b",
   "metadata": {
    "execution": {
     "iopub.execute_input": "2023-03-22T13:48:24.620040Z",
     "iopub.status.busy": "2023-03-22T13:48:24.619633Z",
     "iopub.status.idle": "2023-03-22T13:48:24.624563Z",
     "shell.execute_reply": "2023-03-22T13:48:24.623754Z"
    },
    "papermill": {
     "duration": 0.054868,
     "end_time": "2023-03-22T13:48:24.626449",
     "exception": false,
     "start_time": "2023-03-22T13:48:24.571581",
     "status": "completed"
    },
    "tags": []
   },
   "outputs": [],
   "source": [
    "from pyspark.sql import SparkSession"
   ]
  },
  {
   "cell_type": "code",
   "execution_count": 70,
   "id": "2bd7ff3d",
   "metadata": {
    "execution": {
     "iopub.execute_input": "2023-03-22T13:48:24.720980Z",
     "iopub.status.busy": "2023-03-22T13:48:24.718903Z",
     "iopub.status.idle": "2023-03-22T13:48:24.729070Z",
     "shell.execute_reply": "2023-03-22T13:48:24.727245Z"
    },
    "papermill": {
     "duration": 0.06012,
     "end_time": "2023-03-22T13:48:24.732273",
     "exception": false,
     "start_time": "2023-03-22T13:48:24.672153",
     "status": "completed"
    },
    "tags": []
   },
   "outputs": [
    {
     "name": "stderr",
     "output_type": "stream",
     "text": [
      "25/10/24 15:31:27 WARN SparkSession: Using an existing Spark session; only runtime SQL configurations will take effect.\n"
     ]
    }
   ],
   "source": [
    "spark = SparkSession.builder.appName('aggs').getOrCreate()"
   ]
  },
  {
   "cell_type": "code",
   "execution_count": 71,
   "id": "4892d0d4",
   "metadata": {
    "execution": {
     "iopub.execute_input": "2023-03-22T13:48:24.827187Z",
     "iopub.status.busy": "2023-03-22T13:48:24.826803Z",
     "iopub.status.idle": "2023-03-22T13:48:25.058387Z",
     "shell.execute_reply": "2023-03-22T13:48:25.057397Z"
    },
    "papermill": {
     "duration": 0.281775,
     "end_time": "2023-03-22T13:48:25.061243",
     "exception": false,
     "start_time": "2023-03-22T13:48:24.779468",
     "status": "completed"
    },
    "tags": []
   },
   "outputs": [],
   "source": [
    "df = spark.read.csv('data/sales_info.csv', header=True, inferSchema=True)"
   ]
  },
  {
   "cell_type": "code",
   "execution_count": 72,
   "id": "9f596ea3",
   "metadata": {
    "execution": {
     "iopub.execute_input": "2023-03-22T13:48:25.199987Z",
     "iopub.status.busy": "2023-03-22T13:48:25.199552Z",
     "iopub.status.idle": "2023-03-22T13:48:25.297042Z",
     "shell.execute_reply": "2023-03-22T13:48:25.294531Z"
    },
    "papermill": {
     "duration": 0.170814,
     "end_time": "2023-03-22T13:48:25.300249",
     "exception": false,
     "start_time": "2023-03-22T13:48:25.129435",
     "status": "completed"
    },
    "tags": []
   },
   "outputs": [
    {
     "name": "stdout",
     "output_type": "stream",
     "text": [
      "+-------+-------+-----+\n",
      "|Company| Person|Sales|\n",
      "+-------+-------+-----+\n",
      "|   GOOG|    Sam|  200|\n",
      "|   GOOG|Charlie|  120|\n",
      "|   MSFT|    Amy|  340|\n",
      "|   MSFT|Vanessa|  124|\n",
      "|     FB|   Carl|  243|\n",
      "|     FB|  Sarah|  350|\n",
      "|   APPL|   John|  250|\n",
      "|   APPL|  Linda|  130|\n",
      "|   APPL|   Mike|  750|\n",
      "|   APPL|  Chris|  350|\n",
      "+-------+-------+-----+\n",
      "\n"
     ]
    }
   ],
   "source": [
    "df.show()"
   ]
  },
  {
   "cell_type": "code",
   "execution_count": 73,
   "id": "93e080bb",
   "metadata": {
    "execution": {
     "iopub.execute_input": "2023-03-22T13:48:25.428083Z",
     "iopub.status.busy": "2023-03-22T13:48:25.427653Z",
     "iopub.status.idle": "2023-03-22T13:48:25.433796Z",
     "shell.execute_reply": "2023-03-22T13:48:25.432683Z"
    },
    "papermill": {
     "duration": 0.073561,
     "end_time": "2023-03-22T13:48:25.437723",
     "exception": false,
     "start_time": "2023-03-22T13:48:25.364162",
     "status": "completed"
    },
    "tags": []
   },
   "outputs": [
    {
     "name": "stdout",
     "output_type": "stream",
     "text": [
      "root\n",
      " |-- Company: string (nullable = true)\n",
      " |-- Person: string (nullable = true)\n",
      " |-- Sales: integer (nullable = true)\n",
      "\n"
     ]
    }
   ],
   "source": [
    "df.printSchema()"
   ]
  },
  {
   "cell_type": "code",
   "execution_count": 74,
   "id": "608fa821",
   "metadata": {
    "execution": {
     "iopub.execute_input": "2023-03-22T13:48:25.568638Z",
     "iopub.status.busy": "2023-03-22T13:48:25.567913Z",
     "iopub.status.idle": "2023-03-22T13:48:25.582072Z",
     "shell.execute_reply": "2023-03-22T13:48:25.581135Z"
    },
    "papermill": {
     "duration": 0.073305,
     "end_time": "2023-03-22T13:48:25.583801",
     "exception": false,
     "start_time": "2023-03-22T13:48:25.510496",
     "status": "completed"
    },
    "tags": []
   },
   "outputs": [
    {
     "data": {
      "text/plain": [
       "GroupedData[grouping expressions: [Company], value: [Company: string, Person: string ... 1 more field], type: GroupBy]"
      ]
     },
     "execution_count": 74,
     "metadata": {},
     "output_type": "execute_result"
    }
   ],
   "source": [
    "df.groupBy(\"Company\")"
   ]
  },
  {
   "cell_type": "code",
   "execution_count": 75,
   "id": "fdba28ac",
   "metadata": {
    "execution": {
     "iopub.execute_input": "2023-03-22T13:48:25.679752Z",
     "iopub.status.busy": "2023-03-22T13:48:25.678450Z",
     "iopub.status.idle": "2023-03-22T13:48:26.030926Z",
     "shell.execute_reply": "2023-03-22T13:48:26.030027Z"
    },
    "papermill": {
     "duration": 0.405635,
     "end_time": "2023-03-22T13:48:26.035545",
     "exception": false,
     "start_time": "2023-03-22T13:48:25.629910",
     "status": "completed"
    },
    "tags": []
   },
   "outputs": [
    {
     "name": "stdout",
     "output_type": "stream",
     "text": [
      "+-------+----------+\n",
      "|Company|avg(Sales)|\n",
      "+-------+----------+\n",
      "|   APPL|     370.0|\n",
      "|   GOOG|     160.0|\n",
      "|     FB|     296.5|\n",
      "|   MSFT|     232.0|\n",
      "+-------+----------+\n",
      "\n"
     ]
    }
   ],
   "source": [
    "df.groupBy(\"Company\").mean().show()"
   ]
  },
  {
   "cell_type": "code",
   "execution_count": 76,
   "id": "67c6f347",
   "metadata": {
    "execution": {
     "iopub.execute_input": "2023-03-22T13:48:26.175109Z",
     "iopub.status.busy": "2023-03-22T13:48:26.174682Z",
     "iopub.status.idle": "2023-03-22T13:48:26.397341Z",
     "shell.execute_reply": "2023-03-22T13:48:26.396217Z"
    },
    "papermill": {
     "duration": 0.298182,
     "end_time": "2023-03-22T13:48:26.400433",
     "exception": false,
     "start_time": "2023-03-22T13:48:26.102251",
     "status": "completed"
    },
    "tags": []
   },
   "outputs": [
    {
     "name": "stdout",
     "output_type": "stream",
     "text": [
      "+-------+-----+\n",
      "|Company|count|\n",
      "+-------+-----+\n",
      "|   APPL|    4|\n",
      "|   GOOG|    2|\n",
      "|     FB|    2|\n",
      "|   MSFT|    2|\n",
      "+-------+-----+\n",
      "\n"
     ]
    }
   ],
   "source": [
    "df.groupBy(\"Company\").count().show()"
   ]
  },
  {
   "cell_type": "code",
   "execution_count": 78,
   "id": "f480b727",
   "metadata": {
    "execution": {
     "iopub.execute_input": "2023-03-22T13:48:26.519543Z",
     "iopub.status.busy": "2023-03-22T13:48:26.519229Z",
     "iopub.status.idle": "2023-03-22T13:48:26.736392Z",
     "shell.execute_reply": "2023-03-22T13:48:26.735323Z"
    },
    "papermill": {
     "duration": 0.270852,
     "end_time": "2023-03-22T13:48:26.738750",
     "exception": false,
     "start_time": "2023-03-22T13:48:26.467898",
     "status": "completed"
    },
    "tags": []
   },
   "outputs": [
    {
     "name": "stdout",
     "output_type": "stream",
     "text": [
      "+-------+----------+\n",
      "|Company|max(Sales)|\n",
      "+-------+----------+\n",
      "|   APPL|       750|\n",
      "|   GOOG|       200|\n",
      "|     FB|       350|\n",
      "|   MSFT|       340|\n",
      "+-------+----------+\n",
      "\n"
     ]
    }
   ],
   "source": [
    "df.groupBy(\"Company\").max().show()"
   ]
  },
  {
   "cell_type": "code",
   "execution_count": 79,
   "id": "cdcf1bdc",
   "metadata": {
    "execution": {
     "iopub.execute_input": "2023-03-22T13:48:26.837452Z",
     "iopub.status.busy": "2023-03-22T13:48:26.837056Z",
     "iopub.status.idle": "2023-03-22T13:48:26.970709Z",
     "shell.execute_reply": "2023-03-22T13:48:26.969068Z"
    },
    "papermill": {
     "duration": 0.185752,
     "end_time": "2023-03-22T13:48:26.973725",
     "exception": false,
     "start_time": "2023-03-22T13:48:26.787973",
     "status": "completed"
    },
    "tags": []
   },
   "outputs": [
    {
     "name": "stdout",
     "output_type": "stream",
     "text": [
      "+----------+\n",
      "|sum(Sales)|\n",
      "+----------+\n",
      "|      2857|\n",
      "+----------+\n",
      "\n"
     ]
    }
   ],
   "source": [
    "df.agg({'Sales':'sum'}).show()"
   ]
  },
  {
   "cell_type": "code",
   "execution_count": 80,
   "id": "c150c618",
   "metadata": {
    "execution": {
     "iopub.execute_input": "2023-03-22T13:48:27.073677Z",
     "iopub.status.busy": "2023-03-22T13:48:27.073337Z",
     "iopub.status.idle": "2023-03-22T13:48:27.256539Z",
     "shell.execute_reply": "2023-03-22T13:48:27.254762Z"
    },
    "papermill": {
     "duration": 0.23626,
     "end_time": "2023-03-22T13:48:27.260873",
     "exception": false,
     "start_time": "2023-03-22T13:48:27.024613",
     "status": "completed"
    },
    "tags": []
   },
   "outputs": [
    {
     "name": "stdout",
     "output_type": "stream",
     "text": [
      "+----------+\n",
      "|max(Sales)|\n",
      "+----------+\n",
      "|       750|\n",
      "+----------+\n",
      "\n"
     ]
    }
   ],
   "source": [
    "df.agg({'Sales':'max'}).show()"
   ]
  },
  {
   "cell_type": "code",
   "execution_count": 81,
   "id": "a7cc2564",
   "metadata": {},
   "outputs": [
    {
     "name": "stdout",
     "output_type": "stream",
     "text": [
      "+----------+\n",
      "|min(Sales)|\n",
      "+----------+\n",
      "|       120|\n",
      "+----------+\n",
      "\n"
     ]
    }
   ],
   "source": [
    "df.agg({'Sales':'min'}).show()"
   ]
  },
  {
   "cell_type": "code",
   "execution_count": 82,
   "id": "0044e54c",
   "metadata": {},
   "outputs": [
    {
     "name": "stdout",
     "output_type": "stream",
     "text": [
      "+----------+\n",
      "|avg(Sales)|\n",
      "+----------+\n",
      "|     285.7|\n",
      "+----------+\n",
      "\n"
     ]
    }
   ],
   "source": [
    "df.agg({'Sales':'avg'}).show()"
   ]
  },
  {
   "cell_type": "code",
   "execution_count": 83,
   "id": "506178a0",
   "metadata": {
    "execution": {
     "iopub.execute_input": "2023-03-22T13:48:27.398423Z",
     "iopub.status.busy": "2023-03-22T13:48:27.398100Z",
     "iopub.status.idle": "2023-03-22T13:48:27.543068Z",
     "shell.execute_reply": "2023-03-22T13:48:27.542088Z"
    },
    "papermill": {
     "duration": 0.210976,
     "end_time": "2023-03-22T13:48:27.546644",
     "exception": false,
     "start_time": "2023-03-22T13:48:27.335668",
     "status": "completed"
    },
    "tags": []
   },
   "outputs": [
    {
     "name": "stdout",
     "output_type": "stream",
     "text": [
      "+-------+----------+\n",
      "|Company|max(Sales)|\n",
      "+-------+----------+\n",
      "|   APPL|       750|\n",
      "|   GOOG|       200|\n",
      "|     FB|       350|\n",
      "|   MSFT|       340|\n",
      "+-------+----------+\n",
      "\n"
     ]
    }
   ],
   "source": [
    "group_data = df.groupBy(\"Company\")\n",
    "group_data.agg({'Sales':'max'}).show()"
   ]
  },
  {
   "cell_type": "markdown",
   "id": "3481097e",
   "metadata": {},
   "source": [
    "---\n",
    "### 📍 BOOKMARK: Continue from here\n",
    "Last session ended: Data Aggregation section\n",
    "Next: Work on functions and advanced aggregations\n",
    "---"
   ]
  },
  {
   "cell_type": "code",
   "execution_count": 51,
   "id": "2a198167",
   "metadata": {
    "execution": {
     "iopub.execute_input": "2023-03-22T13:48:27.643101Z",
     "iopub.status.busy": "2023-03-22T13:48:27.642696Z",
     "iopub.status.idle": "2023-03-22T13:48:27.768823Z",
     "shell.execute_reply": "2023-03-22T13:48:27.767824Z"
    },
    "papermill": {
     "duration": 0.177574,
     "end_time": "2023-03-22T13:48:27.771901",
     "exception": false,
     "start_time": "2023-03-22T13:48:27.594327",
     "status": "completed"
    },
    "tags": []
   },
   "outputs": [
    {
     "name": "stdout",
     "output_type": "stream",
     "text": [
      "+-----------------+\n",
      "|    Average Sales|\n",
      "+-----------------+\n",
      "|360.5833333333333|\n",
      "+-----------------+\n",
      "\n"
     ]
    }
   ],
   "source": [
    "from pyspark.sql.functions import countDistinct,avg,stddev\n",
    "\n",
    "df.select(avg('Sales').alias('Average Sales')).show()"
   ]
  },
  {
   "cell_type": "code",
   "execution_count": 52,
   "id": "b4d2f83c",
   "metadata": {
    "execution": {
     "iopub.execute_input": "2023-03-22T13:48:27.869551Z",
     "iopub.status.busy": "2023-03-22T13:48:27.869236Z",
     "iopub.status.idle": "2023-03-22T13:48:28.079761Z",
     "shell.execute_reply": "2023-03-22T13:48:28.078011Z"
    },
    "papermill": {
     "duration": 0.262544,
     "end_time": "2023-03-22T13:48:28.082761",
     "exception": false,
     "start_time": "2023-03-22T13:48:27.820217",
     "status": "completed"
    },
    "tags": []
   },
   "outputs": [
    {
     "name": "stdout",
     "output_type": "stream",
     "text": [
      "+---------------------+\n",
      "|count(DISTINCT Sales)|\n",
      "+---------------------+\n",
      "|                   11|\n",
      "+---------------------+\n",
      "\n"
     ]
    }
   ],
   "source": [
    "df.select(countDistinct('Sales')).show()"
   ]
  },
  {
   "cell_type": "code",
   "execution_count": 53,
   "id": "ce81ab43",
   "metadata": {
    "execution": {
     "iopub.execute_input": "2023-03-22T13:48:28.178117Z",
     "iopub.status.busy": "2023-03-22T13:48:28.177721Z",
     "iopub.status.idle": "2023-03-22T13:48:28.313552Z",
     "shell.execute_reply": "2023-03-22T13:48:28.312623Z"
    },
    "papermill": {
     "duration": 0.186121,
     "end_time": "2023-03-22T13:48:28.316013",
     "exception": false,
     "start_time": "2023-03-22T13:48:28.129892",
     "status": "completed"
    },
    "tags": []
   },
   "outputs": [
    {
     "name": "stdout",
     "output_type": "stream",
     "text": [
      "+-------+-------+-----+\n",
      "|Company| Person|Sales|\n",
      "+-------+-------+-----+\n",
      "|   GOOG|Charlie|120.0|\n",
      "|   MSFT|    Amy|124.0|\n",
      "|   APPL|  Linda|130.0|\n",
      "|   GOOG|    Sam|200.0|\n",
      "|   MSFT|Vanessa|243.0|\n",
      "|   APPL|   John|250.0|\n",
      "|   GOOG|  Frank|340.0|\n",
      "|     FB|  Sarah|350.0|\n",
      "|   APPL|  Chris|350.0|\n",
      "|   MSFT|   Tina|600.0|\n",
      "|   APPL|   Mike|750.0|\n",
      "|     FB|   Carl|870.0|\n",
      "+-------+-------+-----+\n",
      "\n"
     ]
    }
   ],
   "source": [
    "df.orderBy('Sales').show() # OrderBy Ascending"
   ]
  },
  {
   "cell_type": "code",
   "execution_count": 54,
   "id": "e6fc2c08",
   "metadata": {
    "execution": {
     "iopub.execute_input": "2023-03-22T13:48:28.414582Z",
     "iopub.status.busy": "2023-03-22T13:48:28.413623Z",
     "iopub.status.idle": "2023-03-22T13:48:28.498583Z",
     "shell.execute_reply": "2023-03-22T13:48:28.497450Z"
    },
    "papermill": {
     "duration": 0.139414,
     "end_time": "2023-03-22T13:48:28.502563",
     "exception": false,
     "start_time": "2023-03-22T13:48:28.363149",
     "status": "completed"
    },
    "tags": []
   },
   "outputs": [
    {
     "name": "stdout",
     "output_type": "stream",
     "text": [
      "+-------+-------+-----+\n",
      "|Company| Person|Sales|\n",
      "+-------+-------+-----+\n",
      "|     FB|   Carl|870.0|\n",
      "|   APPL|   Mike|750.0|\n",
      "|   MSFT|   Tina|600.0|\n",
      "|     FB|  Sarah|350.0|\n",
      "|   APPL|  Chris|350.0|\n",
      "|   GOOG|  Frank|340.0|\n",
      "|   APPL|   John|250.0|\n",
      "|   MSFT|Vanessa|243.0|\n",
      "|   GOOG|    Sam|200.0|\n",
      "|   APPL|  Linda|130.0|\n",
      "|   MSFT|    Amy|124.0|\n",
      "|   GOOG|Charlie|120.0|\n",
      "+-------+-------+-----+\n",
      "\n"
     ]
    }
   ],
   "source": [
    "df.orderBy(df['Sales'].desc()).show() # OrderBy Descending"
   ]
  },
  {
   "cell_type": "markdown",
   "id": "d6ae1447",
   "metadata": {
    "papermill": {
     "duration": 0.047693,
     "end_time": "2023-03-22T13:48:28.605882",
     "exception": false,
     "start_time": "2023-03-22T13:48:28.558189",
     "status": "completed"
    },
    "tags": []
   },
   "source": [
    "# Handling Missing Data"
   ]
  },
  {
   "cell_type": "code",
   "execution_count": 55,
   "id": "8c28b82f",
   "metadata": {
    "execution": {
     "iopub.execute_input": "2023-03-22T13:48:28.703034Z",
     "iopub.status.busy": "2023-03-22T13:48:28.702677Z",
     "iopub.status.idle": "2023-03-22T13:48:28.901142Z",
     "shell.execute_reply": "2023-03-22T13:48:28.900151Z"
    },
    "papermill": {
     "duration": 0.249977,
     "end_time": "2023-03-22T13:48:28.903948",
     "exception": false,
     "start_time": "2023-03-22T13:48:28.653971",
     "status": "completed"
    },
    "tags": []
   },
   "outputs": [],
   "source": [
    "df = spark.read.csv('/kaggle/input/null-data/ContainsNull.csv', inferSchema=True, header=True)"
   ]
  },
  {
   "cell_type": "code",
   "execution_count": 56,
   "id": "daf5aab5",
   "metadata": {
    "execution": {
     "iopub.execute_input": "2023-03-22T13:48:29.025928Z",
     "iopub.status.busy": "2023-03-22T13:48:29.025517Z",
     "iopub.status.idle": "2023-03-22T13:48:29.090041Z",
     "shell.execute_reply": "2023-03-22T13:48:29.088446Z"
    },
    "papermill": {
     "duration": 0.11995,
     "end_time": "2023-03-22T13:48:29.092823",
     "exception": false,
     "start_time": "2023-03-22T13:48:28.972873",
     "status": "completed"
    },
    "tags": []
   },
   "outputs": [
    {
     "name": "stdout",
     "output_type": "stream",
     "text": [
      "+----+-----+-----+\n",
      "|  Id| Name|Sales|\n",
      "+----+-----+-----+\n",
      "|emp1| John| null|\n",
      "|emp2| null| null|\n",
      "|emp3| null|345.0|\n",
      "|emp4|Cindy|456.0|\n",
      "+----+-----+-----+\n",
      "\n"
     ]
    }
   ],
   "source": [
    "df.show()"
   ]
  },
  {
   "cell_type": "code",
   "execution_count": 57,
   "id": "81bb1b20",
   "metadata": {
    "execution": {
     "iopub.execute_input": "2023-03-22T13:48:29.198578Z",
     "iopub.status.busy": "2023-03-22T13:48:29.198173Z",
     "iopub.status.idle": "2023-03-22T13:48:29.287808Z",
     "shell.execute_reply": "2023-03-22T13:48:29.286700Z"
    },
    "papermill": {
     "duration": 0.142719,
     "end_time": "2023-03-22T13:48:29.290346",
     "exception": false,
     "start_time": "2023-03-22T13:48:29.147627",
     "status": "completed"
    },
    "tags": []
   },
   "outputs": [
    {
     "name": "stdout",
     "output_type": "stream",
     "text": [
      "+----+-----+-----+\n",
      "|  Id| Name|Sales|\n",
      "+----+-----+-----+\n",
      "|emp4|Cindy|456.0|\n",
      "+----+-----+-----+\n",
      "\n"
     ]
    }
   ],
   "source": [
    "df.na.drop().show() # Drops all rows affected with atleast one Null Values"
   ]
  },
  {
   "cell_type": "code",
   "execution_count": 58,
   "id": "a2b26b73",
   "metadata": {
    "execution": {
     "iopub.execute_input": "2023-03-22T13:48:29.388636Z",
     "iopub.status.busy": "2023-03-22T13:48:29.388294Z",
     "iopub.status.idle": "2023-03-22T13:48:29.484719Z",
     "shell.execute_reply": "2023-03-22T13:48:29.483746Z"
    },
    "papermill": {
     "duration": 0.14789,
     "end_time": "2023-03-22T13:48:29.487584",
     "exception": false,
     "start_time": "2023-03-22T13:48:29.339694",
     "status": "completed"
    },
    "tags": []
   },
   "outputs": [
    {
     "name": "stdout",
     "output_type": "stream",
     "text": [
      "+----+-----+-----+\n",
      "|  Id| Name|Sales|\n",
      "+----+-----+-----+\n",
      "|emp1| John| null|\n",
      "|emp3| null|345.0|\n",
      "|emp4|Cindy|456.0|\n",
      "+----+-----+-----+\n",
      "\n"
     ]
    }
   ],
   "source": [
    "df.na.drop(thresh=2).show() # Drops rows affected with atleast 2 Null Values"
   ]
  },
  {
   "cell_type": "code",
   "execution_count": 59,
   "id": "f80d6807",
   "metadata": {
    "execution": {
     "iopub.execute_input": "2023-03-22T13:48:29.604681Z",
     "iopub.status.busy": "2023-03-22T13:48:29.604179Z",
     "iopub.status.idle": "2023-03-22T13:48:29.699685Z",
     "shell.execute_reply": "2023-03-22T13:48:29.698788Z"
    },
    "papermill": {
     "duration": 0.14836,
     "end_time": "2023-03-22T13:48:29.702093",
     "exception": false,
     "start_time": "2023-03-22T13:48:29.553733",
     "status": "completed"
    },
    "tags": []
   },
   "outputs": [
    {
     "name": "stdout",
     "output_type": "stream",
     "text": [
      "+----+-----+-----+\n",
      "|  Id| Name|Sales|\n",
      "+----+-----+-----+\n",
      "|emp1| John| null|\n",
      "|emp2| null| null|\n",
      "|emp3| null|345.0|\n",
      "|emp4|Cindy|456.0|\n",
      "+----+-----+-----+\n",
      "\n"
     ]
    }
   ],
   "source": [
    "df.na.drop(how='all').show() # Drop Rows if all values are Null"
   ]
  },
  {
   "cell_type": "code",
   "execution_count": 60,
   "id": "9150786c",
   "metadata": {
    "execution": {
     "iopub.execute_input": "2023-03-22T13:48:29.806175Z",
     "iopub.status.busy": "2023-03-22T13:48:29.805804Z",
     "iopub.status.idle": "2023-03-22T13:48:29.908724Z",
     "shell.execute_reply": "2023-03-22T13:48:29.907245Z"
    },
    "papermill": {
     "duration": 0.155586,
     "end_time": "2023-03-22T13:48:29.911290",
     "exception": false,
     "start_time": "2023-03-22T13:48:29.755704",
     "status": "completed"
    },
    "tags": []
   },
   "outputs": [
    {
     "name": "stdout",
     "output_type": "stream",
     "text": [
      "+----+-----+-----+\n",
      "|  Id| Name|Sales|\n",
      "+----+-----+-----+\n",
      "|emp4|Cindy|456.0|\n",
      "+----+-----+-----+\n",
      "\n"
     ]
    }
   ],
   "source": [
    "df.na.drop(how='any').show() # Drop Rows if any value is Null"
   ]
  },
  {
   "cell_type": "code",
   "execution_count": 61,
   "id": "14ff2464",
   "metadata": {
    "execution": {
     "iopub.execute_input": "2023-03-22T13:48:30.057269Z",
     "iopub.status.busy": "2023-03-22T13:48:30.056847Z",
     "iopub.status.idle": "2023-03-22T13:48:30.161744Z",
     "shell.execute_reply": "2023-03-22T13:48:30.160481Z"
    },
    "papermill": {
     "duration": 0.174614,
     "end_time": "2023-03-22T13:48:30.165372",
     "exception": false,
     "start_time": "2023-03-22T13:48:29.990758",
     "status": "completed"
    },
    "tags": []
   },
   "outputs": [
    {
     "name": "stdout",
     "output_type": "stream",
     "text": [
      "+----+-----+-----+\n",
      "|  Id| Name|Sales|\n",
      "+----+-----+-----+\n",
      "|emp3| null|345.0|\n",
      "|emp4|Cindy|456.0|\n",
      "+----+-----+-----+\n",
      "\n"
     ]
    }
   ],
   "source": [
    "df.na.drop(subset=['Sales']).show() # Drop only those rows where Sales is Null"
   ]
  },
  {
   "cell_type": "code",
   "execution_count": 62,
   "id": "ecb74aaf",
   "metadata": {
    "execution": {
     "iopub.execute_input": "2023-03-22T13:48:30.277601Z",
     "iopub.status.busy": "2023-03-22T13:48:30.277205Z",
     "iopub.status.idle": "2023-03-22T13:48:30.382163Z",
     "shell.execute_reply": "2023-03-22T13:48:30.380633Z"
    },
    "papermill": {
     "duration": 0.157579,
     "end_time": "2023-03-22T13:48:30.385416",
     "exception": false,
     "start_time": "2023-03-22T13:48:30.227837",
     "status": "completed"
    },
    "tags": []
   },
   "outputs": [
    {
     "name": "stdout",
     "output_type": "stream",
     "text": [
      "+----+-----+-----+\n",
      "|  Id| Name|Sales|\n",
      "+----+-----+-----+\n",
      "|emp1| John|  0.0|\n",
      "|emp2| null|  0.0|\n",
      "|emp3| null|345.0|\n",
      "|emp4|Cindy|456.0|\n",
      "+----+-----+-----+\n",
      "\n"
     ]
    }
   ],
   "source": [
    "df.na.fill(0).show()"
   ]
  },
  {
   "cell_type": "code",
   "execution_count": 63,
   "id": "c3148d3c",
   "metadata": {
    "execution": {
     "iopub.execute_input": "2023-03-22T13:48:30.526293Z",
     "iopub.status.busy": "2023-03-22T13:48:30.525877Z",
     "iopub.status.idle": "2023-03-22T13:48:30.619652Z",
     "shell.execute_reply": "2023-03-22T13:48:30.618102Z"
    },
    "papermill": {
     "duration": 0.169884,
     "end_time": "2023-03-22T13:48:30.622460",
     "exception": false,
     "start_time": "2023-03-22T13:48:30.452576",
     "status": "completed"
    },
    "tags": []
   },
   "outputs": [
    {
     "name": "stdout",
     "output_type": "stream",
     "text": [
      "+----+-------+-----+\n",
      "|  Id|   Name|Sales|\n",
      "+----+-------+-----+\n",
      "|emp1|   John| null|\n",
      "|emp2|unknown| null|\n",
      "|emp3|unknown|345.0|\n",
      "|emp4|  Cindy|456.0|\n",
      "+----+-------+-----+\n",
      "\n"
     ]
    }
   ],
   "source": [
    "df.na.fill('unknown').show()"
   ]
  },
  {
   "cell_type": "code",
   "execution_count": 64,
   "id": "363f9f23",
   "metadata": {
    "execution": {
     "iopub.execute_input": "2023-03-22T13:48:30.736182Z",
     "iopub.status.busy": "2023-03-22T13:48:30.735721Z",
     "iopub.status.idle": "2023-03-22T13:48:30.818143Z",
     "shell.execute_reply": "2023-03-22T13:48:30.816502Z"
    },
    "papermill": {
     "duration": 0.136663,
     "end_time": "2023-03-22T13:48:30.821420",
     "exception": false,
     "start_time": "2023-03-22T13:48:30.684757",
     "status": "completed"
    },
    "tags": []
   },
   "outputs": [
    {
     "name": "stdout",
     "output_type": "stream",
     "text": [
      "+----+-------+-----+\n",
      "|  Id|   Name|Sales|\n",
      "+----+-------+-----+\n",
      "|emp1|   John| null|\n",
      "|emp2|unknown| null|\n",
      "|emp3|unknown|345.0|\n",
      "|emp4|  Cindy|456.0|\n",
      "+----+-------+-----+\n",
      "\n"
     ]
    }
   ],
   "source": [
    "df.na.fill('unknown', subset=['Name']).show()"
   ]
  },
  {
   "cell_type": "code",
   "execution_count": 65,
   "id": "9cb56768",
   "metadata": {
    "execution": {
     "iopub.execute_input": "2023-03-22T13:48:30.926840Z",
     "iopub.status.busy": "2023-03-22T13:48:30.926399Z",
     "iopub.status.idle": "2023-03-22T13:48:30.932760Z",
     "shell.execute_reply": "2023-03-22T13:48:30.930370Z"
    },
    "papermill": {
     "duration": 0.059215,
     "end_time": "2023-03-22T13:48:30.935658",
     "exception": false,
     "start_time": "2023-03-22T13:48:30.876443",
     "status": "completed"
    },
    "tags": []
   },
   "outputs": [],
   "source": [
    "from pyspark.sql.functions import mean"
   ]
  },
  {
   "cell_type": "code",
   "execution_count": 66,
   "id": "a5c7b3ce",
   "metadata": {
    "execution": {
     "iopub.execute_input": "2023-03-22T13:48:31.035477Z",
     "iopub.status.busy": "2023-03-22T13:48:31.035098Z",
     "iopub.status.idle": "2023-03-22T13:48:31.144425Z",
     "shell.execute_reply": "2023-03-22T13:48:31.143366Z"
    },
    "papermill": {
     "duration": 0.162243,
     "end_time": "2023-03-22T13:48:31.147210",
     "exception": false,
     "start_time": "2023-03-22T13:48:30.984967",
     "status": "completed"
    },
    "tags": []
   },
   "outputs": [],
   "source": [
    "mean_val = df.select(mean(df['Sales'])).collect()"
   ]
  },
  {
   "cell_type": "code",
   "execution_count": 67,
   "id": "f9acc7e4",
   "metadata": {
    "execution": {
     "iopub.execute_input": "2023-03-22T13:48:31.250362Z",
     "iopub.status.busy": "2023-03-22T13:48:31.249983Z",
     "iopub.status.idle": "2023-03-22T13:48:31.255911Z",
     "shell.execute_reply": "2023-03-22T13:48:31.254299Z"
    },
    "papermill": {
     "duration": 0.060055,
     "end_time": "2023-03-22T13:48:31.259231",
     "exception": false,
     "start_time": "2023-03-22T13:48:31.199176",
     "status": "completed"
    },
    "tags": []
   },
   "outputs": [],
   "source": [
    "mean_sales = mean_val[0][0]"
   ]
  },
  {
   "cell_type": "code",
   "execution_count": 68,
   "id": "de18e265",
   "metadata": {
    "execution": {
     "iopub.execute_input": "2023-03-22T13:48:31.358977Z",
     "iopub.status.busy": "2023-03-22T13:48:31.358586Z",
     "iopub.status.idle": "2023-03-22T13:48:31.444901Z",
     "shell.execute_reply": "2023-03-22T13:48:31.443396Z"
    },
    "papermill": {
     "duration": 0.14034,
     "end_time": "2023-03-22T13:48:31.447938",
     "exception": false,
     "start_time": "2023-03-22T13:48:31.307598",
     "status": "completed"
    },
    "tags": []
   },
   "outputs": [
    {
     "name": "stdout",
     "output_type": "stream",
     "text": [
      "+----+-----+-----+\n",
      "|  Id| Name|Sales|\n",
      "+----+-----+-----+\n",
      "|emp1| John|400.5|\n",
      "|emp2| null|400.5|\n",
      "|emp3| null|345.0|\n",
      "|emp4|Cindy|456.0|\n",
      "+----+-----+-----+\n",
      "\n"
     ]
    }
   ],
   "source": [
    "df.na.fill(mean_sales, subset=['Sales']).show()"
   ]
  },
  {
   "cell_type": "markdown",
   "id": "b4d5b05e",
   "metadata": {
    "papermill": {
     "duration": 0.047341,
     "end_time": "2023-03-22T13:48:31.546616",
     "exception": false,
     "start_time": "2023-03-22T13:48:31.499275",
     "status": "completed"
    },
    "tags": []
   },
   "source": [
    "# Dates and Timestamps in Spark Dataframe"
   ]
  },
  {
   "cell_type": "code",
   "execution_count": 69,
   "id": "2d17168f",
   "metadata": {
    "execution": {
     "iopub.execute_input": "2023-03-22T13:48:31.642230Z",
     "iopub.status.busy": "2023-03-22T13:48:31.641864Z",
     "iopub.status.idle": "2023-03-22T13:48:31.906281Z",
     "shell.execute_reply": "2023-03-22T13:48:31.905438Z"
    },
    "papermill": {
     "duration": 0.315753,
     "end_time": "2023-03-22T13:48:31.909151",
     "exception": false,
     "start_time": "2023-03-22T13:48:31.593398",
     "status": "completed"
    },
    "tags": []
   },
   "outputs": [
    {
     "name": "stdout",
     "output_type": "stream",
     "text": [
      "+-------------------+------------------+------------------+------------------+------------------+---------+------------------+\n",
      "|               Date|              Open|              High|               Low|             Close|   Volume|         Adj Close|\n",
      "+-------------------+------------------+------------------+------------------+------------------+---------+------------------+\n",
      "|2010-01-04 00:00:00|        213.429998|        214.499996|212.38000099999996|        214.009998|123432400|         27.727039|\n",
      "|2010-01-05 00:00:00|        214.599998|        215.589994|        213.249994|        214.379993|150476200|27.774976000000002|\n",
      "|2010-01-06 00:00:00|        214.379993|            215.23|        210.750004|        210.969995|138040000|27.333178000000004|\n",
      "|2010-01-07 00:00:00|            211.75|        212.000006|        209.050005|            210.58|119282800|          27.28265|\n",
      "|2010-01-08 00:00:00|        210.299994|        212.000006|209.06000500000002|211.98000499999998|111902700|         27.464034|\n",
      "|2010-01-11 00:00:00|212.79999700000002|        213.000002|        208.450005|210.11000299999998|115557400|         27.221758|\n",
      "|2010-01-12 00:00:00|209.18999499999998|209.76999500000002|        206.419998|        207.720001|148614900|          26.91211|\n",
      "|2010-01-13 00:00:00|        207.870005|210.92999500000002|        204.099998|        210.650002|151473000|          27.29172|\n",
      "|2010-01-14 00:00:00|210.11000299999998|210.45999700000002|        209.020004|            209.43|108223500|         27.133657|\n",
      "|2010-01-15 00:00:00|210.92999500000002|211.59999700000003|        205.869999|            205.93|148516900|26.680197999999997|\n",
      "|2010-01-19 00:00:00|        208.330002|215.18999900000003|        207.240004|        215.039995|182501900|27.860484999999997|\n",
      "|2010-01-20 00:00:00|        214.910006|        215.549994|        209.500002|            211.73|153038200|         27.431644|\n",
      "|2010-01-21 00:00:00|        212.079994|213.30999599999998|        207.210003|        208.069996|152038600|         26.957455|\n",
      "|2010-01-22 00:00:00|206.78000600000001|        207.499996|            197.16|            197.75|220441900|         25.620401|\n",
      "|2010-01-25 00:00:00|202.51000200000001|        204.699999|        200.190002|        203.070002|266424900|26.309658000000002|\n",
      "|2010-01-26 00:00:00|205.95000100000001|        213.710005|        202.580004|        205.940001|466777500|         26.681494|\n",
      "|2010-01-27 00:00:00|        206.849995|            210.58|        199.530001|        207.880005|430642100|26.932840000000002|\n",
      "|2010-01-28 00:00:00|        204.930004|        205.500004|        198.699995|        199.289995|293375600|25.819922000000002|\n",
      "|2010-01-29 00:00:00|        201.079996|        202.199995|        190.250002|        192.060003|311488100|         24.883208|\n",
      "|2010-02-01 00:00:00|192.36999699999998|             196.0|191.29999899999999|        194.729998|187469100|         25.229131|\n",
      "+-------------------+------------------+------------------+------------------+------------------+---------+------------------+\n",
      "only showing top 20 rows\n",
      "\n"
     ]
    }
   ],
   "source": [
    "df = spark.read.csv('/kaggle/input/apple-stock/appl_stock.csv', inferSchema=True, header=True)\n",
    "\n",
    "df.show()"
   ]
  },
  {
   "cell_type": "code",
   "execution_count": 70,
   "id": "32dda8b9",
   "metadata": {
    "execution": {
     "iopub.execute_input": "2023-03-22T13:48:32.006956Z",
     "iopub.status.busy": "2023-03-22T13:48:32.006575Z",
     "iopub.status.idle": "2023-03-22T13:48:32.059031Z",
     "shell.execute_reply": "2023-03-22T13:48:32.057993Z"
    },
    "papermill": {
     "duration": 0.103355,
     "end_time": "2023-03-22T13:48:32.061303",
     "exception": false,
     "start_time": "2023-03-22T13:48:31.957948",
     "status": "completed"
    },
    "tags": []
   },
   "outputs": [
    {
     "data": {
      "text/plain": [
       "[Row(Date=datetime.datetime(2010, 1, 4, 0, 0), Open=213.429998, High=214.499996, Low=212.38000099999996, Close=214.009998, Volume=123432400, Adj Close=27.727039)]"
      ]
     },
     "execution_count": 70,
     "metadata": {},
     "output_type": "execute_result"
    }
   ],
   "source": [
    "df.head(1)"
   ]
  },
  {
   "cell_type": "code",
   "execution_count": 71,
   "id": "eb2e6a9f",
   "metadata": {
    "execution": {
     "iopub.execute_input": "2023-03-22T13:48:32.160663Z",
     "iopub.status.busy": "2023-03-22T13:48:32.160305Z",
     "iopub.status.idle": "2023-03-22T13:48:32.240347Z",
     "shell.execute_reply": "2023-03-22T13:48:32.239365Z"
    },
    "papermill": {
     "duration": 0.133757,
     "end_time": "2023-03-22T13:48:32.244001",
     "exception": false,
     "start_time": "2023-03-22T13:48:32.110244",
     "status": "completed"
    },
    "tags": []
   },
   "outputs": [
    {
     "name": "stdout",
     "output_type": "stream",
     "text": [
      "+------------------+-------------------+------------------+\n",
      "|              Open|               Date|             Close|\n",
      "+------------------+-------------------+------------------+\n",
      "|        213.429998|2010-01-04 00:00:00|        214.009998|\n",
      "|        214.599998|2010-01-05 00:00:00|        214.379993|\n",
      "|        214.379993|2010-01-06 00:00:00|        210.969995|\n",
      "|            211.75|2010-01-07 00:00:00|            210.58|\n",
      "|        210.299994|2010-01-08 00:00:00|211.98000499999998|\n",
      "|212.79999700000002|2010-01-11 00:00:00|210.11000299999998|\n",
      "|209.18999499999998|2010-01-12 00:00:00|        207.720001|\n",
      "|        207.870005|2010-01-13 00:00:00|        210.650002|\n",
      "|210.11000299999998|2010-01-14 00:00:00|            209.43|\n",
      "|210.92999500000002|2010-01-15 00:00:00|            205.93|\n",
      "|        208.330002|2010-01-19 00:00:00|        215.039995|\n",
      "|        214.910006|2010-01-20 00:00:00|            211.73|\n",
      "|        212.079994|2010-01-21 00:00:00|        208.069996|\n",
      "|206.78000600000001|2010-01-22 00:00:00|            197.75|\n",
      "|202.51000200000001|2010-01-25 00:00:00|        203.070002|\n",
      "|205.95000100000001|2010-01-26 00:00:00|        205.940001|\n",
      "|        206.849995|2010-01-27 00:00:00|        207.880005|\n",
      "|        204.930004|2010-01-28 00:00:00|        199.289995|\n",
      "|        201.079996|2010-01-29 00:00:00|        192.060003|\n",
      "|192.36999699999998|2010-02-01 00:00:00|        194.729998|\n",
      "+------------------+-------------------+------------------+\n",
      "only showing top 20 rows\n",
      "\n"
     ]
    }
   ],
   "source": [
    "df.select(['Open', 'Date', 'Close']).show()"
   ]
  },
  {
   "cell_type": "code",
   "execution_count": 72,
   "id": "e0a32d13",
   "metadata": {
    "execution": {
     "iopub.execute_input": "2023-03-22T13:48:32.372958Z",
     "iopub.status.busy": "2023-03-22T13:48:32.371216Z",
     "iopub.status.idle": "2023-03-22T13:48:32.511888Z",
     "shell.execute_reply": "2023-03-22T13:48:32.510846Z"
    },
    "papermill": {
     "duration": 0.207058,
     "end_time": "2023-03-22T13:48:32.518202",
     "exception": false,
     "start_time": "2023-03-22T13:48:32.311144",
     "status": "completed"
    },
    "tags": []
   },
   "outputs": [
    {
     "name": "stdout",
     "output_type": "stream",
     "text": [
      "+---+-----+----+\n",
      "|Day|Month|Year|\n",
      "+---+-----+----+\n",
      "|  4|    1|2010|\n",
      "|  5|    1|2010|\n",
      "|  6|    1|2010|\n",
      "|  7|    1|2010|\n",
      "|  8|    1|2010|\n",
      "| 11|    1|2010|\n",
      "| 12|    1|2010|\n",
      "| 13|    1|2010|\n",
      "| 14|    1|2010|\n",
      "| 15|    1|2010|\n",
      "| 19|    1|2010|\n",
      "| 20|    1|2010|\n",
      "| 21|    1|2010|\n",
      "| 22|    1|2010|\n",
      "| 25|    1|2010|\n",
      "| 26|    1|2010|\n",
      "| 27|    1|2010|\n",
      "| 28|    1|2010|\n",
      "| 29|    1|2010|\n",
      "|  1|    2|2010|\n",
      "+---+-----+----+\n",
      "only showing top 20 rows\n",
      "\n"
     ]
    }
   ],
   "source": [
    "from pyspark.sql.functions import (dayofmonth, hour, dayofyear, month, year, weekofyear, format_number, date_format)\n",
    "\n",
    "df.select(dayofmonth(df['Date']).alias('Day'),\n",
    "          month(df['Date']).alias('Month'),\n",
    "          year(df['Date']).alias('Year')).show()"
   ]
  },
  {
   "cell_type": "code",
   "execution_count": 73,
   "id": "b468240c",
   "metadata": {
    "execution": {
     "iopub.execute_input": "2023-03-22T13:48:32.666530Z",
     "iopub.status.busy": "2023-03-22T13:48:32.666136Z",
     "iopub.status.idle": "2023-03-22T13:48:32.924886Z",
     "shell.execute_reply": "2023-03-22T13:48:32.923942Z"
    },
    "papermill": {
     "duration": 0.317648,
     "end_time": "2023-03-22T13:48:32.928507",
     "exception": false,
     "start_time": "2023-03-22T13:48:32.610859",
     "status": "completed"
    },
    "tags": []
   },
   "outputs": [
    {
     "name": "stdout",
     "output_type": "stream",
     "text": [
      "+----+------------------+\n",
      "|Year|        avg(Close)|\n",
      "+----+------------------+\n",
      "|2015|120.03999980555547|\n",
      "|2013| 472.6348802857143|\n",
      "|2014| 295.4023416507935|\n",
      "|2012| 576.0497195640002|\n",
      "|2016|104.60400786904763|\n",
      "|2010| 259.8424600000002|\n",
      "|2011|364.00432532142867|\n",
      "+----+------------------+\n",
      "\n"
     ]
    }
   ],
   "source": [
    "df_updated = df.withColumn('Year', year(df['Date']))\n",
    "\n",
    "df_updated.groupBy('Year').mean().select(['Year', \"avg(Close)\"]).show()"
   ]
  },
  {
   "cell_type": "code",
   "execution_count": 74,
   "id": "afe17a34",
   "metadata": {
    "execution": {
     "iopub.execute_input": "2023-03-22T13:48:33.029583Z",
     "iopub.status.busy": "2023-03-22T13:48:33.029241Z",
     "iopub.status.idle": "2023-03-22T13:48:33.233886Z",
     "shell.execute_reply": "2023-03-22T13:48:33.232470Z"
    },
    "papermill": {
     "duration": 0.259194,
     "end_time": "2023-03-22T13:48:33.237133",
     "exception": false,
     "start_time": "2023-03-22T13:48:32.977939",
     "status": "completed"
    },
    "tags": []
   },
   "outputs": [],
   "source": [
    "df = spark.read.csv('/kaggle/input/walmart-dataset/walmart_stock.csv', inferSchema=True, header=True)"
   ]
  },
  {
   "cell_type": "code",
   "execution_count": 75,
   "id": "608fc8f8",
   "metadata": {
    "execution": {
     "iopub.execute_input": "2023-03-22T13:48:33.394095Z",
     "iopub.status.busy": "2023-03-22T13:48:33.393648Z",
     "iopub.status.idle": "2023-03-22T13:48:33.462146Z",
     "shell.execute_reply": "2023-03-22T13:48:33.460748Z"
    },
    "papermill": {
     "duration": 0.123394,
     "end_time": "2023-03-22T13:48:33.466694",
     "exception": false,
     "start_time": "2023-03-22T13:48:33.343300",
     "status": "completed"
    },
    "tags": []
   },
   "outputs": [
    {
     "name": "stdout",
     "output_type": "stream",
     "text": [
      "+-------------------+------------------+------------------+------------------+------------------+--------+------------------+\n",
      "|               Date|              Open|              High|               Low|             Close|  Volume|         Adj Close|\n",
      "+-------------------+------------------+------------------+------------------+------------------+--------+------------------+\n",
      "|2012-01-03 00:00:00|         59.970001|         61.060001|         59.869999|         60.330002|12668800|52.619234999999996|\n",
      "|2012-01-04 00:00:00|60.209998999999996|         60.349998|         59.470001|59.709998999999996| 9593300|         52.078475|\n",
      "|2012-01-05 00:00:00|         59.349998|         59.619999|         58.369999|         59.419998|12768200|         51.825539|\n",
      "|2012-01-06 00:00:00|         59.419998|         59.450001|         58.869999|              59.0| 8069400|          51.45922|\n",
      "|2012-01-09 00:00:00|         59.029999|         59.549999|         58.919998|             59.18| 6679300|51.616215000000004|\n",
      "|2012-01-10 00:00:00|             59.43|59.709998999999996|             58.98|59.040001000000004| 6907300|         51.494109|\n",
      "|2012-01-11 00:00:00|         59.060001|         59.529999|59.040001000000004|         59.400002| 6365600|         51.808098|\n",
      "|2012-01-12 00:00:00|59.790001000000004|              60.0|         59.400002|              59.5| 7236400|51.895315999999994|\n",
      "|2012-01-13 00:00:00|             59.18|59.610001000000004|59.009997999999996|59.540001000000004| 7729300|51.930203999999996|\n",
      "|2012-01-17 00:00:00|         59.869999|60.110001000000004|             59.52|         59.849998| 8500000|         52.200581|\n",
      "|2012-01-18 00:00:00|59.790001000000004|         60.029999|         59.650002|60.009997999999996| 5911400|         52.340131|\n",
      "|2012-01-19 00:00:00|             59.93|             60.73|             59.75|60.610001000000004| 9234600|         52.863447|\n",
      "|2012-01-20 00:00:00|             60.75|             61.25|         60.669998|61.009997999999996|10378800|53.212320999999996|\n",
      "|2012-01-23 00:00:00|         60.810001|             60.98|60.509997999999996|             60.91| 7134100|         53.125104|\n",
      "|2012-01-24 00:00:00|             60.75|              62.0|             60.75|61.389998999999996| 7362800| 53.54375400000001|\n",
      "|2012-01-25 00:00:00|             61.18|61.610001000000004|61.040001000000004|         61.470001| 5915800| 53.61353100000001|\n",
      "|2012-01-26 00:00:00|         61.799999|             61.84|             60.77|         60.970001| 7436200|         53.177436|\n",
      "|2012-01-27 00:00:00|60.860001000000004|         61.119999|60.540001000000004|60.709998999999996| 6287300|         52.950665|\n",
      "|2012-01-30 00:00:00|         60.470001|             61.32|         60.349998|         61.299999| 7636900|53.465256999999994|\n",
      "|2012-01-31 00:00:00|         61.529999|             61.57|         60.580002|61.360001000000004| 9761500|53.517590000000006|\n",
      "+-------------------+------------------+------------------+------------------+------------------+--------+------------------+\n",
      "only showing top 20 rows\n",
      "\n"
     ]
    }
   ],
   "source": [
    "df.show()"
   ]
  },
  {
   "cell_type": "code",
   "execution_count": 76,
   "id": "a6e569dd",
   "metadata": {
    "execution": {
     "iopub.execute_input": "2023-03-22T13:48:33.569891Z",
     "iopub.status.busy": "2023-03-22T13:48:33.569100Z",
     "iopub.status.idle": "2023-03-22T13:48:33.575615Z",
     "shell.execute_reply": "2023-03-22T13:48:33.573998Z"
    },
    "papermill": {
     "duration": 0.058881,
     "end_time": "2023-03-22T13:48:33.578482",
     "exception": false,
     "start_time": "2023-03-22T13:48:33.519601",
     "status": "completed"
    },
    "tags": []
   },
   "outputs": [
    {
     "name": "stdout",
     "output_type": "stream",
     "text": [
      "root\n",
      " |-- Date: timestamp (nullable = true)\n",
      " |-- Open: double (nullable = true)\n",
      " |-- High: double (nullable = true)\n",
      " |-- Low: double (nullable = true)\n",
      " |-- Close: double (nullable = true)\n",
      " |-- Volume: integer (nullable = true)\n",
      " |-- Adj Close: double (nullable = true)\n",
      "\n"
     ]
    }
   ],
   "source": [
    "df.printSchema()"
   ]
  },
  {
   "cell_type": "code",
   "execution_count": 77,
   "id": "477f81c4",
   "metadata": {
    "execution": {
     "iopub.execute_input": "2023-03-22T13:48:33.679075Z",
     "iopub.status.busy": "2023-03-22T13:48:33.677527Z",
     "iopub.status.idle": "2023-03-22T13:48:33.727956Z",
     "shell.execute_reply": "2023-03-22T13:48:33.726869Z"
    },
    "papermill": {
     "duration": 0.102189,
     "end_time": "2023-03-22T13:48:33.730541",
     "exception": false,
     "start_time": "2023-03-22T13:48:33.628352",
     "status": "completed"
    },
    "tags": []
   },
   "outputs": [
    {
     "data": {
      "text/plain": [
       "[Row(Date=datetime.datetime(2012, 1, 3, 0, 0), Open=59.970001, High=61.060001, Low=59.869999, Close=60.330002, Volume=12668800, Adj Close=52.619234999999996),\n",
       " Row(Date=datetime.datetime(2012, 1, 4, 0, 0), Open=60.209998999999996, High=60.349998, Low=59.470001, Close=59.709998999999996, Volume=9593300, Adj Close=52.078475),\n",
       " Row(Date=datetime.datetime(2012, 1, 5, 0, 0), Open=59.349998, High=59.619999, Low=58.369999, Close=59.419998, Volume=12768200, Adj Close=51.825539),\n",
       " Row(Date=datetime.datetime(2012, 1, 6, 0, 0), Open=59.419998, High=59.450001, Low=58.869999, Close=59.0, Volume=8069400, Adj Close=51.45922),\n",
       " Row(Date=datetime.datetime(2012, 1, 9, 0, 0), Open=59.029999, High=59.549999, Low=58.919998, Close=59.18, Volume=6679300, Adj Close=51.616215000000004)]"
      ]
     },
     "metadata": {},
     "output_type": "display_data"
    }
   ],
   "source": [
    "display(df.head(5))"
   ]
  },
  {
   "cell_type": "code",
   "execution_count": 78,
   "id": "4d11642d",
   "metadata": {
    "execution": {
     "iopub.execute_input": "2023-03-22T13:48:33.834510Z",
     "iopub.status.busy": "2023-03-22T13:48:33.834150Z",
     "iopub.status.idle": "2023-03-22T13:48:34.078553Z",
     "shell.execute_reply": "2023-03-22T13:48:34.077567Z"
    },
    "papermill": {
     "duration": 0.297095,
     "end_time": "2023-03-22T13:48:34.081608",
     "exception": false,
     "start_time": "2023-03-22T13:48:33.784513",
     "status": "completed"
    },
    "tags": []
   },
   "outputs": [
    {
     "name": "stdout",
     "output_type": "stream",
     "text": [
      "+-------+------------------+-----------------+-----------------+-----------------+-----------------+-----------------+\n",
      "|summary|              Open|             High|              Low|            Close|           Volume|        Adj Close|\n",
      "+-------+------------------+-----------------+-----------------+-----------------+-----------------+-----------------+\n",
      "|  count|              1258|             1258|             1258|             1258|             1258|             1258|\n",
      "|   mean| 72.35785375357709|72.83938807631165| 71.9186009594594|72.38844998012726|8222093.481717011|67.23883848728146|\n",
      "| stddev|  6.76809024470826|6.768186808159218|6.744075756255496|6.756859163732991|  4519780.8431556|6.722609449996857|\n",
      "|    min|56.389998999999996|        57.060001|        56.299999|        56.419998|          2094900|        50.363689|\n",
      "|    max|         90.800003|        90.970001|            89.25|        90.470001|         80898100|84.91421600000001|\n",
      "+-------+------------------+-----------------+-----------------+-----------------+-----------------+-----------------+\n",
      "\n"
     ]
    }
   ],
   "source": [
    "df.describe().show()"
   ]
  },
  {
   "cell_type": "code",
   "execution_count": 79,
   "id": "9d36fb1e",
   "metadata": {
    "execution": {
     "iopub.execute_input": "2023-03-22T13:48:34.183486Z",
     "iopub.status.busy": "2023-03-22T13:48:34.183118Z",
     "iopub.status.idle": "2023-03-22T13:48:34.260955Z",
     "shell.execute_reply": "2023-03-22T13:48:34.260097Z"
    },
    "papermill": {
     "duration": 0.131861,
     "end_time": "2023-03-22T13:48:34.263368",
     "exception": false,
     "start_time": "2023-03-22T13:48:34.131507",
     "status": "completed"
    },
    "tags": []
   },
   "outputs": [
    {
     "name": "stdout",
     "output_type": "stream",
     "text": [
      "+--------------------+\n",
      "|            HV Ratio|\n",
      "+--------------------+\n",
      "|4.819714653321546E-6|\n",
      "|6.290848613094555E-6|\n",
      "|4.669412994783916E-6|\n",
      "|7.367338463826307E-6|\n",
      "|8.915604778943901E-6|\n",
      "|8.644477436914568E-6|\n",
      "|9.351828421515645E-6|\n",
      "| 8.29141562102703E-6|\n",
      "|7.712212102001476E-6|\n",
      "|7.071764823529412E-6|\n",
      "|1.015495466386981E-5|\n",
      "|6.576354146362592...|\n",
      "| 5.90145296180676E-6|\n",
      "|8.547679455011844E-6|\n",
      "|8.420709512685392E-6|\n",
      "|1.041448341728929...|\n",
      "|8.316075414862431E-6|\n",
      "|9.721183814992126E-6|\n",
      "|8.029436027707578E-6|\n",
      "|6.307432259386365E-6|\n",
      "+--------------------+\n",
      "only showing top 20 rows\n",
      "\n"
     ]
    }
   ],
   "source": [
    "df.select((df['High']/df['Volume']).alias('HV Ratio')).show()"
   ]
  },
  {
   "cell_type": "code",
   "execution_count": 80,
   "id": "e36c9706",
   "metadata": {
    "execution": {
     "iopub.execute_input": "2023-03-22T13:48:34.380433Z",
     "iopub.status.busy": "2023-03-22T13:48:34.380078Z",
     "iopub.status.idle": "2023-03-22T13:48:34.390685Z",
     "shell.execute_reply": "2023-03-22T13:48:34.389856Z"
    },
    "papermill": {
     "duration": 0.062704,
     "end_time": "2023-03-22T13:48:34.392612",
     "exception": false,
     "start_time": "2023-03-22T13:48:34.329908",
     "status": "completed"
    },
    "tags": []
   },
   "outputs": [],
   "source": [
    "df.createOrReplaceTempView('walmart')"
   ]
  },
  {
   "cell_type": "code",
   "execution_count": 81,
   "id": "cd14bf24",
   "metadata": {
    "execution": {
     "iopub.execute_input": "2023-03-22T13:48:34.493929Z",
     "iopub.status.busy": "2023-03-22T13:48:34.493009Z",
     "iopub.status.idle": "2023-03-22T13:48:34.765760Z",
     "shell.execute_reply": "2023-03-22T13:48:34.764743Z"
    },
    "papermill": {
     "duration": 0.325789,
     "end_time": "2023-03-22T13:48:34.768721",
     "exception": false,
     "start_time": "2023-03-22T13:48:34.442932",
     "status": "completed"
    },
    "tags": []
   },
   "outputs": [
    {
     "name": "stdout",
     "output_type": "stream",
     "text": [
      "+-------------------+\n",
      "|               Date|\n",
      "+-------------------+\n",
      "|2015-01-13 00:00:00|\n",
      "+-------------------+\n",
      "\n"
     ]
    }
   ],
   "source": [
    "k = spark.sql('SELECT Date FROM walmart WHERE High = (SELECT MAX(High) FROM walmart)')\n",
    "k.show()"
   ]
  },
  {
   "cell_type": "code",
   "execution_count": 82,
   "id": "b7c4c6b7",
   "metadata": {
    "execution": {
     "iopub.execute_input": "2023-03-22T13:48:34.870627Z",
     "iopub.status.busy": "2023-03-22T13:48:34.870264Z",
     "iopub.status.idle": "2023-03-22T13:48:35.003346Z",
     "shell.execute_reply": "2023-03-22T13:48:35.002324Z"
    },
    "papermill": {
     "duration": 0.186331,
     "end_time": "2023-03-22T13:48:35.006160",
     "exception": false,
     "start_time": "2023-03-22T13:48:34.819829",
     "status": "completed"
    },
    "tags": []
   },
   "outputs": [
    {
     "name": "stdout",
     "output_type": "stream",
     "text": [
      "+---------------------+\n",
      "|Average Closing Price|\n",
      "+---------------------+\n",
      "|                72.39|\n",
      "+---------------------+\n",
      "\n"
     ]
    }
   ],
   "source": [
    "from pyspark.sql.functions import mean,round, max, min\n",
    "\n",
    "df.select(round(mean(df['Close']), 2).alias('Average Closing Price')).show()"
   ]
  },
  {
   "cell_type": "code",
   "execution_count": 83,
   "id": "952c3b91",
   "metadata": {
    "execution": {
     "iopub.execute_input": "2023-03-22T13:48:35.130002Z",
     "iopub.status.busy": "2023-03-22T13:48:35.129605Z",
     "iopub.status.idle": "2023-03-22T13:48:35.274107Z",
     "shell.execute_reply": "2023-03-22T13:48:35.273189Z"
    },
    "papermill": {
     "duration": 0.198824,
     "end_time": "2023-03-22T13:48:35.276993",
     "exception": false,
     "start_time": "2023-03-22T13:48:35.078169",
     "status": "completed"
    },
    "tags": []
   },
   "outputs": [
    {
     "name": "stdout",
     "output_type": "stream",
     "text": [
      "+--------------+--------------+\n",
      "|Maximum Volume|Minimum Volume|\n",
      "+--------------+--------------+\n",
      "|      80898100|       2094900|\n",
      "+--------------+--------------+\n",
      "\n"
     ]
    }
   ],
   "source": [
    "df.select(max(df['Volume']).alias('Maximum Volume'), min(df['Volume']).alias('Minimum Volume')).show()"
   ]
  },
  {
   "cell_type": "markdown",
   "id": "97d9a8bb",
   "metadata": {
    "papermill": {
     "duration": 0.049237,
     "end_time": "2023-03-22T13:48:35.406292",
     "exception": false,
     "start_time": "2023-03-22T13:48:35.357055",
     "status": "completed"
    },
    "tags": []
   },
   "source": [
    "# Linear Regression"
   ]
  },
  {
   "cell_type": "code",
   "execution_count": 84,
   "id": "b22f9622",
   "metadata": {
    "execution": {
     "iopub.execute_input": "2023-03-22T13:48:35.506335Z",
     "iopub.status.busy": "2023-03-22T13:48:35.505908Z",
     "iopub.status.idle": "2023-03-22T13:48:35.775504Z",
     "shell.execute_reply": "2023-03-22T13:48:35.774233Z"
    },
    "papermill": {
     "duration": 0.32279,
     "end_time": "2023-03-22T13:48:35.777803",
     "exception": false,
     "start_time": "2023-03-22T13:48:35.455013",
     "status": "completed"
    },
    "tags": []
   },
   "outputs": [
    {
     "name": "stdout",
     "output_type": "stream",
     "text": [
      "23/03/22 13:48:35 WARN SparkSession: Using an existing Spark session; only runtime SQL configurations will take effect.\n"
     ]
    }
   ],
   "source": [
    "from pyspark.sql import SparkSession\n",
    "from pyspark.ml.regression import LinearRegression\n",
    "\n",
    "spark = SparkSession.builder.appName('Linear Regression Example').getOrCreate()"
   ]
  },
  {
   "cell_type": "code",
   "execution_count": 85,
   "id": "2e0ea3e5",
   "metadata": {
    "execution": {
     "iopub.execute_input": "2023-03-22T13:48:35.880383Z",
     "iopub.status.busy": "2023-03-22T13:48:35.879750Z",
     "iopub.status.idle": "2023-03-22T13:48:36.131024Z",
     "shell.execute_reply": "2023-03-22T13:48:36.130133Z"
    },
    "papermill": {
     "duration": 0.306549,
     "end_time": "2023-03-22T13:48:36.134069",
     "exception": false,
     "start_time": "2023-03-22T13:48:35.827520",
     "status": "completed"
    },
    "tags": []
   },
   "outputs": [
    {
     "name": "stdout",
     "output_type": "stream",
     "text": [
      "23/03/22 13:48:35 WARN LibSVMFileFormat: 'numFeatures' option not specified, determining the number of features by going though the input. If you know the number in advance, please specify it via 'numFeatures' option to avoid the extra scan.\n"
     ]
    }
   ],
   "source": [
    "training = spark.read.format('libsvm').load('/kaggle/input/linear-reg/sample_linear_regression_data.txt')"
   ]
  },
  {
   "cell_type": "code",
   "execution_count": 86,
   "id": "f0342f45",
   "metadata": {
    "execution": {
     "iopub.execute_input": "2023-03-22T13:48:36.276375Z",
     "iopub.status.busy": "2023-03-22T13:48:36.276044Z",
     "iopub.status.idle": "2023-03-22T13:48:36.512872Z",
     "shell.execute_reply": "2023-03-22T13:48:36.511847Z"
    },
    "papermill": {
     "duration": 0.307802,
     "end_time": "2023-03-22T13:48:36.515453",
     "exception": false,
     "start_time": "2023-03-22T13:48:36.207651",
     "status": "completed"
    },
    "tags": []
   },
   "outputs": [
    {
     "name": "stdout",
     "output_type": "stream",
     "text": [
      "+-------------------+--------------------+\n",
      "|              label|            features|\n",
      "+-------------------+--------------------+\n",
      "| -9.490009878824548|(10,[0,1,2,3,4,5,...|\n",
      "| 0.2577820163584905|(10,[0,1,2,3,4,5,...|\n",
      "| -4.438869807456516|(10,[0,1,2,3,4,5,...|\n",
      "|-19.782762789614537|(10,[0,1,2,3,4,5,...|\n",
      "| -7.966593841555266|(10,[0,1,2,3,4,5,...|\n",
      "| -7.896274316726144|(10,[0,1,2,3,4,5,...|\n",
      "| -8.464803554195287|(10,[0,1,2,3,4,5,...|\n",
      "| 2.1214592666251364|(10,[0,1,2,3,4,5,...|\n",
      "| 1.0720117616524107|(10,[0,1,2,3,4,5,...|\n",
      "|-13.772441561702871|(10,[0,1,2,3,4,5,...|\n",
      "| -5.082010756207233|(10,[0,1,2,3,4,5,...|\n",
      "|  7.887786536531237|(10,[0,1,2,3,4,5,...|\n",
      "| 14.323146365332388|(10,[0,1,2,3,4,5,...|\n",
      "|-20.057482615789212|(10,[0,1,2,3,4,5,...|\n",
      "|-0.8995693247765151|(10,[0,1,2,3,4,5,...|\n",
      "| -19.16829262296376|(10,[0,1,2,3,4,5,...|\n",
      "|  5.601801561245534|(10,[0,1,2,3,4,5,...|\n",
      "|-3.2256352187273354|(10,[0,1,2,3,4,5,...|\n",
      "| 1.5299675726687754|(10,[0,1,2,3,4,5,...|\n",
      "| -0.250102447941961|(10,[0,1,2,3,4,5,...|\n",
      "+-------------------+--------------------+\n",
      "only showing top 20 rows\n",
      "\n"
     ]
    }
   ],
   "source": [
    " training.show()"
   ]
  },
  {
   "cell_type": "code",
   "execution_count": 87,
   "id": "32209666",
   "metadata": {
    "execution": {
     "iopub.execute_input": "2023-03-22T13:48:36.616555Z",
     "iopub.status.busy": "2023-03-22T13:48:36.616208Z",
     "iopub.status.idle": "2023-03-22T13:48:36.662732Z",
     "shell.execute_reply": "2023-03-22T13:48:36.661878Z"
    },
    "papermill": {
     "duration": 0.09893,
     "end_time": "2023-03-22T13:48:36.665133",
     "exception": false,
     "start_time": "2023-03-22T13:48:36.566203",
     "status": "completed"
    },
    "tags": []
   },
   "outputs": [],
   "source": [
    "lr = LinearRegression(featuresCol='features', labelCol='label', predictionCol='prediction')"
   ]
  },
  {
   "cell_type": "code",
   "execution_count": 88,
   "id": "88c02bfb",
   "metadata": {
    "execution": {
     "iopub.execute_input": "2023-03-22T13:48:36.767164Z",
     "iopub.status.busy": "2023-03-22T13:48:36.765926Z",
     "iopub.status.idle": "2023-03-22T13:48:37.588642Z",
     "shell.execute_reply": "2023-03-22T13:48:37.587621Z"
    },
    "papermill": {
     "duration": 0.875755,
     "end_time": "2023-03-22T13:48:37.591407",
     "exception": false,
     "start_time": "2023-03-22T13:48:36.715652",
     "status": "completed"
    },
    "tags": []
   },
   "outputs": [
    {
     "name": "stdout",
     "output_type": "stream",
     "text": [
      "23/03/22 13:48:36 WARN Instrumentation: [ca59ab54] regParam is zero, which might cause numerical instability and overfitting.\n"
     ]
    }
   ],
   "source": [
    "lr_model = lr.fit(training)"
   ]
  },
  {
   "cell_type": "code",
   "execution_count": 89,
   "id": "ef636086",
   "metadata": {
    "execution": {
     "iopub.execute_input": "2023-03-22T13:48:37.708943Z",
     "iopub.status.busy": "2023-03-22T13:48:37.708537Z",
     "iopub.status.idle": "2023-03-22T13:48:37.725429Z",
     "shell.execute_reply": "2023-03-22T13:48:37.724509Z"
    },
    "papermill": {
     "duration": 0.074885,
     "end_time": "2023-03-22T13:48:37.727499",
     "exception": false,
     "start_time": "2023-03-22T13:48:37.652614",
     "status": "completed"
    },
    "tags": []
   },
   "outputs": [
    {
     "data": {
      "text/plain": [
       "DenseVector([0.0073, 0.8314, -0.8095, 2.4412, 0.5192, 1.1535, -0.2989, -0.5129, -0.6197, 0.6956])"
      ]
     },
     "execution_count": 89,
     "metadata": {},
     "output_type": "execute_result"
    }
   ],
   "source": [
    "lr_model.coefficients"
   ]
  },
  {
   "cell_type": "code",
   "execution_count": 90,
   "id": "e9115bf0",
   "metadata": {
    "execution": {
     "iopub.execute_input": "2023-03-22T13:48:37.833398Z",
     "iopub.status.busy": "2023-03-22T13:48:37.832659Z",
     "iopub.status.idle": "2023-03-22T13:48:37.840000Z",
     "shell.execute_reply": "2023-03-22T13:48:37.839009Z"
    },
    "papermill": {
     "duration": 0.061418,
     "end_time": "2023-03-22T13:48:37.842574",
     "exception": false,
     "start_time": "2023-03-22T13:48:37.781156",
     "status": "completed"
    },
    "tags": []
   },
   "outputs": [
    {
     "data": {
      "text/plain": [
       "0.14228558260358093"
      ]
     },
     "execution_count": 90,
     "metadata": {},
     "output_type": "execute_result"
    }
   ],
   "source": [
    "lr_model.intercept"
   ]
  },
  {
   "cell_type": "code",
   "execution_count": 91,
   "id": "8a39e716",
   "metadata": {
    "execution": {
     "iopub.execute_input": "2023-03-22T13:48:37.943459Z",
     "iopub.status.busy": "2023-03-22T13:48:37.942533Z",
     "iopub.status.idle": "2023-03-22T13:48:37.949197Z",
     "shell.execute_reply": "2023-03-22T13:48:37.948067Z"
    },
    "papermill": {
     "duration": 0.059765,
     "end_time": "2023-03-22T13:48:37.951464",
     "exception": false,
     "start_time": "2023-03-22T13:48:37.891699",
     "status": "completed"
    },
    "tags": []
   },
   "outputs": [],
   "source": [
    "training_summary = lr_model.summary"
   ]
  },
  {
   "cell_type": "code",
   "execution_count": 92,
   "id": "1b167522",
   "metadata": {
    "execution": {
     "iopub.execute_input": "2023-03-22T13:48:38.052934Z",
     "iopub.status.busy": "2023-03-22T13:48:38.052530Z",
     "iopub.status.idle": "2023-03-22T13:48:38.058927Z",
     "shell.execute_reply": "2023-03-22T13:48:38.057155Z"
    },
    "papermill": {
     "duration": 0.05982,
     "end_time": "2023-03-22T13:48:38.061353",
     "exception": false,
     "start_time": "2023-03-22T13:48:38.001533",
     "status": "completed"
    },
    "tags": []
   },
   "outputs": [
    {
     "name": "stdout",
     "output_type": "stream",
     "text": [
      "0.027839179518600154\n",
      "10.16309157133015\n"
     ]
    }
   ],
   "source": [
    "print(training_summary.r2)\n",
    "print(training_summary.rootMeanSquaredError)"
   ]
  },
  {
   "cell_type": "code",
   "execution_count": 93,
   "id": "d70cf0c4",
   "metadata": {
    "execution": {
     "iopub.execute_input": "2023-03-22T13:48:38.162749Z",
     "iopub.status.busy": "2023-03-22T13:48:38.161681Z",
     "iopub.status.idle": "2023-03-22T13:48:38.283240Z",
     "shell.execute_reply": "2023-03-22T13:48:38.281735Z"
    },
    "papermill": {
     "duration": 0.175275,
     "end_time": "2023-03-22T13:48:38.286007",
     "exception": false,
     "start_time": "2023-03-22T13:48:38.110732",
     "status": "completed"
    },
    "tags": []
   },
   "outputs": [
    {
     "name": "stdout",
     "output_type": "stream",
     "text": [
      "23/03/22 13:48:38 WARN LibSVMFileFormat: 'numFeatures' option not specified, determining the number of features by going though the input. If you know the number in advance, please specify it via 'numFeatures' option to avoid the extra scan.\n"
     ]
    }
   ],
   "source": [
    "all_data = spark.read.format('libsvm').load('/kaggle/input/linear-reg/sample_linear_regression_data.txt')\n",
    "\n",
    "train, test = all_data.randomSplit([0.7, 0.3])\n"
   ]
  },
  {
   "cell_type": "code",
   "execution_count": 94,
   "id": "5dc63e8e",
   "metadata": {
    "execution": {
     "iopub.execute_input": "2023-03-22T13:48:38.393320Z",
     "iopub.status.busy": "2023-03-22T13:48:38.392832Z",
     "iopub.status.idle": "2023-03-22T13:48:38.635815Z",
     "shell.execute_reply": "2023-03-22T13:48:38.634734Z"
    },
    "papermill": {
     "duration": 0.298265,
     "end_time": "2023-03-22T13:48:38.638326",
     "exception": false,
     "start_time": "2023-03-22T13:48:38.340061",
     "status": "completed"
    },
    "tags": []
   },
   "outputs": [
    {
     "name": "stdout",
     "output_type": "stream",
     "text": [
      "+-------+-------------------+\n",
      "|summary|              label|\n",
      "+-------+-------------------+\n",
      "|  count|                346|\n",
      "|   mean|0.38718282905994267|\n",
      "| stddev| 10.547197679747212|\n",
      "|    min|-28.571478869743427|\n",
      "|    max|  27.78383192005107|\n",
      "+-------+-------------------+\n",
      "\n"
     ]
    }
   ],
   "source": [
    "train.describe().show()"
   ]
  },
  {
   "cell_type": "code",
   "execution_count": 95,
   "id": "e539ab13",
   "metadata": {
    "execution": {
     "iopub.execute_input": "2023-03-22T13:48:38.783222Z",
     "iopub.status.busy": "2023-03-22T13:48:38.782433Z",
     "iopub.status.idle": "2023-03-22T13:48:38.925092Z",
     "shell.execute_reply": "2023-03-22T13:48:38.923478Z"
    },
    "papermill": {
     "duration": 0.218255,
     "end_time": "2023-03-22T13:48:38.928492",
     "exception": false,
     "start_time": "2023-03-22T13:48:38.710237",
     "status": "completed"
    },
    "tags": []
   },
   "outputs": [
    {
     "name": "stdout",
     "output_type": "stream",
     "text": [
      "+-------+--------------------+\n",
      "|summary|               label|\n",
      "+-------+--------------------+\n",
      "|  count|                 155|\n",
      "|   mean|-0.03396102538742036|\n",
      "| stddev|   9.813657929980804|\n",
      "|    min| -22.837460416919342|\n",
      "|    max|  27.111027963108548|\n",
      "+-------+--------------------+\n",
      "\n"
     ]
    }
   ],
   "source": [
    "test.describe().show()"
   ]
  },
  {
   "cell_type": "code",
   "execution_count": 96,
   "id": "57d12a7f",
   "metadata": {
    "execution": {
     "iopub.execute_input": "2023-03-22T13:48:39.047543Z",
     "iopub.status.busy": "2023-03-22T13:48:39.047140Z",
     "iopub.status.idle": "2023-03-22T13:48:39.354227Z",
     "shell.execute_reply": "2023-03-22T13:48:39.352815Z"
    },
    "papermill": {
     "duration": 0.362131,
     "end_time": "2023-03-22T13:48:39.357642",
     "exception": false,
     "start_time": "2023-03-22T13:48:38.995511",
     "status": "completed"
    },
    "tags": []
   },
   "outputs": [
    {
     "name": "stdout",
     "output_type": "stream",
     "text": [
      "23/03/22 13:48:39 WARN Instrumentation: [fceb059a] regParam is zero, which might cause numerical instability and overfitting.\n"
     ]
    }
   ],
   "source": [
    "correct_model = lr.fit(train)"
   ]
  },
  {
   "cell_type": "code",
   "execution_count": 97,
   "id": "a4fa9076",
   "metadata": {
    "execution": {
     "iopub.execute_input": "2023-03-22T13:48:39.468359Z",
     "iopub.status.busy": "2023-03-22T13:48:39.467986Z",
     "iopub.status.idle": "2023-03-22T13:48:39.618710Z",
     "shell.execute_reply": "2023-03-22T13:48:39.617847Z"
    },
    "papermill": {
     "duration": 0.204263,
     "end_time": "2023-03-22T13:48:39.621133",
     "exception": false,
     "start_time": "2023-03-22T13:48:39.416870",
     "status": "completed"
    },
    "tags": []
   },
   "outputs": [
    {
     "name": "stdout",
     "output_type": "stream",
     "text": [
      "10.017598939294926\n",
      "-0.048760752319122025\n"
     ]
    }
   ],
   "source": [
    "result = correct_model.evaluate(test)\n",
    "\n",
    "print(result.rootMeanSquaredError)\n",
    "print(result.r2)"
   ]
  },
  {
   "cell_type": "code",
   "execution_count": 98,
   "id": "86215301",
   "metadata": {
    "execution": {
     "iopub.execute_input": "2023-03-22T13:48:39.764120Z",
     "iopub.status.busy": "2023-03-22T13:48:39.763698Z",
     "iopub.status.idle": "2023-03-22T13:48:39.800064Z",
     "shell.execute_reply": "2023-03-22T13:48:39.798993Z"
    },
    "papermill": {
     "duration": 0.10961,
     "end_time": "2023-03-22T13:48:39.803344",
     "exception": false,
     "start_time": "2023-03-22T13:48:39.693734",
     "status": "completed"
    },
    "tags": []
   },
   "outputs": [],
   "source": [
    "unlabeled_data = test.select('features')\n",
    "predictions = correct_model.transform(unlabeled_data)"
   ]
  },
  {
   "cell_type": "code",
   "execution_count": 99,
   "id": "a410db5c",
   "metadata": {
    "execution": {
     "iopub.execute_input": "2023-03-22T13:48:39.924496Z",
     "iopub.status.busy": "2023-03-22T13:48:39.924090Z",
     "iopub.status.idle": "2023-03-22T13:48:40.027815Z",
     "shell.execute_reply": "2023-03-22T13:48:40.026874Z"
    },
    "papermill": {
     "duration": 0.159618,
     "end_time": "2023-03-22T13:48:40.030571",
     "exception": false,
     "start_time": "2023-03-22T13:48:39.870953",
     "status": "completed"
    },
    "tags": []
   },
   "outputs": [
    {
     "name": "stdout",
     "output_type": "stream",
     "text": [
      "+--------------------+--------------------+\n",
      "|            features|          prediction|\n",
      "+--------------------+--------------------+\n",
      "|(10,[0,1,2,3,4,5,...|  -3.127773663860553|\n",
      "|(10,[0,1,2,3,4,5,...|  1.6881636681447239|\n",
      "|(10,[0,1,2,3,4,5,...| 0.24640815983713976|\n",
      "|(10,[0,1,2,3,4,5,...|   2.105659966042688|\n",
      "|(10,[0,1,2,3,4,5,...|  -1.169484186977471|\n",
      "|(10,[0,1,2,3,4,5,...| -1.8206162296128197|\n",
      "|(10,[0,1,2,3,4,5,...|  0.7850285287671219|\n",
      "|(10,[0,1,2,3,4,5,...| 0.46019525634398684|\n",
      "|(10,[0,1,2,3,4,5,...| 0.07778395022877493|\n",
      "|(10,[0,1,2,3,4,5,...|  0.7448539880942082|\n",
      "|(10,[0,1,2,3,4,5,...| 0.14002040055577314|\n",
      "|(10,[0,1,2,3,4,5,...|   2.361226734051958|\n",
      "|(10,[0,1,2,3,4,5,...|   3.765200081576966|\n",
      "|(10,[0,1,2,3,4,5,...| -0.9186850194445468|\n",
      "|(10,[0,1,2,3,4,5,...|  0.9065518377678516|\n",
      "|(10,[0,1,2,3,4,5,...|   1.506037086060299|\n",
      "|(10,[0,1,2,3,4,5,...| -1.8018227670246998|\n",
      "|(10,[0,1,2,3,4,5,...|  2.2614952304186553|\n",
      "|(10,[0,1,2,3,4,5,...|-0.21697435638175416|\n",
      "|(10,[0,1,2,3,4,5,...|  2.4582360237064917|\n",
      "+--------------------+--------------------+\n",
      "only showing top 20 rows\n",
      "\n"
     ]
    }
   ],
   "source": [
    "predictions.show()"
   ]
  },
  {
   "cell_type": "markdown",
   "id": "f0f85b93",
   "metadata": {
    "papermill": {
     "duration": 0.068488,
     "end_time": "2023-03-22T13:48:40.168859",
     "exception": false,
     "start_time": "2023-03-22T13:48:40.100371",
     "status": "completed"
    },
    "tags": []
   },
   "source": [
    "# How to use Linear Regression in Spark"
   ]
  },
  {
   "cell_type": "code",
   "execution_count": 100,
   "id": "251aa1d2",
   "metadata": {
    "execution": {
     "iopub.execute_input": "2023-03-22T13:48:40.272932Z",
     "iopub.status.busy": "2023-03-22T13:48:40.272576Z",
     "iopub.status.idle": "2023-03-22T13:48:40.276976Z",
     "shell.execute_reply": "2023-03-22T13:48:40.276050Z"
    },
    "papermill": {
     "duration": 0.057901,
     "end_time": "2023-03-22T13:48:40.278760",
     "exception": false,
     "start_time": "2023-03-22T13:48:40.220859",
     "status": "completed"
    },
    "tags": []
   },
   "outputs": [],
   "source": [
    "from pyspark.sql import SparkSession"
   ]
  },
  {
   "cell_type": "code",
   "execution_count": 101,
   "id": "1f723d59",
   "metadata": {
    "execution": {
     "iopub.execute_input": "2023-03-22T13:48:40.379037Z",
     "iopub.status.busy": "2023-03-22T13:48:40.378641Z",
     "iopub.status.idle": "2023-03-22T13:48:40.388792Z",
     "shell.execute_reply": "2023-03-22T13:48:40.386597Z"
    },
    "papermill": {
     "duration": 0.063677,
     "end_time": "2023-03-22T13:48:40.391854",
     "exception": false,
     "start_time": "2023-03-22T13:48:40.328177",
     "status": "completed"
    },
    "tags": []
   },
   "outputs": [
    {
     "name": "stdout",
     "output_type": "stream",
     "text": [
      "23/03/22 13:48:40 WARN SparkSession: Using an existing Spark session; only runtime SQL configurations will take effect.\n"
     ]
    }
   ],
   "source": [
    "spark = SparkSession.builder.appName('lr_implementation').getOrCreate()"
   ]
  },
  {
   "cell_type": "code",
   "execution_count": 102,
   "id": "97007e16",
   "metadata": {
    "execution": {
     "iopub.execute_input": "2023-03-22T13:48:40.495140Z",
     "iopub.status.busy": "2023-03-22T13:48:40.494246Z",
     "iopub.status.idle": "2023-03-22T13:48:40.742635Z",
     "shell.execute_reply": "2023-03-22T13:48:40.741547Z"
    },
    "papermill": {
     "duration": 0.302526,
     "end_time": "2023-03-22T13:48:40.745350",
     "exception": false,
     "start_time": "2023-03-22T13:48:40.442824",
     "status": "completed"
    },
    "tags": []
   },
   "outputs": [
    {
     "name": "stdout",
     "output_type": "stream",
     "text": [
      "+--------------------+--------------------+----------------+------------------+------------------+------------------+--------------------+-------------------+\n",
      "|               Email|             Address|          Avatar|Avg Session Length|       Time on App|   Time on Website|Length of Membership|Yearly Amount Spent|\n",
      "+--------------------+--------------------+----------------+------------------+------------------+------------------+--------------------+-------------------+\n",
      "|mstephenson@ferna...|835 Frank TunnelW...|          Violet| 34.49726772511229| 12.65565114916675| 39.57766801952616|  4.0826206329529615|  587.9510539684005|\n",
      "|   hduke@hotmail.com|4547 Archer Commo...|       DarkGreen| 31.92627202636016|11.109460728682564|37.268958868297744|    2.66403418213262|  392.2049334443264|\n",
      "|    pallen@yahoo.com|24645 Valerie Uni...|          Bisque|33.000914755642675|11.330278057777512|37.110597442120856|   4.104543202376424| 487.54750486747207|\n",
      "|riverarebecca@gma...|1414 David Throug...|     SaddleBrown| 34.30555662975554|13.717513665142507| 36.72128267790313|   3.120178782748092|  581.8523440352177|\n",
      "|mstephens@davidso...|14023 Rodriguez P...|MediumAquaMarine| 33.33067252364639|12.795188551078114| 37.53665330059473|   4.446308318351434|  599.4060920457634|\n",
      "|alvareznancy@luca...|645 Martha Park A...|     FloralWhite|33.871037879341976|12.026925339755056| 34.47687762925054|   5.493507201364199|   637.102447915074|\n",
      "|katherine20@yahoo...|68388 Reyes Light...|   DarkSlateBlue| 32.02159550138701|11.366348309710526| 36.68377615286961|   4.685017246570912|  521.5721747578274|\n",
      "|  awatkins@yahoo.com|Unit 6538 Box 898...|            Aqua|32.739142938380326| 12.35195897300293| 37.37335885854755|  4.4342734348999375|  549.9041461052942|\n",
      "|vchurch@walter-ma...|860 Lee KeyWest D...|          Salmon| 33.98777289568564|13.386235275676436|37.534497341555735|  3.2734335777477144|  570.2004089636196|\n",
      "|    bonnie69@lin.biz|PSC 2734, Box 525...|           Brown|31.936548618448917|11.814128294972196| 37.14516822352819|   3.202806071553459|  427.1993848953282|\n",
      "|andrew06@peterson...|26104 Alexander G...|          Tomato|33.992572774953736|13.338975447662113| 37.22580613162114|   2.482607770510596|  492.6060127179966|\n",
      "|ryanwerner@freema...|Unit 2413 Box 034...|          Tomato| 33.87936082480498|11.584782999535266| 37.08792607098381|    3.71320920294043|  522.3374046069357|\n",
      "|   knelson@gmail.com|6705 Miller Orcha...|       RoyalBlue|29.532428967057943|10.961298400154098| 37.42021557502538|   4.046423164299585|  408.6403510726275|\n",
      "|wrightpeter@yahoo...|05302 Dunlap Ferr...|          Bisque| 33.19033404372265|12.959226091609382|36.144666700041924|   3.918541839158999|  573.4158673313865|\n",
      "|taylormason@gmail...|7773 Powell Sprin...|        DarkBlue|32.387975853153876|13.148725692056516| 36.61995708279922|   2.494543646659249|  470.4527333009554|\n",
      "| jstark@anderson.com|49558 Ramirez Roa...|            Peru|30.737720372628182|12.636606052000127|36.213763093698624|  3.3578468423262944|  461.7807421962299|\n",
      "| wjennings@gmail.com|6362 Wilson Mount...|      PowderBlue| 32.12538689728784|11.733861690857394|  34.8940927514398|  3.1361327164897803| 457.84769594494855|\n",
      "|rebecca45@hale-ba...|8982 Burton RowWi...|       OliveDrab|32.338899323067196|12.013194694014402| 38.38513659413844|   2.420806160901484| 407.70454754954415|\n",
      "|alejandro75@hotma...|64475 Andre Club ...|            Cyan|32.187812045932155|  14.7153875441565| 38.24411459434352|   1.516575580831944|  452.3156754800354|\n",
      "|samuel46@love-wes...|544 Alexander Hei...|   LightSeaGreen| 32.61785606282345|13.989592555825254|37.190503800397956|   4.064548550437977|   605.061038804892|\n",
      "+--------------------+--------------------+----------------+------------------+------------------+------------------+--------------------+-------------------+\n",
      "only showing top 20 rows\n",
      "\n"
     ]
    }
   ],
   "source": [
    "df = spark.read.csv('/kaggle/input/e-commerce-data/Ecommerce_Customers.csv', inferSchema=True, header=True)\n",
    "\n",
    "df.show()"
   ]
  },
  {
   "cell_type": "code",
   "execution_count": 103,
   "id": "d99749be",
   "metadata": {
    "execution": {
     "iopub.execute_input": "2023-03-22T13:48:40.851081Z",
     "iopub.status.busy": "2023-03-22T13:48:40.850705Z",
     "iopub.status.idle": "2023-03-22T13:48:40.856436Z",
     "shell.execute_reply": "2023-03-22T13:48:40.855499Z"
    },
    "papermill": {
     "duration": 0.05991,
     "end_time": "2023-03-22T13:48:40.858494",
     "exception": false,
     "start_time": "2023-03-22T13:48:40.798584",
     "status": "completed"
    },
    "tags": []
   },
   "outputs": [
    {
     "name": "stdout",
     "output_type": "stream",
     "text": [
      "root\n",
      " |-- Email: string (nullable = true)\n",
      " |-- Address: string (nullable = true)\n",
      " |-- Avatar: string (nullable = true)\n",
      " |-- Avg Session Length: double (nullable = true)\n",
      " |-- Time on App: double (nullable = true)\n",
      " |-- Time on Website: double (nullable = true)\n",
      " |-- Length of Membership: double (nullable = true)\n",
      " |-- Yearly Amount Spent: double (nullable = true)\n",
      "\n"
     ]
    }
   ],
   "source": [
    "df.printSchema()"
   ]
  },
  {
   "cell_type": "code",
   "execution_count": 104,
   "id": "dcb22114",
   "metadata": {
    "execution": {
     "iopub.execute_input": "2023-03-22T13:48:40.959599Z",
     "iopub.status.busy": "2023-03-22T13:48:40.959208Z",
     "iopub.status.idle": "2023-03-22T13:48:40.967009Z",
     "shell.execute_reply": "2023-03-22T13:48:40.966238Z"
    },
    "papermill": {
     "duration": 0.060323,
     "end_time": "2023-03-22T13:48:40.968852",
     "exception": false,
     "start_time": "2023-03-22T13:48:40.908529",
     "status": "completed"
    },
    "tags": []
   },
   "outputs": [
    {
     "data": {
      "text/plain": [
       "['Email',\n",
       " 'Address',\n",
       " 'Avatar',\n",
       " 'Avg Session Length',\n",
       " 'Time on App',\n",
       " 'Time on Website',\n",
       " 'Length of Membership',\n",
       " 'Yearly Amount Spent']"
      ]
     },
     "execution_count": 104,
     "metadata": {},
     "output_type": "execute_result"
    }
   ],
   "source": [
    "from pyspark.ml.linalg import Vectors\n",
    "from pyspark.ml.feature import VectorAssembler\n",
    "\n",
    "df.columns"
   ]
  },
  {
   "cell_type": "code",
   "execution_count": 105,
   "id": "1e813f2a",
   "metadata": {
    "execution": {
     "iopub.execute_input": "2023-03-22T13:48:41.070632Z",
     "iopub.status.busy": "2023-03-22T13:48:41.070077Z",
     "iopub.status.idle": "2023-03-22T13:48:41.137930Z",
     "shell.execute_reply": "2023-03-22T13:48:41.137042Z"
    },
    "papermill": {
     "duration": 0.121689,
     "end_time": "2023-03-22T13:48:41.140549",
     "exception": false,
     "start_time": "2023-03-22T13:48:41.018860",
     "status": "completed"
    },
    "tags": []
   },
   "outputs": [],
   "source": [
    "assembler = VectorAssembler(inputCols=['Avg Session Length', 'Time on App',\n",
    "                                       'Time on Website', 'Length of Membership'], outputCol='features')\n",
    "\n",
    "\n",
    "output = assembler.transform(df)"
   ]
  },
  {
   "cell_type": "code",
   "execution_count": 106,
   "id": "22d8e433",
   "metadata": {
    "execution": {
     "iopub.execute_input": "2023-03-22T13:48:41.245915Z",
     "iopub.status.busy": "2023-03-22T13:48:41.245545Z",
     "iopub.status.idle": "2023-03-22T13:48:41.367080Z",
     "shell.execute_reply": "2023-03-22T13:48:41.366109Z"
    },
    "papermill": {
     "duration": 0.175759,
     "end_time": "2023-03-22T13:48:41.369252",
     "exception": false,
     "start_time": "2023-03-22T13:48:41.193493",
     "status": "completed"
    },
    "tags": []
   },
   "outputs": [
    {
     "name": "stdout",
     "output_type": "stream",
     "text": [
      "+--------------------+--------------------+----------------+------------------+------------------+------------------+--------------------+-------------------+--------------------+\n",
      "|               Email|             Address|          Avatar|Avg Session Length|       Time on App|   Time on Website|Length of Membership|Yearly Amount Spent|            features|\n",
      "+--------------------+--------------------+----------------+------------------+------------------+------------------+--------------------+-------------------+--------------------+\n",
      "|mstephenson@ferna...|835 Frank TunnelW...|          Violet| 34.49726772511229| 12.65565114916675| 39.57766801952616|  4.0826206329529615|  587.9510539684005|[34.4972677251122...|\n",
      "|   hduke@hotmail.com|4547 Archer Commo...|       DarkGreen| 31.92627202636016|11.109460728682564|37.268958868297744|    2.66403418213262|  392.2049334443264|[31.9262720263601...|\n",
      "|    pallen@yahoo.com|24645 Valerie Uni...|          Bisque|33.000914755642675|11.330278057777512|37.110597442120856|   4.104543202376424| 487.54750486747207|[33.0009147556426...|\n",
      "|riverarebecca@gma...|1414 David Throug...|     SaddleBrown| 34.30555662975554|13.717513665142507| 36.72128267790313|   3.120178782748092|  581.8523440352177|[34.3055566297555...|\n",
      "|mstephens@davidso...|14023 Rodriguez P...|MediumAquaMarine| 33.33067252364639|12.795188551078114| 37.53665330059473|   4.446308318351434|  599.4060920457634|[33.3306725236463...|\n",
      "|alvareznancy@luca...|645 Martha Park A...|     FloralWhite|33.871037879341976|12.026925339755056| 34.47687762925054|   5.493507201364199|   637.102447915074|[33.8710378793419...|\n",
      "|katherine20@yahoo...|68388 Reyes Light...|   DarkSlateBlue| 32.02159550138701|11.366348309710526| 36.68377615286961|   4.685017246570912|  521.5721747578274|[32.0215955013870...|\n",
      "|  awatkins@yahoo.com|Unit 6538 Box 898...|            Aqua|32.739142938380326| 12.35195897300293| 37.37335885854755|  4.4342734348999375|  549.9041461052942|[32.7391429383803...|\n",
      "|vchurch@walter-ma...|860 Lee KeyWest D...|          Salmon| 33.98777289568564|13.386235275676436|37.534497341555735|  3.2734335777477144|  570.2004089636196|[33.9877728956856...|\n",
      "|    bonnie69@lin.biz|PSC 2734, Box 525...|           Brown|31.936548618448917|11.814128294972196| 37.14516822352819|   3.202806071553459|  427.1993848953282|[31.9365486184489...|\n",
      "|andrew06@peterson...|26104 Alexander G...|          Tomato|33.992572774953736|13.338975447662113| 37.22580613162114|   2.482607770510596|  492.6060127179966|[33.9925727749537...|\n",
      "|ryanwerner@freema...|Unit 2413 Box 034...|          Tomato| 33.87936082480498|11.584782999535266| 37.08792607098381|    3.71320920294043|  522.3374046069357|[33.8793608248049...|\n",
      "|   knelson@gmail.com|6705 Miller Orcha...|       RoyalBlue|29.532428967057943|10.961298400154098| 37.42021557502538|   4.046423164299585|  408.6403510726275|[29.5324289670579...|\n",
      "|wrightpeter@yahoo...|05302 Dunlap Ferr...|          Bisque| 33.19033404372265|12.959226091609382|36.144666700041924|   3.918541839158999|  573.4158673313865|[33.1903340437226...|\n",
      "|taylormason@gmail...|7773 Powell Sprin...|        DarkBlue|32.387975853153876|13.148725692056516| 36.61995708279922|   2.494543646659249|  470.4527333009554|[32.3879758531538...|\n",
      "| jstark@anderson.com|49558 Ramirez Roa...|            Peru|30.737720372628182|12.636606052000127|36.213763093698624|  3.3578468423262944|  461.7807421962299|[30.7377203726281...|\n",
      "| wjennings@gmail.com|6362 Wilson Mount...|      PowderBlue| 32.12538689728784|11.733861690857394|  34.8940927514398|  3.1361327164897803| 457.84769594494855|[32.1253868972878...|\n",
      "|rebecca45@hale-ba...|8982 Burton RowWi...|       OliveDrab|32.338899323067196|12.013194694014402| 38.38513659413844|   2.420806160901484| 407.70454754954415|[32.3388993230671...|\n",
      "|alejandro75@hotma...|64475 Andre Club ...|            Cyan|32.187812045932155|  14.7153875441565| 38.24411459434352|   1.516575580831944|  452.3156754800354|[32.1878120459321...|\n",
      "|samuel46@love-wes...|544 Alexander Hei...|   LightSeaGreen| 32.61785606282345|13.989592555825254|37.190503800397956|   4.064548550437977|   605.061038804892|[32.6178560628234...|\n",
      "+--------------------+--------------------+----------------+------------------+------------------+------------------+--------------------+-------------------+--------------------+\n",
      "only showing top 20 rows\n",
      "\n"
     ]
    }
   ],
   "source": [
    "output.show()"
   ]
  },
  {
   "cell_type": "code",
   "execution_count": 107,
   "id": "2dfa2976",
   "metadata": {
    "execution": {
     "iopub.execute_input": "2023-03-22T13:48:41.474565Z",
     "iopub.status.busy": "2023-03-22T13:48:41.474192Z",
     "iopub.status.idle": "2023-03-22T13:48:41.487405Z",
     "shell.execute_reply": "2023-03-22T13:48:41.485709Z"
    },
    "papermill": {
     "duration": 0.06918,
     "end_time": "2023-03-22T13:48:41.490296",
     "exception": false,
     "start_time": "2023-03-22T13:48:41.421116",
     "status": "completed"
    },
    "tags": []
   },
   "outputs": [],
   "source": [
    "final_data = output.select(['features', 'Yearly Amount Spent'])"
   ]
  },
  {
   "cell_type": "code",
   "execution_count": 108,
   "id": "b798f21e",
   "metadata": {
    "execution": {
     "iopub.execute_input": "2023-03-22T13:48:41.592593Z",
     "iopub.status.busy": "2023-03-22T13:48:41.592189Z",
     "iopub.status.idle": "2023-03-22T13:48:41.667190Z",
     "shell.execute_reply": "2023-03-22T13:48:41.665957Z"
    },
    "papermill": {
     "duration": 0.128709,
     "end_time": "2023-03-22T13:48:41.669655",
     "exception": false,
     "start_time": "2023-03-22T13:48:41.540946",
     "status": "completed"
    },
    "tags": []
   },
   "outputs": [
    {
     "name": "stdout",
     "output_type": "stream",
     "text": [
      "+--------------------+-------------------+\n",
      "|            features|Yearly Amount Spent|\n",
      "+--------------------+-------------------+\n",
      "|[34.4972677251122...|  587.9510539684005|\n",
      "|[31.9262720263601...|  392.2049334443264|\n",
      "|[33.0009147556426...| 487.54750486747207|\n",
      "|[34.3055566297555...|  581.8523440352177|\n",
      "|[33.3306725236463...|  599.4060920457634|\n",
      "|[33.8710378793419...|   637.102447915074|\n",
      "|[32.0215955013870...|  521.5721747578274|\n",
      "|[32.7391429383803...|  549.9041461052942|\n",
      "|[33.9877728956856...|  570.2004089636196|\n",
      "|[31.9365486184489...|  427.1993848953282|\n",
      "|[33.9925727749537...|  492.6060127179966|\n",
      "|[33.8793608248049...|  522.3374046069357|\n",
      "|[29.5324289670579...|  408.6403510726275|\n",
      "|[33.1903340437226...|  573.4158673313865|\n",
      "|[32.3879758531538...|  470.4527333009554|\n",
      "|[30.7377203726281...|  461.7807421962299|\n",
      "|[32.1253868972878...| 457.84769594494855|\n",
      "|[32.3388993230671...| 407.70454754954415|\n",
      "|[32.1878120459321...|  452.3156754800354|\n",
      "|[32.6178560628234...|   605.061038804892|\n",
      "+--------------------+-------------------+\n",
      "only showing top 20 rows\n",
      "\n"
     ]
    }
   ],
   "source": [
    "final_data.show()"
   ]
  },
  {
   "cell_type": "code",
   "execution_count": 109,
   "id": "175e9dba",
   "metadata": {
    "execution": {
     "iopub.execute_input": "2023-03-22T13:48:41.773416Z",
     "iopub.status.busy": "2023-03-22T13:48:41.773062Z",
     "iopub.status.idle": "2023-03-22T13:48:41.922894Z",
     "shell.execute_reply": "2023-03-22T13:48:41.921914Z"
    },
    "papermill": {
     "duration": 0.204116,
     "end_time": "2023-03-22T13:48:41.925175",
     "exception": false,
     "start_time": "2023-03-22T13:48:41.721059",
     "status": "completed"
    },
    "tags": []
   },
   "outputs": [
    {
     "name": "stdout",
     "output_type": "stream",
     "text": [
      "+--------------------+-------------------+\n",
      "|            features|Yearly Amount Spent|\n",
      "+--------------------+-------------------+\n",
      "|[30.3931845423455...|  319.9288698031936|\n",
      "|[30.5743636841713...| 442.06441375806565|\n",
      "|[30.7377203726281...|  461.7807421962299|\n",
      "|[30.8162006488763...|   266.086340948469|\n",
      "|[30.8364326747734...|  467.5019004269896|\n",
      "|[30.8794843441274...|  490.2065999848547|\n",
      "|[30.9716756438877...|  494.6386097568927|\n",
      "|[31.0472221394875...|  392.4973991890214|\n",
      "|[31.0613251567161...|  487.5554580579016|\n",
      "|[31.1239743499119...|  486.9470538397658|\n",
      "|[31.1280900496166...|  557.2526867470547|\n",
      "|[31.1695067987115...|  427.3565308022928|\n",
      "|[31.2834474760581...|  591.7810894256675|\n",
      "|[31.3091926408918...|  432.7207178399336|\n",
      "|[31.3584771924370...|  495.1759504494754|\n",
      "|[31.3662121671876...|  430.5888825564849|\n",
      "|[31.3895854806643...|  410.0696110599829|\n",
      "|[31.4459724827577...| 484.87696493512857|\n",
      "|[31.5147378578019...|  489.8124879964614|\n",
      "|[31.5257524169682...|  443.9656268098819|\n",
      "+--------------------+-------------------+\n",
      "only showing top 20 rows\n",
      "\n"
     ]
    }
   ],
   "source": [
    "train, test = final_data.randomSplit([0.7, 0.3])\n",
    "\n",
    "train.show()"
   ]
  },
  {
   "cell_type": "code",
   "execution_count": 110,
   "id": "6e48bfa3",
   "metadata": {
    "execution": {
     "iopub.execute_input": "2023-03-22T13:48:42.026943Z",
     "iopub.status.busy": "2023-03-22T13:48:42.026502Z",
     "iopub.status.idle": "2023-03-22T13:48:42.196801Z",
     "shell.execute_reply": "2023-03-22T13:48:42.195845Z"
    },
    "papermill": {
     "duration": 0.224125,
     "end_time": "2023-03-22T13:48:42.199348",
     "exception": false,
     "start_time": "2023-03-22T13:48:41.975223",
     "status": "completed"
    },
    "tags": []
   },
   "outputs": [
    {
     "name": "stdout",
     "output_type": "stream",
     "text": [
      "+-------+-------------------+\n",
      "|summary|Yearly Amount Spent|\n",
      "+-------+-------------------+\n",
      "|  count|                351|\n",
      "|   mean|  498.2960902479787|\n",
      "| stddev|   76.1704543050622|\n",
      "|    min|   266.086340948469|\n",
      "|    max|  744.2218671047146|\n",
      "+-------+-------------------+\n",
      "\n"
     ]
    }
   ],
   "source": [
    "train.describe().show()"
   ]
  },
  {
   "cell_type": "code",
   "execution_count": 111,
   "id": "2eb58cb1",
   "metadata": {
    "execution": {
     "iopub.execute_input": "2023-03-22T13:48:42.335565Z",
     "iopub.status.busy": "2023-03-22T13:48:42.333979Z",
     "iopub.status.idle": "2023-03-22T13:48:42.344180Z",
     "shell.execute_reply": "2023-03-22T13:48:42.342652Z"
    },
    "papermill": {
     "duration": 0.075537,
     "end_time": "2023-03-22T13:48:42.346706",
     "exception": false,
     "start_time": "2023-03-22T13:48:42.271169",
     "status": "completed"
    },
    "tags": []
   },
   "outputs": [],
   "source": [
    "lr = LinearRegression(featuresCol='features', labelCol='Yearly Amount Spent', predictionCol='Predicted Yearly Amount Spent')"
   ]
  },
  {
   "cell_type": "code",
   "execution_count": 112,
   "id": "9fcdc6a2",
   "metadata": {
    "execution": {
     "iopub.execute_input": "2023-03-22T13:48:42.460858Z",
     "iopub.status.busy": "2023-03-22T13:48:42.460484Z",
     "iopub.status.idle": "2023-03-22T13:48:42.781568Z",
     "shell.execute_reply": "2023-03-22T13:48:42.780685Z"
    },
    "papermill": {
     "duration": 0.375952,
     "end_time": "2023-03-22T13:48:42.783676",
     "exception": false,
     "start_time": "2023-03-22T13:48:42.407724",
     "status": "completed"
    },
    "tags": []
   },
   "outputs": [
    {
     "name": "stdout",
     "output_type": "stream",
     "text": [
      "23/03/22 13:48:42 WARN Instrumentation: [2c8e1c8c] regParam is zero, which might cause numerical instability and overfitting.\n"
     ]
    }
   ],
   "source": [
    "lr_model = lr.fit(train)"
   ]
  },
  {
   "cell_type": "code",
   "execution_count": 113,
   "id": "257c69de",
   "metadata": {
    "execution": {
     "iopub.execute_input": "2023-03-22T13:48:42.926852Z",
     "iopub.status.busy": "2023-03-22T13:48:42.926099Z",
     "iopub.status.idle": "2023-03-22T13:48:43.086952Z",
     "shell.execute_reply": "2023-03-22T13:48:43.086049Z"
    },
    "papermill": {
     "duration": 0.233085,
     "end_time": "2023-03-22T13:48:43.088972",
     "exception": false,
     "start_time": "2023-03-22T13:48:42.855887",
     "status": "completed"
    },
    "tags": []
   },
   "outputs": [
    {
     "data": {
      "text/plain": [
       "0.9854323441494157"
      ]
     },
     "execution_count": 113,
     "metadata": {},
     "output_type": "execute_result"
    }
   ],
   "source": [
    "pred = lr_model.evaluate(test)\n",
    "pred.r2"
   ]
  },
  {
   "cell_type": "code",
   "execution_count": 114,
   "id": "21805ac5",
   "metadata": {
    "execution": {
     "iopub.execute_input": "2023-03-22T13:48:43.235320Z",
     "iopub.status.busy": "2023-03-22T13:48:43.234962Z",
     "iopub.status.idle": "2023-03-22T13:48:43.240525Z",
     "shell.execute_reply": "2023-03-22T13:48:43.239844Z"
    },
    "papermill": {
     "duration": 0.077884,
     "end_time": "2023-03-22T13:48:43.242516",
     "exception": false,
     "start_time": "2023-03-22T13:48:43.164632",
     "status": "completed"
    },
    "tags": []
   },
   "outputs": [
    {
     "data": {
      "text/plain": [
       "10.404474594233239"
      ]
     },
     "execution_count": 114,
     "metadata": {},
     "output_type": "execute_result"
    }
   ],
   "source": [
    "pred.rootMeanSquaredError"
   ]
  },
  {
   "cell_type": "code",
   "execution_count": 115,
   "id": "c68fa58d",
   "metadata": {
    "execution": {
     "iopub.execute_input": "2023-03-22T13:48:43.350347Z",
     "iopub.status.busy": "2023-03-22T13:48:43.350004Z",
     "iopub.status.idle": "2023-03-22T13:48:43.878577Z",
     "shell.execute_reply": "2023-03-22T13:48:43.877533Z"
    },
    "papermill": {
     "duration": 0.584458,
     "end_time": "2023-03-22T13:48:43.882004",
     "exception": false,
     "start_time": "2023-03-22T13:48:43.297546",
     "status": "completed"
    },
    "tags": []
   },
   "outputs": [
    {
     "name": "stdout",
     "output_type": "stream",
     "text": [
      "+-------+-----------------+--------------------+-----------+------------------+------------------+------------------+--------------------+-------------------+\n",
      "|summary|            Email|             Address|     Avatar|Avg Session Length|       Time on App|   Time on Website|Length of Membership|Yearly Amount Spent|\n",
      "+-------+-----------------+--------------------+-----------+------------------+------------------+------------------+--------------------+-------------------+\n",
      "|  count|              500|                 500|        500|               500|               500|               500|                 500|                500|\n",
      "|   mean|             null|                null|       null| 33.05319351819619|12.052487937166134| 37.06044542094859|   3.533461555915055|  499.3140382585909|\n",
      "| stddev|             null|                null|       null|0.9925631110845354|0.9942156084725424|1.0104889067564033|  0.9992775024112585|   79.3147815497068|\n",
      "|    min|aaron04@yahoo.com|0001 Mack MillNor...|  AliceBlue|29.532428967057943| 8.508152176032603| 33.91384724758464|  0.2699010899842742| 256.67058229005585|\n",
      "|    max|zscott@wright.com|Unit 7502 Box 834...|YellowGreen| 36.13966248879052|15.126994288792467|40.005181638101895|   6.922689335035808|  765.5184619388373|\n",
      "+-------+-----------------+--------------------+-----------+------------------+------------------+------------------+--------------------+-------------------+\n",
      "\n"
     ]
    }
   ],
   "source": [
    "df.describe().show()"
   ]
  },
  {
   "cell_type": "code",
   "execution_count": 116,
   "id": "178f6527",
   "metadata": {
    "execution": {
     "iopub.execute_input": "2023-03-22T13:48:44.016940Z",
     "iopub.status.busy": "2023-03-22T13:48:44.016562Z",
     "iopub.status.idle": "2023-03-22T13:48:44.180457Z",
     "shell.execute_reply": "2023-03-22T13:48:44.179594Z"
    },
    "papermill": {
     "duration": 0.22791,
     "end_time": "2023-03-22T13:48:44.184344",
     "exception": false,
     "start_time": "2023-03-22T13:48:43.956434",
     "status": "completed"
    },
    "tags": []
   },
   "outputs": [
    {
     "name": "stdout",
     "output_type": "stream",
     "text": [
      "+-------------------+\n",
      "|          residuals|\n",
      "+-------------------+\n",
      "| 10.193396704202314|\n",
      "| -4.008824546384233|\n",
      "|-12.695712328856814|\n",
      "|-0.1998173484663539|\n",
      "|  -2.91935629967611|\n",
      "|  18.44089512656211|\n",
      "|-3.9566226809558884|\n",
      "| -8.034141163400022|\n",
      "|  -4.18597125565185|\n",
      "| -14.25149601128328|\n",
      "| -7.794639646636938|\n",
      "| -5.590927517401212|\n",
      "|-17.156709285265663|\n",
      "|  7.676298819273313|\n",
      "|  12.32034652261865|\n",
      "| -6.104736449012648|\n",
      "|  8.406288411658693|\n",
      "| -17.82246647004922|\n",
      "|-4.9214358923010195|\n",
      "|  6.112652291823679|\n",
      "+-------------------+\n",
      "only showing top 20 rows\n",
      "\n"
     ]
    }
   ],
   "source": [
    "pred.residuals.show()"
   ]
  },
  {
   "cell_type": "markdown",
   "id": "904445ca",
   "metadata": {
    "papermill": {
     "duration": 0.05688,
     "end_time": "2023-03-22T13:48:44.315295",
     "exception": false,
     "start_time": "2023-03-22T13:48:44.258415",
     "status": "completed"
    },
    "tags": []
   },
   "source": [
    "# Linear Regression Excercise"
   ]
  },
  {
   "cell_type": "code",
   "execution_count": 117,
   "id": "d8eabf92",
   "metadata": {
    "execution": {
     "iopub.execute_input": "2023-03-22T13:48:44.418629Z",
     "iopub.status.busy": "2023-03-22T13:48:44.418330Z",
     "iopub.status.idle": "2023-03-22T13:48:45.684681Z",
     "shell.execute_reply": "2023-03-22T13:48:45.683294Z"
    },
    "papermill": {
     "duration": 1.320444,
     "end_time": "2023-03-22T13:48:45.686859",
     "exception": false,
     "start_time": "2023-03-22T13:48:44.366415",
     "status": "completed"
    },
    "tags": []
   },
   "outputs": [
    {
     "name": "stdout",
     "output_type": "stream",
     "text": [
      "23/03/22 13:48:44 WARN SparkSession: Using an existing Spark session; only runtime SQL configurations will take effect.\n",
      "+-----------+-----------+---+------------------+----------+------+------+-----------------+----+\n",
      "|  Ship_name|Cruise_line|Age|           Tonnage|passengers|length|cabins|passenger_density|crew|\n",
      "+-----------+-----------+---+------------------+----------+------+------+-----------------+----+\n",
      "|    Journey|    Azamara|  6|30.276999999999997|      6.94|  5.94|  3.55|            42.64|3.55|\n",
      "|      Quest|    Azamara|  6|30.276999999999997|      6.94|  5.94|  3.55|            42.64|3.55|\n",
      "|Celebration|   Carnival| 26|            47.262|     14.86|  7.22|  7.43|             31.8| 6.7|\n",
      "|   Conquest|   Carnival| 11|             110.0|     29.74|  9.53| 14.88|            36.99|19.1|\n",
      "|    Destiny|   Carnival| 17|           101.353|     26.42|  8.92| 13.21|            38.36|10.0|\n",
      "|    Ecstasy|   Carnival| 22|            70.367|     20.52|  8.55|  10.2|            34.29| 9.2|\n",
      "|    Elation|   Carnival| 15|            70.367|     20.52|  8.55|  10.2|            34.29| 9.2|\n",
      "|    Fantasy|   Carnival| 23|            70.367|     20.56|  8.55| 10.22|            34.23| 9.2|\n",
      "|Fascination|   Carnival| 19|            70.367|     20.52|  8.55|  10.2|            34.29| 9.2|\n",
      "|    Freedom|   Carnival|  6|110.23899999999999|      37.0|  9.51| 14.87|            29.79|11.5|\n",
      "|      Glory|   Carnival| 10|             110.0|     29.74|  9.51| 14.87|            36.99|11.6|\n",
      "|    Holiday|   Carnival| 28|            46.052|     14.52|  7.27|  7.26|            31.72| 6.6|\n",
      "|Imagination|   Carnival| 18|            70.367|     20.52|  8.55|  10.2|            34.29| 9.2|\n",
      "|Inspiration|   Carnival| 17|            70.367|     20.52|  8.55|  10.2|            34.29| 9.2|\n",
      "|     Legend|   Carnival| 11|              86.0|     21.24|  9.63| 10.62|            40.49| 9.3|\n",
      "|   Liberty*|   Carnival|  8|             110.0|     29.74|  9.51| 14.87|            36.99|11.6|\n",
      "|    Miracle|   Carnival|  9|              88.5|     21.24|  9.63| 10.62|            41.67|10.3|\n",
      "|   Paradise|   Carnival| 15|            70.367|     20.52|  8.55|  10.2|            34.29| 9.2|\n",
      "|      Pride|   Carnival| 12|              88.5|     21.24|  9.63| 11.62|            41.67| 9.3|\n",
      "|  Sensation|   Carnival| 20|            70.367|     20.52|  8.55|  10.2|            34.29| 9.2|\n",
      "+-----------+-----------+---+------------------+----------+------+------+-----------------+----+\n",
      "only showing top 20 rows\n",
      "\n",
      "None\n",
      "root\n",
      " |-- Ship_name: string (nullable = true)\n",
      " |-- Cruise_line: string (nullable = true)\n",
      " |-- Age: integer (nullable = true)\n",
      " |-- Tonnage: double (nullable = true)\n",
      " |-- passengers: double (nullable = true)\n",
      " |-- length: double (nullable = true)\n",
      " |-- cabins: double (nullable = true)\n",
      " |-- passenger_density: double (nullable = true)\n",
      " |-- crew: double (nullable = true)\n",
      "\n",
      "None\n",
      "+-------+---------+-----------+------------------+------------------+-----------------+-----------------+------------------+-----------------+-----------------+\n",
      "|summary|Ship_name|Cruise_line|               Age|           Tonnage|       passengers|           length|            cabins|passenger_density|             crew|\n",
      "+-------+---------+-----------+------------------+------------------+-----------------+-----------------+------------------+-----------------+-----------------+\n",
      "|  count|      158|        158|               158|               158|              158|              158|               158|              158|              158|\n",
      "|   mean| Infinity|       null|15.689873417721518| 71.28467088607599|18.45740506329114|8.130632911392404| 8.830000000000005|39.90094936708861|7.794177215189873|\n",
      "| stddev|     null|       null| 7.615691058751413|37.229540025907866|9.677094775143416|1.793473548054825|4.4714172221480615| 8.63921711391542|3.503486564627034|\n",
      "|    min|Adventure|    Azamara|                 4|             2.329|             0.66|             2.79|              0.33|             17.7|             0.59|\n",
      "|    max|Zuiderdam|   Windstar|                48|             220.0|             54.0|            11.82|              27.0|            71.43|             21.0|\n",
      "+-------+---------+-----------+------------------+------------------+-----------------+-----------------+------------------+-----------------+-----------------+\n",
      "\n",
      "None\n",
      "['Ship_name', 'Cruise_line', 'Age', 'Tonnage', 'passengers', 'length', 'cabins', 'passenger_density', 'crew']\n",
      "+-----------+-----------+---+------------------+----------+------+------+-----------------+----+--------------------+\n",
      "|  Ship_name|Cruise_line|Age|           Tonnage|passengers|length|cabins|passenger_density|crew|            features|\n",
      "+-----------+-----------+---+------------------+----------+------+------+-----------------+----+--------------------+\n",
      "|    Journey|    Azamara|  6|30.276999999999997|      6.94|  5.94|  3.55|            42.64|3.55|[6.0,30.276999999...|\n",
      "|      Quest|    Azamara|  6|30.276999999999997|      6.94|  5.94|  3.55|            42.64|3.55|[6.0,30.276999999...|\n",
      "|Celebration|   Carnival| 26|            47.262|     14.86|  7.22|  7.43|             31.8| 6.7|[26.0,47.262,14.8...|\n",
      "|   Conquest|   Carnival| 11|             110.0|     29.74|  9.53| 14.88|            36.99|19.1|[11.0,110.0,29.74...|\n",
      "|    Destiny|   Carnival| 17|           101.353|     26.42|  8.92| 13.21|            38.36|10.0|[17.0,101.353,26....|\n",
      "|    Ecstasy|   Carnival| 22|            70.367|     20.52|  8.55|  10.2|            34.29| 9.2|[22.0,70.367,20.5...|\n",
      "|    Elation|   Carnival| 15|            70.367|     20.52|  8.55|  10.2|            34.29| 9.2|[15.0,70.367,20.5...|\n",
      "|    Fantasy|   Carnival| 23|            70.367|     20.56|  8.55| 10.22|            34.23| 9.2|[23.0,70.367,20.5...|\n",
      "|Fascination|   Carnival| 19|            70.367|     20.52|  8.55|  10.2|            34.29| 9.2|[19.0,70.367,20.5...|\n",
      "|    Freedom|   Carnival|  6|110.23899999999999|      37.0|  9.51| 14.87|            29.79|11.5|[6.0,110.23899999...|\n",
      "|      Glory|   Carnival| 10|             110.0|     29.74|  9.51| 14.87|            36.99|11.6|[10.0,110.0,29.74...|\n",
      "|    Holiday|   Carnival| 28|            46.052|     14.52|  7.27|  7.26|            31.72| 6.6|[28.0,46.052,14.5...|\n",
      "|Imagination|   Carnival| 18|            70.367|     20.52|  8.55|  10.2|            34.29| 9.2|[18.0,70.367,20.5...|\n",
      "|Inspiration|   Carnival| 17|            70.367|     20.52|  8.55|  10.2|            34.29| 9.2|[17.0,70.367,20.5...|\n",
      "|     Legend|   Carnival| 11|              86.0|     21.24|  9.63| 10.62|            40.49| 9.3|[11.0,86.0,21.24,...|\n",
      "|   Liberty*|   Carnival|  8|             110.0|     29.74|  9.51| 14.87|            36.99|11.6|[8.0,110.0,29.74,...|\n",
      "|    Miracle|   Carnival|  9|              88.5|     21.24|  9.63| 10.62|            41.67|10.3|[9.0,88.5,21.24,9...|\n",
      "|   Paradise|   Carnival| 15|            70.367|     20.52|  8.55|  10.2|            34.29| 9.2|[15.0,70.367,20.5...|\n",
      "|      Pride|   Carnival| 12|              88.5|     21.24|  9.63| 11.62|            41.67| 9.3|[12.0,88.5,21.24,...|\n",
      "|  Sensation|   Carnival| 20|            70.367|     20.52|  8.55|  10.2|            34.29| 9.2|[20.0,70.367,20.5...|\n",
      "+-----------+-----------+---+------------------+----------+------+------+-----------------+----+--------------------+\n",
      "only showing top 20 rows\n",
      "\n",
      "None\n",
      "23/03/22 13:48:45 WARN Instrumentation: [2602a303] regParam is zero, which might cause numerical instability and overfitting.\n",
      "R squared attained on set is 0.9502236290016697\n",
      "RMS Error attained on the test set is 0.8337106453072182\n"
     ]
    }
   ],
   "source": [
    "from pyspark.sql import SparkSession\n",
    "from pyspark.ml.feature import VectorAssembler\n",
    "from pyspark.ml.regression import LinearRegression\n",
    "\n",
    "spark = SparkSession.builder.appName('Practice').getOrCreate()\n",
    "\n",
    "cruise_data = spark.read.csv('/kaggle/input/cruise-data/cruise_ship_info.csv', inferSchema=True, header=True)\n",
    "\n",
    "print(cruise_data.show())\n",
    "\n",
    "print(cruise_data.printSchema())\n",
    "\n",
    "print(cruise_data.describe().show())\n",
    "\n",
    "print(cruise_data.columns)\n",
    "\n",
    "\n",
    "assembler = VectorAssembler(inputCols=['Age', 'Tonnage', 'passengers', 'length', 'cabins', 'passenger_density'], outputCol='features')\n",
    "\n",
    "cruise_data = assembler.transform(cruise_data)\n",
    "\n",
    "print(cruise_data.show())\n",
    "\n",
    "train, test = cruise_data.randomSplit([0.7, 0.3])\n",
    "\n",
    "lr = LinearRegression(featuresCol='features', labelCol='crew', predictionCol='Estimated Number of Crew')\n",
    "\n",
    "lr_model = lr.fit(train)\n",
    " \n",
    "pred = lr_model.evaluate(test)\n",
    "\n",
    "print(\"R squared attained on set is {x}\".format(x = pred.r2))\n",
    "print(\"RMS Error attained on the test set is {y}\".format(y = pred.rootMeanSquaredError))"
   ]
  },
  {
   "cell_type": "code",
   "execution_count": 118,
   "id": "b2a00674",
   "metadata": {
    "execution": {
     "iopub.execute_input": "2023-03-22T13:48:45.830421Z",
     "iopub.status.busy": "2023-03-22T13:48:45.829982Z",
     "iopub.status.idle": "2023-03-22T13:48:47.413039Z",
     "shell.execute_reply": "2023-03-22T13:48:47.411701Z"
    },
    "papermill": {
     "duration": 1.651543,
     "end_time": "2023-03-22T13:48:47.416144",
     "exception": false,
     "start_time": "2023-03-22T13:48:45.764601",
     "status": "completed"
    },
    "tags": []
   },
   "outputs": [
    {
     "name": "stdout",
     "output_type": "stream",
     "text": [
      "+-----------+-----------+---+------------------+----------+------+------+-----------------+----+\n",
      "|  Ship_name|Cruise_line|Age|           Tonnage|passengers|length|cabins|passenger_density|crew|\n",
      "+-----------+-----------+---+------------------+----------+------+------+-----------------+----+\n",
      "|    Journey|    Azamara|  6|30.276999999999997|      6.94|  5.94|  3.55|            42.64|3.55|\n",
      "|      Quest|    Azamara|  6|30.276999999999997|      6.94|  5.94|  3.55|            42.64|3.55|\n",
      "|Celebration|   Carnival| 26|            47.262|     14.86|  7.22|  7.43|             31.8| 6.7|\n",
      "|   Conquest|   Carnival| 11|             110.0|     29.74|  9.53| 14.88|            36.99|19.1|\n",
      "|    Destiny|   Carnival| 17|           101.353|     26.42|  8.92| 13.21|            38.36|10.0|\n",
      "|    Ecstasy|   Carnival| 22|            70.367|     20.52|  8.55|  10.2|            34.29| 9.2|\n",
      "|    Elation|   Carnival| 15|            70.367|     20.52|  8.55|  10.2|            34.29| 9.2|\n",
      "|    Fantasy|   Carnival| 23|            70.367|     20.56|  8.55| 10.22|            34.23| 9.2|\n",
      "|Fascination|   Carnival| 19|            70.367|     20.52|  8.55|  10.2|            34.29| 9.2|\n",
      "|    Freedom|   Carnival|  6|110.23899999999999|      37.0|  9.51| 14.87|            29.79|11.5|\n",
      "|      Glory|   Carnival| 10|             110.0|     29.74|  9.51| 14.87|            36.99|11.6|\n",
      "|    Holiday|   Carnival| 28|            46.052|     14.52|  7.27|  7.26|            31.72| 6.6|\n",
      "|Imagination|   Carnival| 18|            70.367|     20.52|  8.55|  10.2|            34.29| 9.2|\n",
      "|Inspiration|   Carnival| 17|            70.367|     20.52|  8.55|  10.2|            34.29| 9.2|\n",
      "|     Legend|   Carnival| 11|              86.0|     21.24|  9.63| 10.62|            40.49| 9.3|\n",
      "|   Liberty*|   Carnival|  8|             110.0|     29.74|  9.51| 14.87|            36.99|11.6|\n",
      "|    Miracle|   Carnival|  9|              88.5|     21.24|  9.63| 10.62|            41.67|10.3|\n",
      "|   Paradise|   Carnival| 15|            70.367|     20.52|  8.55|  10.2|            34.29| 9.2|\n",
      "|      Pride|   Carnival| 12|              88.5|     21.24|  9.63| 11.62|            41.67| 9.3|\n",
      "|  Sensation|   Carnival| 20|            70.367|     20.52|  8.55|  10.2|            34.29| 9.2|\n",
      "+-----------+-----------+---+------------------+----------+------+------+-----------------+----+\n",
      "only showing top 20 rows\n",
      "\n",
      "None\n",
      "root\n",
      " |-- Ship_name: string (nullable = true)\n",
      " |-- Cruise_line: string (nullable = true)\n",
      " |-- Age: integer (nullable = true)\n",
      " |-- Tonnage: double (nullable = true)\n",
      " |-- passengers: double (nullable = true)\n",
      " |-- length: double (nullable = true)\n",
      " |-- cabins: double (nullable = true)\n",
      " |-- passenger_density: double (nullable = true)\n",
      " |-- crew: double (nullable = true)\n",
      "\n",
      "None\n",
      "+-------+---------+-----------+------------------+------------------+-----------------+-----------------+------------------+-----------------+-----------------+\n",
      "|summary|Ship_name|Cruise_line|               Age|           Tonnage|       passengers|           length|            cabins|passenger_density|             crew|\n",
      "+-------+---------+-----------+------------------+------------------+-----------------+-----------------+------------------+-----------------+-----------------+\n",
      "|  count|      158|        158|               158|               158|              158|              158|               158|              158|              158|\n",
      "|   mean| Infinity|       null|15.689873417721518| 71.28467088607599|18.45740506329114|8.130632911392404| 8.830000000000005|39.90094936708861|7.794177215189873|\n",
      "| stddev|     null|       null| 7.615691058751413|37.229540025907866|9.677094775143416|1.793473548054825|4.4714172221480615| 8.63921711391542|3.503486564627034|\n",
      "|    min|Adventure|    Azamara|                 4|             2.329|             0.66|             2.79|              0.33|             17.7|             0.59|\n",
      "|    max|Zuiderdam|   Windstar|                48|             220.0|             54.0|            11.82|              27.0|            71.43|             21.0|\n",
      "+-------+---------+-----------+------------------+------------------+-----------------+-----------------+------------------+-----------------+-----------------+\n",
      "\n",
      "None\n",
      "['Ship_name', 'Cruise_line', 'Age', 'Tonnage', 'passengers', 'length', 'cabins', 'passenger_density', 'crew']\n",
      "+-----------+-----------+---+------------------+----------+------+------+-----------------+----+-----------------------+--------------------+\n",
      "|  Ship_name|Cruise_line|Age|           Tonnage|passengers|length|cabins|passenger_density|crew|Categorical_Cruise_line|            features|\n",
      "+-----------+-----------+---+------------------+----------+------+------+-----------------+----+-----------------------+--------------------+\n",
      "|    Journey|    Azamara|  6|30.276999999999997|      6.94|  5.94|  3.55|            42.64|3.55|                   16.0|[6.0,30.276999999...|\n",
      "|      Quest|    Azamara|  6|30.276999999999997|      6.94|  5.94|  3.55|            42.64|3.55|                   16.0|[6.0,30.276999999...|\n",
      "|Celebration|   Carnival| 26|            47.262|     14.86|  7.22|  7.43|             31.8| 6.7|                    1.0|[26.0,47.262,14.8...|\n",
      "|   Conquest|   Carnival| 11|             110.0|     29.74|  9.53| 14.88|            36.99|19.1|                    1.0|[11.0,110.0,29.74...|\n",
      "|    Destiny|   Carnival| 17|           101.353|     26.42|  8.92| 13.21|            38.36|10.0|                    1.0|[17.0,101.353,26....|\n",
      "|    Ecstasy|   Carnival| 22|            70.367|     20.52|  8.55|  10.2|            34.29| 9.2|                    1.0|[22.0,70.367,20.5...|\n",
      "|    Elation|   Carnival| 15|            70.367|     20.52|  8.55|  10.2|            34.29| 9.2|                    1.0|[15.0,70.367,20.5...|\n",
      "|    Fantasy|   Carnival| 23|            70.367|     20.56|  8.55| 10.22|            34.23| 9.2|                    1.0|[23.0,70.367,20.5...|\n",
      "|Fascination|   Carnival| 19|            70.367|     20.52|  8.55|  10.2|            34.29| 9.2|                    1.0|[19.0,70.367,20.5...|\n",
      "|    Freedom|   Carnival|  6|110.23899999999999|      37.0|  9.51| 14.87|            29.79|11.5|                    1.0|[6.0,110.23899999...|\n",
      "|      Glory|   Carnival| 10|             110.0|     29.74|  9.51| 14.87|            36.99|11.6|                    1.0|[10.0,110.0,29.74...|\n",
      "|    Holiday|   Carnival| 28|            46.052|     14.52|  7.27|  7.26|            31.72| 6.6|                    1.0|[28.0,46.052,14.5...|\n",
      "|Imagination|   Carnival| 18|            70.367|     20.52|  8.55|  10.2|            34.29| 9.2|                    1.0|[18.0,70.367,20.5...|\n",
      "|Inspiration|   Carnival| 17|            70.367|     20.52|  8.55|  10.2|            34.29| 9.2|                    1.0|[17.0,70.367,20.5...|\n",
      "|     Legend|   Carnival| 11|              86.0|     21.24|  9.63| 10.62|            40.49| 9.3|                    1.0|[11.0,86.0,21.24,...|\n",
      "|   Liberty*|   Carnival|  8|             110.0|     29.74|  9.51| 14.87|            36.99|11.6|                    1.0|[8.0,110.0,29.74,...|\n",
      "|    Miracle|   Carnival|  9|              88.5|     21.24|  9.63| 10.62|            41.67|10.3|                    1.0|[9.0,88.5,21.24,9...|\n",
      "|   Paradise|   Carnival| 15|            70.367|     20.52|  8.55|  10.2|            34.29| 9.2|                    1.0|[15.0,70.367,20.5...|\n",
      "|      Pride|   Carnival| 12|              88.5|     21.24|  9.63| 11.62|            41.67| 9.3|                    1.0|[12.0,88.5,21.24,...|\n",
      "|  Sensation|   Carnival| 20|            70.367|     20.52|  8.55|  10.2|            34.29| 9.2|                    1.0|[20.0,70.367,20.5...|\n",
      "+-----------+-----------+---+------------------+----------+------+------+-----------------+----+-----------------------+--------------------+\n",
      "only showing top 20 rows\n",
      "\n",
      "None\n",
      "23/03/22 13:48:47 WARN Instrumentation: [9fcfd4b3] regParam is zero, which might cause numerical instability and overfitting.\n",
      "R squared attained on set is 0.9646210875259285\n",
      "RMS Error attained on the test set is 0.6159013887290786\n"
     ]
    }
   ],
   "source": [
    "from pyspark.sql import SparkSession\n",
    "from pyspark.ml.feature import VectorAssembler\n",
    "from pyspark.ml.regression import LinearRegression\n",
    "from pyspark.ml.feature import StringIndexer\n",
    "\n",
    "spark = SparkSession.builder.appName('Practice').getOrCreate()\n",
    "\n",
    "cruise_data = spark.read.csv('/kaggle/input/cruise-data/cruise_ship_info.csv', inferSchema=True, header=True)\n",
    "\n",
    "print(cruise_data.show())\n",
    "\n",
    "print(cruise_data.printSchema())\n",
    "\n",
    "print(cruise_data.describe().show())\n",
    "\n",
    "print(cruise_data.columns)\n",
    "\n",
    "\n",
    "indexer = StringIndexer(inputCol='Cruise_line', outputCol='Categorical_Cruise_line')\n",
    "\n",
    "cruise_data = indexer.fit(cruise_data).transform(cruise_data)\n",
    "\n",
    "assembler = VectorAssembler(inputCols=['Age', 'Tonnage', 'passengers', 'length', 'cabins', 'passenger_density', 'Categorical_Cruise_line'], outputCol='features')\n",
    "\n",
    "cruise_data = assembler.transform(cruise_data)\n",
    "\n",
    "print(cruise_data.show())\n",
    "\n",
    "train, test = cruise_data.randomSplit([0.7, 0.3])\n",
    "\n",
    "lr = LinearRegression(featuresCol='features', labelCol='crew', predictionCol='Estimated Number of Crew')\n",
    "\n",
    "lr_model = lr.fit(train)\n",
    " \n",
    "pred = lr_model.evaluate(test)\n",
    "\n",
    "print(\"R squared attained on set is {x}\".format(x = pred.r2))\n",
    "print(\"RMS Error attained on the test set is {y}\".format(y = pred.rootMeanSquaredError))"
   ]
  },
  {
   "cell_type": "markdown",
   "id": "9e9cdaa3",
   "metadata": {
    "papermill": {
     "duration": 0.051653,
     "end_time": "2023-03-22T13:48:47.531174",
     "exception": false,
     "start_time": "2023-03-22T13:48:47.479521",
     "status": "completed"
    },
    "tags": []
   },
   "source": [
    "# Logistic Regression in Spark"
   ]
  },
  {
   "cell_type": "code",
   "execution_count": 119,
   "id": "55a259ae",
   "metadata": {
    "execution": {
     "iopub.execute_input": "2023-03-22T13:48:47.635355Z",
     "iopub.status.busy": "2023-03-22T13:48:47.634983Z",
     "iopub.status.idle": "2023-03-22T13:48:47.643303Z",
     "shell.execute_reply": "2023-03-22T13:48:47.641596Z"
    },
    "papermill": {
     "duration": 0.063704,
     "end_time": "2023-03-22T13:48:47.646117",
     "exception": false,
     "start_time": "2023-03-22T13:48:47.582413",
     "status": "completed"
    },
    "tags": []
   },
   "outputs": [
    {
     "name": "stdout",
     "output_type": "stream",
     "text": [
      "23/03/22 13:48:47 WARN SparkSession: Using an existing Spark session; only runtime SQL configurations will take effect.\n"
     ]
    }
   ],
   "source": [
    "from pyspark.sql import SparkSession\n",
    "\n",
    "spark = SparkSession.builder.appName('Logit').getOrCreate()"
   ]
  },
  {
   "cell_type": "code",
   "execution_count": 120,
   "id": "0de24493",
   "metadata": {
    "execution": {
     "iopub.execute_input": "2023-03-22T13:48:47.752604Z",
     "iopub.status.busy": "2023-03-22T13:48:47.751361Z",
     "iopub.status.idle": "2023-03-22T13:48:47.894848Z",
     "shell.execute_reply": "2023-03-22T13:48:47.893853Z"
    },
    "papermill": {
     "duration": 0.198859,
     "end_time": "2023-03-22T13:48:47.897809",
     "exception": false,
     "start_time": "2023-03-22T13:48:47.698950",
     "status": "completed"
    },
    "tags": []
   },
   "outputs": [],
   "source": [
    "ttd = spark.read.csv('/kaggle/input/Titanic/titanic.csv', inferSchema=True, header=True)"
   ]
  },
  {
   "cell_type": "code",
   "execution_count": 121,
   "id": "2a6d058b",
   "metadata": {
    "execution": {
     "iopub.execute_input": "2023-03-22T13:48:48.008195Z",
     "iopub.status.busy": "2023-03-22T13:48:48.007871Z",
     "iopub.status.idle": "2023-03-22T13:48:48.642535Z",
     "shell.execute_reply": "2023-03-22T13:48:48.641475Z"
    },
    "papermill": {
     "duration": 0.690298,
     "end_time": "2023-03-22T13:48:48.645112",
     "exception": false,
     "start_time": "2023-03-22T13:48:47.954814",
     "status": "completed"
    },
    "tags": []
   },
   "outputs": [
    {
     "name": "stdout",
     "output_type": "stream",
     "text": [
      "+-------+-----------------+-------------------+------------------+--------------------+------+------------------+------------------+-------------------+------------------+-----------------+-----+--------+\n",
      "|summary|      PassengerId|           Survived|            Pclass|                Name|   Sex|               Age|             SibSp|              Parch|            Ticket|             Fare|Cabin|Embarked|\n",
      "+-------+-----------------+-------------------+------------------+--------------------+------+------------------+------------------+-------------------+------------------+-----------------+-----+--------+\n",
      "|  count|              891|                891|               891|                 891|   891|               714|               891|                891|               891|              891|  204|     889|\n",
      "|   mean|            446.0| 0.3838383838383838| 2.308641975308642|                null|  null| 29.69911764705882|0.5230078563411896|0.38159371492704824|260318.54916792738| 32.2042079685746| null|    null|\n",
      "| stddev|257.3538420152301|0.48659245426485753|0.8360712409770491|                null|  null|14.526497332334035|1.1027434322934315| 0.8060572211299488|471609.26868834975|49.69342859718089| null|    null|\n",
      "|    min|                1|                  0|                 1|\"Andersson, Mr. A...|female|              0.42|                 0|                  0|            110152|              0.0|  A10|       C|\n",
      "|    max|              891|                  1|                 3|van Melkebeke, Mr...|  male|              80.0|                 8|                  6|         WE/P 5735|         512.3292|    T|       S|\n",
      "+-------+-----------------+-------------------+------------------+--------------------+------+------------------+------------------+-------------------+------------------+-----------------+-----+--------+\n",
      "\n"
     ]
    }
   ],
   "source": [
    "ttd.describe().show()"
   ]
  },
  {
   "cell_type": "code",
   "execution_count": 122,
   "id": "dd1f36a1",
   "metadata": {
    "execution": {
     "iopub.execute_input": "2023-03-22T13:48:48.814662Z",
     "iopub.status.busy": "2023-03-22T13:48:48.813537Z",
     "iopub.status.idle": "2023-03-22T13:48:48.819105Z",
     "shell.execute_reply": "2023-03-22T13:48:48.818352Z"
    },
    "papermill": {
     "duration": 0.111146,
     "end_time": "2023-03-22T13:48:48.821018",
     "exception": false,
     "start_time": "2023-03-22T13:48:48.709872",
     "status": "completed"
    },
    "tags": []
   },
   "outputs": [
    {
     "name": "stdout",
     "output_type": "stream",
     "text": [
      "root\n",
      " |-- PassengerId: integer (nullable = true)\n",
      " |-- Survived: integer (nullable = true)\n",
      " |-- Pclass: integer (nullable = true)\n",
      " |-- Name: string (nullable = true)\n",
      " |-- Sex: string (nullable = true)\n",
      " |-- Age: double (nullable = true)\n",
      " |-- SibSp: integer (nullable = true)\n",
      " |-- Parch: integer (nullable = true)\n",
      " |-- Ticket: string (nullable = true)\n",
      " |-- Fare: double (nullable = true)\n",
      " |-- Cabin: string (nullable = true)\n",
      " |-- Embarked: string (nullable = true)\n",
      "\n"
     ]
    }
   ],
   "source": [
    "ttd.printSchema()"
   ]
  },
  {
   "cell_type": "code",
   "execution_count": 123,
   "id": "6e9d57c5",
   "metadata": {
    "execution": {
     "iopub.execute_input": "2023-03-22T13:48:48.928238Z",
     "iopub.status.busy": "2023-03-22T13:48:48.927625Z",
     "iopub.status.idle": "2023-03-22T13:48:49.004985Z",
     "shell.execute_reply": "2023-03-22T13:48:49.003718Z"
    },
    "papermill": {
     "duration": 0.13289,
     "end_time": "2023-03-22T13:48:49.007193",
     "exception": false,
     "start_time": "2023-03-22T13:48:48.874303",
     "status": "completed"
    },
    "tags": []
   },
   "outputs": [
    {
     "name": "stdout",
     "output_type": "stream",
     "text": [
      "+-----------+--------+------+--------------------+------+----+-----+-----+----------------+-------+-----+--------+\n",
      "|PassengerId|Survived|Pclass|                Name|   Sex| Age|SibSp|Parch|          Ticket|   Fare|Cabin|Embarked|\n",
      "+-----------+--------+------+--------------------+------+----+-----+-----+----------------+-------+-----+--------+\n",
      "|          1|       0|     3|Braund, Mr. Owen ...|  male|22.0|    1|    0|       A/5 21171|   7.25| null|       S|\n",
      "|          2|       1|     1|Cumings, Mrs. Joh...|female|38.0|    1|    0|        PC 17599|71.2833|  C85|       C|\n",
      "|          3|       1|     3|Heikkinen, Miss. ...|female|26.0|    0|    0|STON/O2. 3101282|  7.925| null|       S|\n",
      "|          4|       1|     1|Futrelle, Mrs. Ja...|female|35.0|    1|    0|          113803|   53.1| C123|       S|\n",
      "|          5|       0|     3|Allen, Mr. Willia...|  male|35.0|    0|    0|          373450|   8.05| null|       S|\n",
      "|          6|       0|     3|    Moran, Mr. James|  male|null|    0|    0|          330877| 8.4583| null|       Q|\n",
      "|          7|       0|     1|McCarthy, Mr. Tim...|  male|54.0|    0|    0|           17463|51.8625|  E46|       S|\n",
      "|          8|       0|     3|Palsson, Master. ...|  male| 2.0|    3|    1|          349909| 21.075| null|       S|\n",
      "|          9|       1|     3|Johnson, Mrs. Osc...|female|27.0|    0|    2|          347742|11.1333| null|       S|\n",
      "|         10|       1|     2|Nasser, Mrs. Nich...|female|14.0|    1|    0|          237736|30.0708| null|       C|\n",
      "|         11|       1|     3|Sandstrom, Miss. ...|female| 4.0|    1|    1|         PP 9549|   16.7|   G6|       S|\n",
      "|         12|       1|     1|Bonnell, Miss. El...|female|58.0|    0|    0|          113783|  26.55| C103|       S|\n",
      "|         13|       0|     3|Saundercock, Mr. ...|  male|20.0|    0|    0|       A/5. 2151|   8.05| null|       S|\n",
      "|         14|       0|     3|Andersson, Mr. An...|  male|39.0|    1|    5|          347082| 31.275| null|       S|\n",
      "|         15|       0|     3|Vestrom, Miss. Hu...|female|14.0|    0|    0|          350406| 7.8542| null|       S|\n",
      "|         16|       1|     2|Hewlett, Mrs. (Ma...|female|55.0|    0|    0|          248706|   16.0| null|       S|\n",
      "|         17|       0|     3|Rice, Master. Eugene|  male| 2.0|    4|    1|          382652| 29.125| null|       Q|\n",
      "|         18|       1|     2|Williams, Mr. Cha...|  male|null|    0|    0|          244373|   13.0| null|       S|\n",
      "|         19|       0|     3|Vander Planke, Mr...|female|31.0|    1|    0|          345763|   18.0| null|       S|\n",
      "|         20|       1|     3|Masselmani, Mrs. ...|female|null|    0|    0|            2649|  7.225| null|       C|\n",
      "+-----------+--------+------+--------------------+------+----+-----+-----+----------------+-------+-----+--------+\n",
      "only showing top 20 rows\n",
      "\n"
     ]
    }
   ],
   "source": [
    "ttd.show()"
   ]
  },
  {
   "cell_type": "code",
   "execution_count": 124,
   "id": "92009016",
   "metadata": {
    "execution": {
     "iopub.execute_input": "2023-03-22T13:48:49.114240Z",
     "iopub.status.busy": "2023-03-22T13:48:49.112694Z",
     "iopub.status.idle": "2023-03-22T13:48:49.121660Z",
     "shell.execute_reply": "2023-03-22T13:48:49.120582Z"
    },
    "papermill": {
     "duration": 0.064497,
     "end_time": "2023-03-22T13:48:49.123674",
     "exception": false,
     "start_time": "2023-03-22T13:48:49.059177",
     "status": "completed"
    },
    "tags": []
   },
   "outputs": [
    {
     "data": {
      "text/plain": [
       "['PassengerId',\n",
       " 'Survived',\n",
       " 'Pclass',\n",
       " 'Name',\n",
       " 'Sex',\n",
       " 'Age',\n",
       " 'SibSp',\n",
       " 'Parch',\n",
       " 'Ticket',\n",
       " 'Fare',\n",
       " 'Cabin',\n",
       " 'Embarked']"
      ]
     },
     "execution_count": 124,
     "metadata": {},
     "output_type": "execute_result"
    }
   ],
   "source": [
    "ttd.columns"
   ]
  },
  {
   "cell_type": "code",
   "execution_count": 125,
   "id": "b9614ad6",
   "metadata": {
    "execution": {
     "iopub.execute_input": "2023-03-22T13:48:49.229029Z",
     "iopub.status.busy": "2023-03-22T13:48:49.228609Z",
     "iopub.status.idle": "2023-03-22T13:48:49.247380Z",
     "shell.execute_reply": "2023-03-22T13:48:49.246075Z"
    },
    "papermill": {
     "duration": 0.074868,
     "end_time": "2023-03-22T13:48:49.249946",
     "exception": false,
     "start_time": "2023-03-22T13:48:49.175078",
     "status": "completed"
    },
    "tags": []
   },
   "outputs": [],
   "source": [
    "cols = ttd.select(['Survived','Pclass','Sex','Age','SibSp','Parch','Fare','Embarked'])"
   ]
  },
  {
   "cell_type": "code",
   "execution_count": 126,
   "id": "3e3bec48",
   "metadata": {
    "execution": {
     "iopub.execute_input": "2023-03-22T13:48:49.359572Z",
     "iopub.status.busy": "2023-03-22T13:48:49.359001Z",
     "iopub.status.idle": "2023-03-22T13:48:49.371569Z",
     "shell.execute_reply": "2023-03-22T13:48:49.370442Z"
    },
    "papermill": {
     "duration": 0.071028,
     "end_time": "2023-03-22T13:48:49.374201",
     "exception": false,
     "start_time": "2023-03-22T13:48:49.303173",
     "status": "completed"
    },
    "tags": []
   },
   "outputs": [],
   "source": [
    "final_data = cols.na.drop()"
   ]
  },
  {
   "cell_type": "code",
   "execution_count": 127,
   "id": "8a15a99a",
   "metadata": {
    "execution": {
     "iopub.execute_input": "2023-03-22T13:48:49.481331Z",
     "iopub.status.busy": "2023-03-22T13:48:49.480690Z",
     "iopub.status.idle": "2023-03-22T13:48:49.487389Z",
     "shell.execute_reply": "2023-03-22T13:48:49.486747Z"
    },
    "papermill": {
     "duration": 0.062099,
     "end_time": "2023-03-22T13:48:49.489716",
     "exception": false,
     "start_time": "2023-03-22T13:48:49.427617",
     "status": "completed"
    },
    "tags": []
   },
   "outputs": [
    {
     "data": {
      "text/plain": [
       "['Survived', 'Pclass', 'Sex', 'Age', 'SibSp', 'Parch', 'Fare', 'Embarked']"
      ]
     },
     "execution_count": 127,
     "metadata": {},
     "output_type": "execute_result"
    }
   ],
   "source": [
    "final_data.columns"
   ]
  },
  {
   "cell_type": "code",
   "execution_count": 128,
   "id": "f4e227b4",
   "metadata": {
    "execution": {
     "iopub.execute_input": "2023-03-22T13:48:49.598064Z",
     "iopub.status.busy": "2023-03-22T13:48:49.596736Z",
     "iopub.status.idle": "2023-03-22T13:48:49.700038Z",
     "shell.execute_reply": "2023-03-22T13:48:49.698532Z"
    },
    "papermill": {
     "duration": 0.159516,
     "end_time": "2023-03-22T13:48:49.702461",
     "exception": false,
     "start_time": "2023-03-22T13:48:49.542945",
     "status": "completed"
    },
    "tags": []
   },
   "outputs": [
    {
     "name": "stdout",
     "output_type": "stream",
     "text": [
      "+--------+------+------+----+-----+-----+-------+--------+\n",
      "|Survived|Pclass|   Sex| Age|SibSp|Parch|   Fare|Embarked|\n",
      "+--------+------+------+----+-----+-----+-------+--------+\n",
      "|       0|     3|  male|22.0|    1|    0|   7.25|       S|\n",
      "|       1|     1|female|38.0|    1|    0|71.2833|       C|\n",
      "|       1|     3|female|26.0|    0|    0|  7.925|       S|\n",
      "|       1|     1|female|35.0|    1|    0|   53.1|       S|\n",
      "|       0|     3|  male|35.0|    0|    0|   8.05|       S|\n",
      "|       0|     1|  male|54.0|    0|    0|51.8625|       S|\n",
      "|       0|     3|  male| 2.0|    3|    1| 21.075|       S|\n",
      "|       1|     3|female|27.0|    0|    2|11.1333|       S|\n",
      "|       1|     2|female|14.0|    1|    0|30.0708|       C|\n",
      "|       1|     3|female| 4.0|    1|    1|   16.7|       S|\n",
      "|       1|     1|female|58.0|    0|    0|  26.55|       S|\n",
      "|       0|     3|  male|20.0|    0|    0|   8.05|       S|\n",
      "|       0|     3|  male|39.0|    1|    5| 31.275|       S|\n",
      "|       0|     3|female|14.0|    0|    0| 7.8542|       S|\n",
      "|       1|     2|female|55.0|    0|    0|   16.0|       S|\n",
      "|       0|     3|  male| 2.0|    4|    1| 29.125|       Q|\n",
      "|       0|     3|female|31.0|    1|    0|   18.0|       S|\n",
      "|       0|     2|  male|35.0|    0|    0|   26.0|       S|\n",
      "|       1|     2|  male|34.0|    0|    0|   13.0|       S|\n",
      "|       1|     3|female|15.0|    0|    0| 8.0292|       Q|\n",
      "+--------+------+------+----+-----+-----+-------+--------+\n",
      "only showing top 20 rows\n",
      "\n"
     ]
    }
   ],
   "source": [
    "final_data.show()"
   ]
  },
  {
   "cell_type": "code",
   "execution_count": 129,
   "id": "e620ef64",
   "metadata": {
    "execution": {
     "iopub.execute_input": "2023-03-22T13:48:49.810846Z",
     "iopub.status.busy": "2023-03-22T13:48:49.810413Z",
     "iopub.status.idle": "2023-03-22T13:48:49.826618Z",
     "shell.execute_reply": "2023-03-22T13:48:49.825341Z"
    },
    "papermill": {
     "duration": 0.072482,
     "end_time": "2023-03-22T13:48:49.828873",
     "exception": false,
     "start_time": "2023-03-22T13:48:49.756391",
     "status": "completed"
    },
    "tags": []
   },
   "outputs": [],
   "source": [
    "from pyspark.ml.feature import (StringIndexer, OneHotEncoder,\n",
    "                                VectorAssembler, VectorIndexer)\n",
    "\n",
    "gender_indexer = StringIndexer(inputCol='Sex', outputCol='SexIndex')\n",
    "gender_encoder = OneHotEncoder(inputCol='SexIndex', outputCol='SexVec')\n",
    "\n",
    "# String Indexer\n",
    "# Example\n",
    "# A B C\n",
    "# 0 1 2\n",
    "# ONE HOT ENCODE\n",
    "# KEY A B C\n",
    "# For A, One hot encode looks like below\n",
    "# [1, 0, 0]\n",
    "# For B, One hot encode looks like below\n",
    "# [0, 1, 0]"
   ]
  },
  {
   "cell_type": "code",
   "execution_count": 130,
   "id": "3c08ecd4",
   "metadata": {
    "execution": {
     "iopub.execute_input": "2023-03-22T13:48:49.935515Z",
     "iopub.status.busy": "2023-03-22T13:48:49.935089Z",
     "iopub.status.idle": "2023-03-22T13:48:49.948093Z",
     "shell.execute_reply": "2023-03-22T13:48:49.946504Z"
    },
    "papermill": {
     "duration": 0.068237,
     "end_time": "2023-03-22T13:48:49.950522",
     "exception": false,
     "start_time": "2023-03-22T13:48:49.882285",
     "status": "completed"
    },
    "tags": []
   },
   "outputs": [],
   "source": [
    "embark_indexer = StringIndexer(inputCol='Embarked', outputCol='EmbarkedIndex')\n",
    "embark_encoder = OneHotEncoder(inputCol='EmbarkedIndex', outputCol='EmbarkedVec')"
   ]
  },
  {
   "cell_type": "code",
   "execution_count": 131,
   "id": "02212c6e",
   "metadata": {
    "execution": {
     "iopub.execute_input": "2023-03-22T13:48:50.054810Z",
     "iopub.status.busy": "2023-03-22T13:48:50.054394Z",
     "iopub.status.idle": "2023-03-22T13:48:50.062857Z",
     "shell.execute_reply": "2023-03-22T13:48:50.061837Z"
    },
    "papermill": {
     "duration": 0.063687,
     "end_time": "2023-03-22T13:48:50.065325",
     "exception": false,
     "start_time": "2023-03-22T13:48:50.001638",
     "status": "completed"
    },
    "tags": []
   },
   "outputs": [],
   "source": [
    "assembler = VectorAssembler(inputCols=['Pclass', 'SexVec', 'Age', 'SibSp', 'Parch', 'Fare', 'EmbarkedVec'], outputCol='features')"
   ]
  },
  {
   "cell_type": "code",
   "execution_count": 132,
   "id": "2c353830",
   "metadata": {
    "execution": {
     "iopub.execute_input": "2023-03-22T13:48:50.171193Z",
     "iopub.status.busy": "2023-03-22T13:48:50.170744Z",
     "iopub.status.idle": "2023-03-22T13:48:50.200825Z",
     "shell.execute_reply": "2023-03-22T13:48:50.199651Z"
    },
    "papermill": {
     "duration": 0.085134,
     "end_time": "2023-03-22T13:48:50.203305",
     "exception": false,
     "start_time": "2023-03-22T13:48:50.118171",
     "status": "completed"
    },
    "tags": []
   },
   "outputs": [],
   "source": [
    "from pyspark.ml.classification import LogisticRegression\n",
    "from pyspark.ml.evaluation import BinaryClassificationEvaluator\n",
    "from pyspark.ml import Pipeline\n",
    "\n",
    "log_reg_titanic = LogisticRegression(featuresCol='features', labelCol='Survived', predictionCol='Predicted_Survived')\n",
    "\n",
    "pipeline = Pipeline(stages=[gender_indexer, embark_indexer, gender_encoder, embark_encoder, assembler, log_reg_titanic])"
   ]
  },
  {
   "cell_type": "code",
   "execution_count": 133,
   "id": "d4a77188",
   "metadata": {
    "execution": {
     "iopub.execute_input": "2023-03-22T13:48:50.316903Z",
     "iopub.status.busy": "2023-03-22T13:48:50.316517Z",
     "iopub.status.idle": "2023-03-22T13:48:50.327426Z",
     "shell.execute_reply": "2023-03-22T13:48:50.326613Z"
    },
    "papermill": {
     "duration": 0.06722,
     "end_time": "2023-03-22T13:48:50.329756",
     "exception": false,
     "start_time": "2023-03-22T13:48:50.262536",
     "status": "completed"
    },
    "tags": []
   },
   "outputs": [],
   "source": [
    "train, test = final_data.randomSplit([0.7, 0.3])"
   ]
  },
  {
   "cell_type": "code",
   "execution_count": 134,
   "id": "764c2109",
   "metadata": {
    "execution": {
     "iopub.execute_input": "2023-03-22T13:48:50.439716Z",
     "iopub.status.busy": "2023-03-22T13:48:50.438564Z",
     "iopub.status.idle": "2023-03-22T13:48:52.469900Z",
     "shell.execute_reply": "2023-03-22T13:48:52.469069Z"
    },
    "papermill": {
     "duration": 2.089262,
     "end_time": "2023-03-22T13:48:52.472408",
     "exception": false,
     "start_time": "2023-03-22T13:48:50.383146",
     "status": "completed"
    },
    "tags": []
   },
   "outputs": [],
   "source": [
    "lr_model = pipeline.fit(train)"
   ]
  },
  {
   "cell_type": "code",
   "execution_count": 135,
   "id": "9f266289",
   "metadata": {
    "execution": {
     "iopub.execute_input": "2023-03-22T13:48:52.628725Z",
     "iopub.status.busy": "2023-03-22T13:48:52.628384Z",
     "iopub.status.idle": "2023-03-22T13:48:52.769084Z",
     "shell.execute_reply": "2023-03-22T13:48:52.768224Z"
    },
    "papermill": {
     "duration": 0.214865,
     "end_time": "2023-03-22T13:48:52.771799",
     "exception": false,
     "start_time": "2023-03-22T13:48:52.556934",
     "status": "completed"
    },
    "tags": []
   },
   "outputs": [],
   "source": [
    "results = lr_model._transform(test)\n",
    "my_eval = BinaryClassificationEvaluator(rawPredictionCol='Predicted_Survived', labelCol='Survived')"
   ]
  },
  {
   "cell_type": "code",
   "execution_count": 136,
   "id": "d31de572",
   "metadata": {
    "execution": {
     "iopub.execute_input": "2023-03-22T13:48:52.891805Z",
     "iopub.status.busy": "2023-03-22T13:48:52.891459Z",
     "iopub.status.idle": "2023-03-22T13:48:53.031112Z",
     "shell.execute_reply": "2023-03-22T13:48:53.029907Z"
    },
    "papermill": {
     "duration": 0.197475,
     "end_time": "2023-03-22T13:48:53.034478",
     "exception": false,
     "start_time": "2023-03-22T13:48:52.837003",
     "status": "completed"
    },
    "tags": []
   },
   "outputs": [
    {
     "name": "stdout",
     "output_type": "stream",
     "text": [
      "+--------+------------------+\n",
      "|Survived|Predicted_Survived|\n",
      "+--------+------------------+\n",
      "|       0|               0.0|\n",
      "|       0|               1.0|\n",
      "|       0|               1.0|\n",
      "|       0|               1.0|\n",
      "|       0|               0.0|\n",
      "|       0|               1.0|\n",
      "|       0|               0.0|\n",
      "|       0|               1.0|\n",
      "|       0|               1.0|\n",
      "|       0|               0.0|\n",
      "|       0|               0.0|\n",
      "|       0|               0.0|\n",
      "|       0|               0.0|\n",
      "|       0|               0.0|\n",
      "|       0|               0.0|\n",
      "|       0|               0.0|\n",
      "|       0|               0.0|\n",
      "|       0|               0.0|\n",
      "|       0|               0.0|\n",
      "|       0|               0.0|\n",
      "+--------+------------------+\n",
      "only showing top 20 rows\n",
      "\n"
     ]
    }
   ],
   "source": [
    "results.select('Survived', 'Predicted_Survived').show()"
   ]
  },
  {
   "cell_type": "code",
   "execution_count": 137,
   "id": "ff6ea46c",
   "metadata": {
    "execution": {
     "iopub.execute_input": "2023-03-22T13:48:53.143589Z",
     "iopub.status.busy": "2023-03-22T13:48:53.142525Z",
     "iopub.status.idle": "2023-03-22T13:48:53.487697Z",
     "shell.execute_reply": "2023-03-22T13:48:53.486700Z"
    },
    "papermill": {
     "duration": 0.401863,
     "end_time": "2023-03-22T13:48:53.490280",
     "exception": false,
     "start_time": "2023-03-22T13:48:53.088417",
     "status": "completed"
    },
    "tags": []
   },
   "outputs": [
    {
     "data": {
      "text/plain": [
       "0.7997169143665959"
      ]
     },
     "execution_count": 137,
     "metadata": {},
     "output_type": "execute_result"
    }
   ],
   "source": [
    "AUC = my_eval.evaluate(results)\n",
    "AUC"
   ]
  },
  {
   "cell_type": "markdown",
   "id": "6c715ae5",
   "metadata": {
    "papermill": {
     "duration": 0.054826,
     "end_time": "2023-03-22T13:48:53.621543",
     "exception": false,
     "start_time": "2023-03-22T13:48:53.566717",
     "status": "completed"
    },
    "tags": []
   },
   "source": [
    "# Logistic Regression Practice"
   ]
  },
  {
   "cell_type": "code",
   "execution_count": 138,
   "id": "78bba9d2",
   "metadata": {
    "execution": {
     "iopub.execute_input": "2023-03-22T13:48:53.730610Z",
     "iopub.status.busy": "2023-03-22T13:48:53.730273Z",
     "iopub.status.idle": "2023-03-22T13:48:55.140148Z",
     "shell.execute_reply": "2023-03-22T13:48:55.139105Z"
    },
    "papermill": {
     "duration": 1.46721,
     "end_time": "2023-03-22T13:48:55.142485",
     "exception": false,
     "start_time": "2023-03-22T13:48:53.675275",
     "status": "completed"
    },
    "tags": []
   },
   "outputs": [
    {
     "name": "stdout",
     "output_type": "stream",
     "text": [
      "+-------------------+----+--------------+---------------+-----+---------+-------------------+--------------------+--------------------+-----+\n",
      "|              Names| Age|Total_Purchase|Account_Manager|Years|Num_Sites|       Onboard_date|            Location|             Company|Churn|\n",
      "+-------------------+----+--------------+---------------+-----+---------+-------------------+--------------------+--------------------+-----+\n",
      "|   Cameron Williams|42.0|       11066.8|              0| 7.22|      8.0|2013-08-30 07:00:40|10265 Elizabeth M...|          Harvey LLC|    1|\n",
      "|      Kevin Mueller|41.0|      11916.22|              0|  6.5|     11.0|2013-08-13 00:38:46|6157 Frank Garden...|          Wilson PLC|    1|\n",
      "|        Eric Lozano|38.0|      12884.75|              0| 6.67|     12.0|2016-06-29 06:20:07|1331 Keith Court ...|Miller, Johnson a...|    1|\n",
      "|      Phillip White|42.0|       8010.76|              0| 6.71|     10.0|2014-04-22 12:43:12|13120 Daniel Moun...|           Smith Inc|    1|\n",
      "|     Cynthia Norton|37.0|       9191.58|              0| 5.56|      9.0|2016-01-19 15:31:15|765 Tricia Row Ka...|          Love-Jones|    1|\n",
      "|   Jessica Williams|48.0|      10356.02|              0| 5.12|      8.0|2009-03-03 23:13:37|6187 Olson Mounta...|        Kelly-Warren|    1|\n",
      "|        Eric Butler|44.0|      11331.58|              1| 5.23|     11.0|2016-12-05 03:35:43|4846 Savannah Roa...|   Reynolds-Sheppard|    1|\n",
      "|      Zachary Walsh|32.0|       9885.12|              1| 6.92|      9.0|2006-03-09 14:50:20|25271 Roy Express...|          Singh-Cole|    1|\n",
      "|        Ashlee Carr|43.0|       14062.6|              1| 5.46|     11.0|2011-09-29 05:47:23|3725 Caroline Str...|           Lopez PLC|    1|\n",
      "|     Jennifer Lynch|40.0|       8066.94|              1| 7.11|     11.0|2006-03-28 15:42:45|363 Sandra Lodge ...|       Reed-Martinez|    1|\n",
      "|       Paula Harris|30.0|      11575.37|              1| 5.22|      8.0|2016-11-13 13:13:01|Unit 8120 Box 916...|Briggs, Lamb and ...|    1|\n",
      "|     Bruce Phillips|45.0|       8771.02|              1| 6.64|     11.0|2015-05-28 12:14:03|Unit 1895 Box 094...|    Figueroa-Maynard|    1|\n",
      "|       Craig Garner|45.0|       8988.67|              1| 4.84|     11.0|2011-02-16 08:10:47|897 Kelley Overpa...|     Abbott-Thompson|    1|\n",
      "|       Nicole Olson|40.0|       8283.32|              1|  5.1|     13.0|2012-11-22 05:35:03|11488 Weaver Cape...|Smith, Kim and Ma...|    1|\n",
      "|     Harold Griffin|41.0|       6569.87|              1|  4.3|     11.0|2015-03-28 02:13:44|1774 Peter Row Ap...|Snyder, Lee and M...|    1|\n",
      "|       James Wright|38.0|      10494.82|              1| 6.81|     12.0|2015-07-22 08:38:40|45408 David Path ...|      Sanders-Pierce|    1|\n",
      "|      Doris Wilkins|45.0|       8213.41|              1| 7.35|     11.0|2006-09-03 06:13:55|28216 Wright Moun...|Andrews, Adams an...|    1|\n",
      "|Katherine Carpenter|43.0|      11226.88|              0| 8.08|     12.0|2006-10-22 04:42:38|Unit 4948 Box 481...|Morgan, Phillips ...|    1|\n",
      "|     Lindsay Martin|53.0|       5515.09|              0| 6.85|      8.0|2015-10-07 00:27:10|69203 Crosby Divi...|      Villanueva LLC|    1|\n",
      "|        Kathy Curry|46.0|        8046.4|              1| 5.69|      8.0|2014-11-06 23:47:14|9569 Caldwell Cre...|Berry, Orr and Ca...|    1|\n",
      "+-------------------+----+--------------+---------------+-----+---------+-------------------+--------------------+--------------------+-----+\n",
      "only showing top 20 rows\n",
      "\n",
      "None\n",
      "root\n",
      " |-- Names: string (nullable = true)\n",
      " |-- Age: double (nullable = true)\n",
      " |-- Total_Purchase: double (nullable = true)\n",
      " |-- Account_Manager: integer (nullable = true)\n",
      " |-- Years: double (nullable = true)\n",
      " |-- Num_Sites: double (nullable = true)\n",
      " |-- Onboard_date: timestamp (nullable = true)\n",
      " |-- Location: string (nullable = true)\n",
      " |-- Company: string (nullable = true)\n",
      " |-- Churn: integer (nullable = true)\n",
      "\n",
      "None\n",
      "+-------+-------------+-----------------+-----------------+------------------+-----------------+------------------+--------------------+--------------------+-------------------+\n",
      "|summary|        Names|              Age|   Total_Purchase|   Account_Manager|            Years|         Num_Sites|            Location|             Company|              Churn|\n",
      "+-------+-------------+-----------------+-----------------+------------------+-----------------+------------------+--------------------+--------------------+-------------------+\n",
      "|  count|          900|              900|              900|               900|              900|               900|                 900|                 900|                900|\n",
      "|   mean|         null|41.81666666666667|10062.82403333334|0.4811111111111111| 5.27315555555555| 8.587777777777777|                null|                null|0.16666666666666666|\n",
      "| stddev|         null|6.127560416916251|2408.644531858096|0.4999208935073339|1.274449013194616|1.7648355920350969|                null|                null| 0.3728852122772358|\n",
      "|    min|   Aaron King|             22.0|            100.0|                 0|              1.0|               3.0|00103 Jeffrey Cre...|     Abbott-Thompson|                  0|\n",
      "|    max|Zachary Walsh|             65.0|         18026.01|                 1|             9.15|              14.0|Unit 9800 Box 287...|Zuniga, Clark and...|                  1|\n",
      "+-------+-------------+-----------------+-----------------+------------------+-----------------+------------------+--------------------+--------------------+-------------------+\n",
      "\n",
      "None\n"
     ]
    }
   ],
   "source": [
    "from pyspark.sql import SparkSession\n",
    "from pyspark.ml.classification import LogisticRegression\n",
    "from pyspark.ml import Pipeline\n",
    "\n",
    "from pyspark.ml.feature import VectorAssembler\n",
    "from pyspark.ml.regression import LinearRegression\n",
    "from pyspark.ml.feature import StringIndexer\n",
    "\n",
    "spark=SparkSession.builder.appName('Logit').getOrCreate()\n",
    "df = spark.read.csv('/kaggle/input/churn-data/customer_churn.csv', inferSchema=True, header=True)\n",
    "\n",
    "print(df.show())\n",
    "\n",
    "print(df.printSchema())\n",
    "\n",
    "print(df.describe().show())\n",
    "\n",
    "train, test = df.randomSplit([0.7, 0.3])\n",
    "\n",
    "assembler = VectorAssembler(inputCols=['Age', 'Total_Purchase', 'Years', 'Num_Sites'], outputCol='features')\n",
    "\n",
    "lr = LogisticRegression(featuresCol='features', labelCol='Churn', predictionCol='Predicted_Churn')\n",
    "\n",
    "pipeline = Pipeline(stages=[assembler, lr])\n",
    "\n",
    "lr_model_pipeline = pipeline.fit(train)"
   ]
  },
  {
   "cell_type": "code",
   "execution_count": 139,
   "id": "8859b6fd",
   "metadata": {
    "execution": {
     "iopub.execute_input": "2023-03-22T13:48:55.256122Z",
     "iopub.status.busy": "2023-03-22T13:48:55.255691Z",
     "iopub.status.idle": "2023-03-22T13:48:55.653801Z",
     "shell.execute_reply": "2023-03-22T13:48:55.652837Z"
    },
    "papermill": {
     "duration": 0.45462,
     "end_time": "2023-03-22T13:48:55.657023",
     "exception": false,
     "start_time": "2023-03-22T13:48:55.202403",
     "status": "completed"
    },
    "tags": []
   },
   "outputs": [
    {
     "name": "stdout",
     "output_type": "stream",
     "text": [
      "+-----------------+----+--------------+---------------+-----+---------+-------------------+--------------------+--------------------+-----+--------------------+--------------------+--------------------+---------------+\n",
      "|            Names| Age|Total_Purchase|Account_Manager|Years|Num_Sites|       Onboard_date|            Location|             Company|Churn|            features|       rawPrediction|         probability|Predicted_Churn|\n",
      "+-----------------+----+--------------+---------------+-----+---------+-------------------+--------------------+--------------------+-----+--------------------+--------------------+--------------------+---------------+\n",
      "|      Aaron Meyer|45.0|       9598.03|              0|  5.0|      7.0|2010-07-17 03:30:38|35821 Bailey Skyw...|Steele, Bates and...|    0|[45.0,9598.03,5.0...|[4.40743476302228...|[0.98796032106432...|            0.0|\n",
      "|    Adriana James|36.0|      10448.09|              0| 4.13|      8.0|2016-04-09 09:02:14|USNV Ferguson FPO...|Doyle, Butler and...|    0|[36.0,10448.09,4....|[4.09292235658625...|[0.98358360896138...|            0.0|\n",
      "|     Alexis Allen|43.0|       7686.13|              1| 7.17|      8.0|2016-09-27 07:00:35|7448 Jason Ridges...|      Jones and Sons|    0|[43.0,7686.13,7.1...|[2.32201628840181...|[0.91068407857727...|            0.0|\n",
      "|Allison Clark DDS|43.0|      14241.75|              0| 3.73|     12.0|2006-07-11 11:32:51|PSC 9202, Box 199...|      Robinson-Perez|    0|[43.0,14241.75,3....|[-0.8936738912512...|[0.29035224749770...|            1.0|\n",
      "|     Amanda Brown|32.0|       12403.6|              0| 4.99|      7.0|2008-05-30 03:35:34|48681 Jensen Vist...|         Hoffman Ltd|    0|[32.0,12403.6,4.9...|[4.98066482596612...|[0.99317737396771...|            0.0|\n",
      "| Amanda Hernandez|38.0|      10298.29|              1| 5.07|      9.0|2015-05-31 21:15:18|4792 Amy Wall Apt...|Barry, Brown and ...|    0|[38.0,10298.29,5....|[2.35472944654483...|[0.91330941572610...|            0.0|\n",
      "|  Amanda Williams|37.0|       8614.75|              0| 5.03|      9.0|2011-07-07 15:43:46|79676 Johnson Vil...|        Jones-Fisher|    0|[37.0,8614.75,5.0...|[2.48157498069917...|[0.92284002115107...|            0.0|\n",
      "|       Amber Carr|44.0|      10965.95|              1| 4.11|      8.0|2012-07-03 18:49:25|95266 Mary Fort W...|Davis, Mccormick ...|    0|[44.0,10965.95,4....|[3.67831924923696...|[0.97535720612739...|            0.0|\n",
      "|      Amy Griffin|48.0|       4771.65|              0| 3.77|     12.0|2007-06-19 04:30:13|062 Trevor Falls ...|         Larson-Hall|    1|[48.0,4771.65,3.7...|[-0.8523793484308...|[0.29893397320517...|            1.0|\n",
      "|    Amy Henderson|31.0|      10058.87|              1| 6.54|      7.0|2011-02-07 17:54:22|85837 Thomas Dam ...|          Knox-Davis|    0|[31.0,10058.87,6....|[4.34154743587485...|[0.98715087831753...|            0.0|\n",
      "|       Amy Riddle|45.0|       8389.84|              1| 6.81|      5.0|2009-08-19 08:06:04|4964 Page Estate ...|          Parker PLC|    0|[45.0,8389.84,6.8...|[5.90169254766661...|[0.99727264669931...|            0.0|\n",
      "|      Amy Stanley|43.0|       9060.28|              1| 4.95|      6.0|2010-10-15 11:16:01|906 Kelly Courts ...|      Johnson-Nelson|    0|[43.0,9060.28,4.9...|[5.72746220026250...|[0.99675523464544...|            0.0|\n",
      "|      Andrea Ford|40.0|      11362.95|              0| 4.37|     11.0|2010-10-08 22:11:05|2519 Martin Ports...|        Patton Group|    0|[40.0,11362.95,4....|[0.21332806382611...|[0.55313067556763...|            0.0|\n",
      "|     Andrea Salas|42.0|      11473.38|              1| 2.87|     10.0|2015-03-19 22:32:48|308 Graham Corner...|       Blackwell PLC|    0|[42.0,11473.38,2....|[2.02674127853575...|[0.88357627451521...|            0.0|\n",
      "|    Andrea Warner|46.0|       10469.5|              0| 6.54|     10.0|2011-03-24 17:01:00|753 Hernandez Pin...|          Bailey LLC|    0|[46.0,10469.5,6.5...|[0.03772915406443...|[0.50943116977872...|            0.0|\n",
      "|      Andrew Kent|45.0|      12374.97|              0| 4.66|      7.0|2011-12-24 17:00:01|79904 Jacobson We...|Briggs, Cross and...|    0|[45.0,12374.97,4....|[4.48337873380266...|[0.98883097106420...|            0.0|\n",
      "|   Andrew Leonard|41.0|      14099.03|              1| 4.56|      7.0|2016-03-02 16:50:06|Unit 6154 Box 511...|Cruz, Carter and ...|    0|[41.0,14099.03,4....|[4.67910015353265...|[0.99079809414704...|            0.0|\n",
      "|     Andrew Young|30.0|       6744.87|              0| 5.14|      9.0|2014-04-10 03:33:41|30316 Melissa Hil...|          Morris LLC|    0|[30.0,6744.87,5.1...|[2.84573228216743...|[0.94509765930760...|            0.0|\n",
      "|      Angela Ross|39.0|      13574.53|              1| 5.69|     10.0|2014-04-23 10:59:55|1008 Ricky River ...|      Miller-Ramirez|    0|[39.0,13574.53,5....|[0.71183984583155...|[0.67080757095223...|            0.0|\n",
      "|        Ann White|43.0|       8950.33|              0| 6.76|      9.0|2008-06-25 00:45:14|91968 Pena Stream...|         Hancock LLC|    0|[43.0,8950.33,6.7...|[1.30756395745557...|[0.78710523230549...|            0.0|\n",
      "+-----------------+----+--------------+---------------+-----+---------+-------------------+--------------------+--------------------+-----+--------------------+--------------------+--------------------+---------------+\n",
      "only showing top 20 rows\n",
      "\n"
     ]
    },
    {
     "data": {
      "text/plain": [
       "0.8427586206896551"
      ]
     },
     "execution_count": 139,
     "metadata": {},
     "output_type": "execute_result"
    }
   ],
   "source": [
    "results = lr_model_pipeline.transform(test)\n",
    "results.show()\n",
    "\n",
    "my_eval = BinaryClassificationEvaluator(rawPredictionCol='Predicted_Churn', labelCol='Churn')\n",
    "AUC = my_eval.evaluate(results)\n",
    "AUC"
   ]
  },
  {
   "cell_type": "code",
   "execution_count": 140,
   "id": "72191cfc",
   "metadata": {
    "execution": {
     "iopub.execute_input": "2023-03-22T13:48:55.778358Z",
     "iopub.status.busy": "2023-03-22T13:48:55.777891Z",
     "iopub.status.idle": "2023-03-22T13:48:55.878765Z",
     "shell.execute_reply": "2023-03-22T13:48:55.877686Z"
    },
    "papermill": {
     "duration": 0.157111,
     "end_time": "2023-03-22T13:48:55.881217",
     "exception": false,
     "start_time": "2023-03-22T13:48:55.724106",
     "status": "completed"
    },
    "tags": []
   },
   "outputs": [
    {
     "name": "stdout",
     "output_type": "stream",
     "text": [
      "+--------------------+---------------+\n",
      "|             Company|Predicted_Churn|\n",
      "+--------------------+---------------+\n",
      "|Steele, Bates and...|            0.0|\n",
      "|Doyle, Butler and...|            0.0|\n",
      "|      Jones and Sons|            0.0|\n",
      "|      Robinson-Perez|            1.0|\n",
      "|         Hoffman Ltd|            0.0|\n",
      "|Barry, Brown and ...|            0.0|\n",
      "|        Jones-Fisher|            0.0|\n",
      "|Davis, Mccormick ...|            0.0|\n",
      "|         Larson-Hall|            1.0|\n",
      "|          Knox-Davis|            0.0|\n",
      "|          Parker PLC|            0.0|\n",
      "|      Johnson-Nelson|            0.0|\n",
      "|        Patton Group|            0.0|\n",
      "|       Blackwell PLC|            0.0|\n",
      "|          Bailey LLC|            0.0|\n",
      "|Briggs, Cross and...|            0.0|\n",
      "|Cruz, Carter and ...|            0.0|\n",
      "|          Morris LLC|            0.0|\n",
      "|      Miller-Ramirez|            0.0|\n",
      "|         Hancock LLC|            0.0|\n",
      "+--------------------+---------------+\n",
      "only showing top 20 rows\n",
      "\n"
     ]
    }
   ],
   "source": [
    "results.select('Company', 'Predicted_Churn').show()"
   ]
  },
  {
   "cell_type": "markdown",
   "id": "f0573b15",
   "metadata": {
    "papermill": {
     "duration": 0.05525,
     "end_time": "2023-03-22T13:48:55.989101",
     "exception": false,
     "start_time": "2023-03-22T13:48:55.933851",
     "status": "completed"
    },
    "tags": []
   },
   "source": [
    "# Decision Trees, Random Forest, GTB in Spark"
   ]
  },
  {
   "cell_type": "code",
   "execution_count": 141,
   "id": "f10fc0ba",
   "metadata": {
    "execution": {
     "iopub.execute_input": "2023-03-22T13:48:56.096818Z",
     "iopub.status.busy": "2023-03-22T13:48:56.096468Z",
     "iopub.status.idle": "2023-03-22T13:48:56.299475Z",
     "shell.execute_reply": "2023-03-22T13:48:56.298577Z"
    },
    "papermill": {
     "duration": 0.260408,
     "end_time": "2023-03-22T13:48:56.303205",
     "exception": false,
     "start_time": "2023-03-22T13:48:56.042797",
     "status": "completed"
    },
    "tags": []
   },
   "outputs": [
    {
     "name": "stdout",
     "output_type": "stream",
     "text": [
      "23/03/22 13:48:56 WARN SparkSession: Using an existing Spark session; only runtime SQL configurations will take effect.\n",
      "23/03/22 13:48:56 WARN LibSVMFileFormat: 'numFeatures' option not specified, determining the number of features by going though the input. If you know the number in advance, please specify it via 'numFeatures' option to avoid the extra scan.\n",
      "+-----+--------------------+\n",
      "|label|            features|\n",
      "+-----+--------------------+\n",
      "|  0.0|(692,[127,128,129...|\n",
      "|  1.0|(692,[158,159,160...|\n",
      "|  1.0|(692,[124,125,126...|\n",
      "|  1.0|(692,[152,153,154...|\n",
      "|  1.0|(692,[151,152,153...|\n",
      "|  0.0|(692,[129,130,131...|\n",
      "|  1.0|(692,[158,159,160...|\n",
      "|  1.0|(692,[99,100,101,...|\n",
      "|  0.0|(692,[154,155,156...|\n",
      "|  0.0|(692,[127,128,129...|\n",
      "|  1.0|(692,[154,155,156...|\n",
      "|  0.0|(692,[153,154,155...|\n",
      "|  0.0|(692,[151,152,153...|\n",
      "|  1.0|(692,[129,130,131...|\n",
      "|  0.0|(692,[154,155,156...|\n",
      "|  1.0|(692,[150,151,152...|\n",
      "|  0.0|(692,[124,125,126...|\n",
      "|  0.0|(692,[152,153,154...|\n",
      "|  1.0|(692,[97,98,99,12...|\n",
      "|  1.0|(692,[124,125,126...|\n",
      "+-----+--------------------+\n",
      "only showing top 20 rows\n",
      "\n"
     ]
    }
   ],
   "source": [
    "from pyspark.sql import SparkSession\n",
    "from pyspark.ml import Pipeline\n",
    "from pyspark.ml.classification import DecisionTreeClassifier, RandomForestClassifier, GBTClassifier\n",
    "\n",
    "spark = SparkSession.builder.appName('Decision Tree Tutorial').getOrCreate()\n",
    "df = spark.read.format('libsvm').load('/kaggle/input/sample-data-for-dt/sample_libsvm_data.txt')\n",
    "\n",
    "df.show()"
   ]
  },
  {
   "cell_type": "code",
   "execution_count": 142,
   "id": "b547a7a2",
   "metadata": {
    "execution": {
     "iopub.execute_input": "2023-03-22T13:48:56.413561Z",
     "iopub.status.busy": "2023-03-22T13:48:56.413188Z",
     "iopub.status.idle": "2023-03-22T13:48:56.423132Z",
     "shell.execute_reply": "2023-03-22T13:48:56.422119Z"
    },
    "papermill": {
     "duration": 0.067872,
     "end_time": "2023-03-22T13:48:56.426202",
     "exception": false,
     "start_time": "2023-03-22T13:48:56.358330",
     "status": "completed"
    },
    "tags": []
   },
   "outputs": [],
   "source": [
    "train, test = df.randomSplit([0.7,0.3])"
   ]
  },
  {
   "cell_type": "code",
   "execution_count": 143,
   "id": "d8fbe800",
   "metadata": {
    "execution": {
     "iopub.execute_input": "2023-03-22T13:48:56.534146Z",
     "iopub.status.busy": "2023-03-22T13:48:56.533521Z",
     "iopub.status.idle": "2023-03-22T13:48:56.590423Z",
     "shell.execute_reply": "2023-03-22T13:48:56.589559Z"
    },
    "papermill": {
     "duration": 0.113753,
     "end_time": "2023-03-22T13:48:56.593110",
     "exception": false,
     "start_time": "2023-03-22T13:48:56.479357",
     "status": "completed"
    },
    "tags": []
   },
   "outputs": [],
   "source": [
    "dt_classifier = DecisionTreeClassifier(featuresCol='features', labelCol='label', predictionCol='prediction')\n",
    "random_forest_classifier = RandomForestClassifier(numTrees=100, featuresCol='features', labelCol='label', predictionCol='prediction')\n",
    "boosted_trees = GBTClassifier(featuresCol='features', labelCol='label', predictionCol='prediction')"
   ]
  },
  {
   "cell_type": "code",
   "execution_count": 144,
   "id": "7a0c91ee",
   "metadata": {
    "execution": {
     "iopub.execute_input": "2023-03-22T13:48:56.704257Z",
     "iopub.status.busy": "2023-03-22T13:48:56.703898Z",
     "iopub.status.idle": "2023-03-22T13:49:00.678865Z",
     "shell.execute_reply": "2023-03-22T13:49:00.677812Z"
    },
    "papermill": {
     "duration": 4.03455,
     "end_time": "2023-03-22T13:49:00.681136",
     "exception": false,
     "start_time": "2023-03-22T13:48:56.646586",
     "status": "completed"
    },
    "tags": []
   },
   "outputs": [],
   "source": [
    "dtc = dt_classifier.fit(train)\n",
    "rfc = random_forest_classifier.fit(train)\n",
    "btc = boosted_trees.fit(train)"
   ]
  },
  {
   "cell_type": "code",
   "execution_count": 145,
   "id": "bf2a51ea",
   "metadata": {
    "execution": {
     "iopub.execute_input": "2023-03-22T13:49:00.789175Z",
     "iopub.status.busy": "2023-03-22T13:49:00.788527Z",
     "iopub.status.idle": "2023-03-22T13:49:00.941617Z",
     "shell.execute_reply": "2023-03-22T13:49:00.940486Z"
    },
    "papermill": {
     "duration": 0.209927,
     "end_time": "2023-03-22T13:49:00.944589",
     "exception": false,
     "start_time": "2023-03-22T13:49:00.734662",
     "status": "completed"
    },
    "tags": []
   },
   "outputs": [],
   "source": [
    "dtc_preds = dtc.transform(test)\n",
    "rfc_preds = rfc.transform(test)\n",
    "btc_preds = btc.transform(test)"
   ]
  },
  {
   "cell_type": "code",
   "execution_count": 146,
   "id": "de8b33a5",
   "metadata": {
    "execution": {
     "iopub.execute_input": "2023-03-22T13:49:01.066952Z",
     "iopub.status.busy": "2023-03-22T13:49:01.066578Z",
     "iopub.status.idle": "2023-03-22T13:49:01.175278Z",
     "shell.execute_reply": "2023-03-22T13:49:01.174319Z"
    },
    "papermill": {
     "duration": 0.166376,
     "end_time": "2023-03-22T13:49:01.178134",
     "exception": false,
     "start_time": "2023-03-22T13:49:01.011758",
     "status": "completed"
    },
    "tags": []
   },
   "outputs": [
    {
     "name": "stdout",
     "output_type": "stream",
     "text": [
      "+-----+--------------------+-------------+-----------+----------+\n",
      "|label|            features|rawPrediction|probability|prediction|\n",
      "+-----+--------------------+-------------+-----------+----------+\n",
      "|  0.0|(692,[100,101,102...|   [29.0,0.0]|  [1.0,0.0]|       0.0|\n",
      "|  0.0|(692,[122,123,124...|   [29.0,0.0]|  [1.0,0.0]|       0.0|\n",
      "|  0.0|(692,[124,125,126...|   [29.0,0.0]|  [1.0,0.0]|       0.0|\n",
      "|  0.0|(692,[126,127,128...|   [29.0,0.0]|  [1.0,0.0]|       0.0|\n",
      "|  0.0|(692,[126,127,128...|   [29.0,0.0]|  [1.0,0.0]|       0.0|\n",
      "|  0.0|(692,[126,127,128...|   [29.0,0.0]|  [1.0,0.0]|       0.0|\n",
      "|  0.0|(692,[127,128,129...|   [29.0,0.0]|  [1.0,0.0]|       0.0|\n",
      "|  0.0|(692,[127,128,129...|   [29.0,0.0]|  [1.0,0.0]|       0.0|\n",
      "|  0.0|(692,[150,151,152...|   [29.0,0.0]|  [1.0,0.0]|       0.0|\n",
      "|  0.0|(692,[151,152,153...|   [29.0,0.0]|  [1.0,0.0]|       0.0|\n",
      "|  0.0|(692,[152,153,154...|   [29.0,0.0]|  [1.0,0.0]|       0.0|\n",
      "|  0.0|(692,[153,154,155...|   [29.0,0.0]|  [1.0,0.0]|       0.0|\n",
      "|  0.0|(692,[154,155,156...|   [29.0,0.0]|  [1.0,0.0]|       0.0|\n",
      "|  0.0|(692,[234,235,237...|   [29.0,0.0]|  [1.0,0.0]|       0.0|\n",
      "|  1.0|(692,[99,100,101,...|   [29.0,0.0]|  [1.0,0.0]|       0.0|\n",
      "|  1.0|(692,[119,120,121...|   [0.0,42.0]|  [0.0,1.0]|       1.0|\n",
      "|  1.0|(692,[123,124,125...|   [0.0,42.0]|  [0.0,1.0]|       1.0|\n",
      "|  1.0|(692,[123,124,125...|   [0.0,42.0]|  [0.0,1.0]|       1.0|\n",
      "|  1.0|(692,[125,126,127...|   [0.0,42.0]|  [0.0,1.0]|       1.0|\n",
      "|  1.0|(692,[125,126,153...|   [0.0,42.0]|  [0.0,1.0]|       1.0|\n",
      "+-----+--------------------+-------------+-----------+----------+\n",
      "only showing top 20 rows\n",
      "\n"
     ]
    }
   ],
   "source": [
    "dtc_preds.show()"
   ]
  },
  {
   "cell_type": "code",
   "execution_count": 147,
   "id": "5cf08926",
   "metadata": {
    "execution": {
     "iopub.execute_input": "2023-03-22T13:49:01.289260Z",
     "iopub.status.busy": "2023-03-22T13:49:01.288940Z",
     "iopub.status.idle": "2023-03-22T13:49:01.393225Z",
     "shell.execute_reply": "2023-03-22T13:49:01.392267Z"
    },
    "papermill": {
     "duration": 0.16278,
     "end_time": "2023-03-22T13:49:01.396132",
     "exception": false,
     "start_time": "2023-03-22T13:49:01.233352",
     "status": "completed"
    },
    "tags": []
   },
   "outputs": [
    {
     "name": "stdout",
     "output_type": "stream",
     "text": [
      "+-----+--------------------+-------------+-----------+----------+\n",
      "|label|            features|rawPrediction|probability|prediction|\n",
      "+-----+--------------------+-------------+-----------+----------+\n",
      "|  0.0|(692,[100,101,102...|  [62.0,38.0]|[0.62,0.38]|       0.0|\n",
      "|  0.0|(692,[122,123,124...|  [100.0,0.0]|  [1.0,0.0]|       0.0|\n",
      "|  0.0|(692,[124,125,126...|   [98.0,2.0]|[0.98,0.02]|       0.0|\n",
      "|  0.0|(692,[126,127,128...|   [97.0,3.0]|[0.97,0.03]|       0.0|\n",
      "|  0.0|(692,[126,127,128...|   [96.0,4.0]|[0.96,0.04]|       0.0|\n",
      "|  0.0|(692,[126,127,128...|  [100.0,0.0]|  [1.0,0.0]|       0.0|\n",
      "|  0.0|(692,[127,128,129...|  [100.0,0.0]|  [1.0,0.0]|       0.0|\n",
      "|  0.0|(692,[127,128,129...|   [92.0,8.0]|[0.92,0.08]|       0.0|\n",
      "|  0.0|(692,[150,151,152...|  [87.0,13.0]|[0.87,0.13]|       0.0|\n",
      "|  0.0|(692,[151,152,153...|   [99.0,1.0]|[0.99,0.01]|       0.0|\n",
      "|  0.0|(692,[152,153,154...|   [93.0,7.0]|[0.93,0.07]|       0.0|\n",
      "|  0.0|(692,[153,154,155...|   [96.0,4.0]|[0.96,0.04]|       0.0|\n",
      "|  0.0|(692,[154,155,156...|   [93.0,7.0]|[0.93,0.07]|       0.0|\n",
      "|  0.0|(692,[234,235,237...|  [87.0,13.0]|[0.87,0.13]|       0.0|\n",
      "|  1.0|(692,[99,100,101,...|  [56.0,44.0]|[0.56,0.44]|       0.0|\n",
      "|  1.0|(692,[119,120,121...|  [26.0,74.0]|[0.26,0.74]|       1.0|\n",
      "|  1.0|(692,[123,124,125...|  [0.0,100.0]|  [0.0,1.0]|       1.0|\n",
      "|  1.0|(692,[123,124,125...|   [5.0,95.0]|[0.05,0.95]|       1.0|\n",
      "|  1.0|(692,[125,126,127...|   [2.0,98.0]|[0.02,0.98]|       1.0|\n",
      "|  1.0|(692,[125,126,153...|  [0.0,100.0]|  [0.0,1.0]|       1.0|\n",
      "+-----+--------------------+-------------+-----------+----------+\n",
      "only showing top 20 rows\n",
      "\n"
     ]
    }
   ],
   "source": [
    "rfc_preds.show()"
   ]
  },
  {
   "cell_type": "code",
   "execution_count": 148,
   "id": "533e0210",
   "metadata": {
    "execution": {
     "iopub.execute_input": "2023-03-22T13:49:01.509728Z",
     "iopub.status.busy": "2023-03-22T13:49:01.509275Z",
     "iopub.status.idle": "2023-03-22T13:49:01.587645Z",
     "shell.execute_reply": "2023-03-22T13:49:01.586810Z"
    },
    "papermill": {
     "duration": 0.139414,
     "end_time": "2023-03-22T13:49:01.590362",
     "exception": false,
     "start_time": "2023-03-22T13:49:01.450948",
     "status": "completed"
    },
    "tags": []
   },
   "outputs": [
    {
     "name": "stdout",
     "output_type": "stream",
     "text": [
      "+-----+--------------------+--------------------+--------------------+----------+\n",
      "|label|            features|       rawPrediction|         probability|prediction|\n",
      "+-----+--------------------+--------------------+--------------------+----------+\n",
      "|  0.0|(692,[100,101,102...|[1.54350200272498...|[0.95635347857270...|       0.0|\n",
      "|  0.0|(692,[122,123,124...|[1.54350200272498...|[0.95635347857270...|       0.0|\n",
      "|  0.0|(692,[124,125,126...|[1.54350200272498...|[0.95635347857270...|       0.0|\n",
      "|  0.0|(692,[126,127,128...|[1.54350200272498...|[0.95635347857270...|       0.0|\n",
      "|  0.0|(692,[126,127,128...|[1.54350200272498...|[0.95635347857270...|       0.0|\n",
      "|  0.0|(692,[126,127,128...|[1.54350200272498...|[0.95635347857270...|       0.0|\n",
      "|  0.0|(692,[127,128,129...|[1.54350200272498...|[0.95635347857270...|       0.0|\n",
      "|  0.0|(692,[127,128,129...|[1.54350200272498...|[0.95635347857270...|       0.0|\n",
      "|  0.0|(692,[150,151,152...|[1.54350200272498...|[0.95635347857270...|       0.0|\n",
      "|  0.0|(692,[151,152,153...|[1.54350200272498...|[0.95635347857270...|       0.0|\n",
      "|  0.0|(692,[152,153,154...|[1.54350200272498...|[0.95635347857270...|       0.0|\n",
      "|  0.0|(692,[153,154,155...|[1.54350200272498...|[0.95635347857270...|       0.0|\n",
      "|  0.0|(692,[154,155,156...|[1.54350200272498...|[0.95635347857270...|       0.0|\n",
      "|  0.0|(692,[234,235,237...|[1.54350200272498...|[0.95635347857270...|       0.0|\n",
      "|  1.0|(692,[99,100,101,...|[1.54350200272498...|[0.95635347857270...|       0.0|\n",
      "|  1.0|(692,[119,120,121...|[-1.5435020027249...|[0.04364652142729...|       1.0|\n",
      "|  1.0|(692,[123,124,125...|[-1.5435020027249...|[0.04364652142729...|       1.0|\n",
      "|  1.0|(692,[123,124,125...|[-1.5435020027249...|[0.04364652142729...|       1.0|\n",
      "|  1.0|(692,[125,126,127...|[-1.5435020027249...|[0.04364652142729...|       1.0|\n",
      "|  1.0|(692,[125,126,153...|[-1.5435020027249...|[0.04364652142729...|       1.0|\n",
      "+-----+--------------------+--------------------+--------------------+----------+\n",
      "only showing top 20 rows\n",
      "\n"
     ]
    }
   ],
   "source": [
    "btc_preds.show()"
   ]
  },
  {
   "cell_type": "code",
   "execution_count": 149,
   "id": "3a432e9d",
   "metadata": {
    "execution": {
     "iopub.execute_input": "2023-03-22T13:49:01.701147Z",
     "iopub.status.busy": "2023-03-22T13:49:01.700746Z",
     "iopub.status.idle": "2023-03-22T13:49:02.073803Z",
     "shell.execute_reply": "2023-03-22T13:49:02.072670Z"
    },
    "papermill": {
     "duration": 0.432512,
     "end_time": "2023-03-22T13:49:02.077274",
     "exception": false,
     "start_time": "2023-03-22T13:49:01.644762",
     "status": "completed"
    },
    "tags": []
   },
   "outputs": [
    {
     "name": "stdout",
     "output_type": "stream",
     "text": [
      "0.9655172413793104\n",
      "0.9655172413793104\n",
      "0.9655172413793104\n"
     ]
    }
   ],
   "source": [
    "from pyspark.ml.evaluation import MulticlassClassificationEvaluator\n",
    "\n",
    "acc_eval = MulticlassClassificationEvaluator(metricName='accuracy')\n",
    "\n",
    "print(acc_eval.evaluate(dtc_preds))\n",
    "print(acc_eval.evaluate(rfc_preds))\n",
    "print(acc_eval.evaluate(btc_preds))"
   ]
  },
  {
   "cell_type": "code",
   "execution_count": 150,
   "id": "282c8371",
   "metadata": {
    "execution": {
     "iopub.execute_input": "2023-03-22T13:49:02.192623Z",
     "iopub.status.busy": "2023-03-22T13:49:02.192240Z",
     "iopub.status.idle": "2023-03-22T13:49:02.218893Z",
     "shell.execute_reply": "2023-03-22T13:49:02.217959Z"
    },
    "papermill": {
     "duration": 0.083384,
     "end_time": "2023-03-22T13:49:02.221499",
     "exception": false,
     "start_time": "2023-03-22T13:49:02.138115",
     "status": "completed"
    },
    "tags": []
   },
   "outputs": [
    {
     "data": {
      "text/plain": [
       "SparseVector(692, {127: 0.0018, 155: 0.003, 204: 0.002, 206: 0.0006, 213: 0.0007, 231: 0.0008, 232: 0.0028, 243: 0.0005, 244: 0.0175, 245: 0.0031, 262: 0.0006, 264: 0.0013, 272: 0.0007, 273: 0.0007, 289: 0.0086, 299: 0.0039, 300: 0.0274, 322: 0.007, 323: 0.0134, 324: 0.0018, 327: 0.0012, 328: 0.0178, 329: 0.0092, 330: 0.0007, 331: 0.0025, 341: 0.001, 342: 0.0042, 344: 0.0147, 346: 0.0036, 350: 0.0203, 351: 0.0185, 353: 0.001, 357: 0.0128, 358: 0.0214, 359: 0.0064, 370: 0.001, 372: 0.0067, 373: 0.0052, 374: 0.0085, 375: 0.0036, 377: 0.0299, 378: 0.0116, 379: 0.0349, 382: 0.0007, 386: 0.0157, 387: 0.0014, 397: 0.0003, 398: 0.0059, 405: 0.0159, 406: 0.021, 407: 0.0187, 413: 0.0035, 414: 0.0075, 415: 0.0012, 426: 0.0066, 427: 0.02, 429: 0.0151, 433: 0.042, 434: 0.05, 440: 0.0098, 441: 0.0065, 444: 0.0012, 454: 0.0384, 455: 0.0199, 456: 0.0081, 459: 0.0007, 461: 0.0304, 462: 0.0211, 463: 0.0006, 467: 0.0014, 469: 0.0082, 482: 0.0142, 483: 0.0012, 484: 0.0098, 487: 0.0005, 489: 0.0324, 490: 0.0197, 493: 0.0024, 494: 0.0029, 496: 0.001, 498: 0.0026, 509: 0.0006, 510: 0.0013, 511: 0.0101, 512: 0.0358, 513: 0.003, 517: 0.0313, 518: 0.0017, 524: 0.0101, 539: 0.0175, 540: 0.0331, 552: 0.0086, 553: 0.0015, 566: 0.0144, 568: 0.0124, 569: 0.0006, 570: 0.0012, 578: 0.0085, 579: 0.0032, 580: 0.001, 582: 0.0027, 598: 0.0017, 608: 0.0013, 622: 0.0016, 626: 0.0018, 627: 0.0002, 653: 0.0014, 654: 0.0002})"
      ]
     },
     "execution_count": 150,
     "metadata": {},
     "output_type": "execute_result"
    }
   ],
   "source": [
    "rfc.featureImportances"
   ]
  },
  {
   "cell_type": "markdown",
   "id": "b30ca36b",
   "metadata": {
    "papermill": {
     "duration": 0.053233,
     "end_time": "2023-03-22T13:49:02.329264",
     "exception": false,
     "start_time": "2023-03-22T13:49:02.276031",
     "status": "completed"
    },
    "tags": []
   },
   "source": [
    "# Tree Based Method"
   ]
  },
  {
   "cell_type": "code",
   "execution_count": 151,
   "id": "8f57709b",
   "metadata": {
    "execution": {
     "iopub.execute_input": "2023-03-22T13:49:02.439025Z",
     "iopub.status.busy": "2023-03-22T13:49:02.438152Z",
     "iopub.status.idle": "2023-03-22T13:49:02.662389Z",
     "shell.execute_reply": "2023-03-22T13:49:02.661302Z"
    },
    "papermill": {
     "duration": 0.281331,
     "end_time": "2023-03-22T13:49:02.664951",
     "exception": false,
     "start_time": "2023-03-22T13:49:02.383620",
     "status": "completed"
    },
    "tags": []
   },
   "outputs": [
    {
     "name": "stdout",
     "output_type": "stream",
     "text": [
      "23/03/22 13:49:02 WARN SparkSession: Using an existing Spark session; only runtime SQL configurations will take effect.\n",
      "+--------------------+-------+----+------+------+---------+---------+-----------+-----------+--------+----------+-----+--------+---+--------+---------+-----------+------+---------+\n",
      "|              School|Private|Apps|Accept|Enroll|Top10perc|Top25perc|F_Undergrad|P_Undergrad|Outstate|Room_Board|Books|Personal|PhD|Terminal|S_F_Ratio|perc_alumni|Expend|Grad_Rate|\n",
      "+--------------------+-------+----+------+------+---------+---------+-----------+-----------+--------+----------+-----+--------+---+--------+---------+-----------+------+---------+\n",
      "|Abilene Christian...|    Yes|1660|  1232|   721|       23|       52|       2885|        537|    7440|      3300|  450|    2200| 70|      78|     18.1|         12|  7041|       60|\n",
      "|  Adelphi University|    Yes|2186|  1924|   512|       16|       29|       2683|       1227|   12280|      6450|  750|    1500| 29|      30|     12.2|         16| 10527|       56|\n",
      "|      Adrian College|    Yes|1428|  1097|   336|       22|       50|       1036|         99|   11250|      3750|  400|    1165| 53|      66|     12.9|         30|  8735|       54|\n",
      "| Agnes Scott College|    Yes| 417|   349|   137|       60|       89|        510|         63|   12960|      5450|  450|     875| 92|      97|      7.7|         37| 19016|       59|\n",
      "|Alaska Pacific Un...|    Yes| 193|   146|    55|       16|       44|        249|        869|    7560|      4120|  800|    1500| 76|      72|     11.9|          2| 10922|       15|\n",
      "|   Albertson College|    Yes| 587|   479|   158|       38|       62|        678|         41|   13500|      3335|  500|     675| 67|      73|      9.4|         11|  9727|       55|\n",
      "|Albertus Magnus C...|    Yes| 353|   340|   103|       17|       45|        416|        230|   13290|      5720|  500|    1500| 90|      93|     11.5|         26|  8861|       63|\n",
      "|      Albion College|    Yes|1899|  1720|   489|       37|       68|       1594|         32|   13868|      4826|  450|     850| 89|     100|     13.7|         37| 11487|       73|\n",
      "|    Albright College|    Yes|1038|   839|   227|       30|       63|        973|        306|   15595|      4400|  300|     500| 79|      84|     11.3|         23| 11644|       80|\n",
      "|Alderson-Broaddus...|    Yes| 582|   498|   172|       21|       44|        799|         78|   10468|      3380|  660|    1800| 40|      41|     11.5|         15|  8991|       52|\n",
      "|   Alfred University|    Yes|1732|  1425|   472|       37|       75|       1830|        110|   16548|      5406|  500|     600| 82|      88|     11.3|         31| 10932|       73|\n",
      "|   Allegheny College|    Yes|2652|  1900|   484|       44|       77|       1707|         44|   17080|      4440|  400|     600| 73|      91|      9.9|         41| 11711|       76|\n",
      "|Allentown Coll. o...|    Yes|1179|   780|   290|       38|       64|       1130|        638|    9690|      4785|  600|    1000| 60|      84|     13.3|         21|  7940|       74|\n",
      "|        Alma College|    Yes|1267|  1080|   385|       44|       73|       1306|         28|   12572|      4552|  400|     400| 79|      87|     15.3|         32|  9305|       68|\n",
      "|     Alverno College|    Yes| 494|   313|   157|       23|       46|       1317|       1235|    8352|      3640|  650|    2449| 36|      69|     11.1|         26|  8127|       55|\n",
      "|American Internat...|    Yes|1420|  1093|   220|        9|       22|       1018|        287|    8700|      4780|  450|    1400| 78|      84|     14.7|         19|  7355|       69|\n",
      "|     Amherst College|    Yes|4302|   992|   418|       83|       96|       1593|          5|   19760|      5300|  660|    1598| 93|      98|      8.4|         63| 21424|      100|\n",
      "| Anderson University|    Yes|1216|   908|   423|       19|       40|       1819|        281|   10100|      3520|  550|    1100| 48|      61|     12.1|         14|  7994|       59|\n",
      "|  Andrews University|    Yes|1130|   704|   322|       14|       23|       1586|        326|    9996|      3090|  900|    1320| 62|      66|     11.5|         18| 10908|       46|\n",
      "|Angelo State Univ...|     No|3540|  2001|  1016|       24|       54|       4190|       1512|    5130|      3592|  500|    2000| 60|      62|     23.1|          5|  4010|       34|\n",
      "+--------------------+-------+----+------+------+---------+---------+-----------+-----------+--------+----------+-----+--------+---+--------+---------+-----------+------+---------+\n",
      "only showing top 20 rows\n",
      "\n"
     ]
    }
   ],
   "source": [
    "from pyspark.sql import SparkSession\n",
    "\n",
    "spark = SparkSession.builder.appName('Tree Methods').getOrCreate()\n",
    "\n",
    "df = spark.read.csv('/kaggle/input/college-data/College.csv', inferSchema=True, header=True)\n",
    "\n",
    "df.show()"
   ]
  },
  {
   "cell_type": "code",
   "execution_count": 152,
   "id": "d5c64d56",
   "metadata": {
    "execution": {
     "iopub.execute_input": "2023-03-22T13:49:02.776609Z",
     "iopub.status.busy": "2023-03-22T13:49:02.776227Z",
     "iopub.status.idle": "2023-03-22T13:49:03.483934Z",
     "shell.execute_reply": "2023-03-22T13:49:03.482407Z"
    },
    "papermill": {
     "duration": 0.764208,
     "end_time": "2023-03-22T13:49:03.486450",
     "exception": false,
     "start_time": "2023-03-22T13:49:02.722242",
     "status": "completed"
    },
    "tags": []
   },
   "outputs": [
    {
     "name": "stdout",
     "output_type": "stream",
     "text": [
      "+-------+--------------------+-------+------------------+------------------+----------------+------------------+------------------+-----------------+-----------------+------------------+------------------+------------------+------------------+------------------+------------------+------------------+------------------+----------------+------------------+\n",
      "|summary|              School|Private|              Apps|            Accept|          Enroll|         Top10perc|         Top25perc|      F_Undergrad|      P_Undergrad|          Outstate|        Room_Board|             Books|          Personal|               PhD|          Terminal|         S_F_Ratio|       perc_alumni|          Expend|         Grad_Rate|\n",
      "+-------+--------------------+-------+------------------+------------------+----------------+------------------+------------------+-----------------+-----------------+------------------+------------------+------------------+------------------+------------------+------------------+------------------+------------------+----------------+------------------+\n",
      "|  count|                 777|    777|               777|               777|             777|               777|               777|              777|              777|               777|               777|               777|               777|               777|               777|               777|               777|             777|               777|\n",
      "|   mean|                null|   null|3001.6383526383524|2018.8043758043757|779.972972972973| 27.55855855855856|  55.7966537966538|3699.907335907336|855.2985842985843| 10440.66924066924| 4357.526383526383| 549.3809523809524|1340.6422136422136| 72.66023166023166| 79.70270270270271|14.089703989703986|22.743886743886744|9660.17117117117| 65.46332046332046|\n",
      "| stddev|                null|   null|3870.2014844352884|  2451.11397099263| 929.17619013287|17.640364385452134|19.804777595131373|4850.420530887386|1522.431887295513|4023.0164841119727|1096.6964155935289|165.10536013709253|  677.071453590578|16.328154687939314|14.722358527903374|3.9583491352055478| 12.39180148937615|5221.76843985609|17.177709897155403|\n",
      "|    min|Abilene Christian...|     No|                81|                72|              35|                 1|                 9|              139|                1|              2340|              1780|                96|               250|                 8|                24|               2.5|                 0|            3186|                10|\n",
      "|    max|York College of P...|    Yes|             48094|             26330|            6392|                96|               100|            31643|            21836|             21700|              8124|              2340|              6800|               103|               100|              39.8|                64|           56233|               118|\n",
      "+-------+--------------------+-------+------------------+------------------+----------------+------------------+------------------+-----------------+-----------------+------------------+------------------+------------------+------------------+------------------+------------------+------------------+------------------+----------------+------------------+\n",
      "\n"
     ]
    }
   ],
   "source": [
    "df.describe().show()"
   ]
  },
  {
   "cell_type": "code",
   "execution_count": 153,
   "id": "b9e3ccbb",
   "metadata": {
    "execution": {
     "iopub.execute_input": "2023-03-22T13:49:03.596923Z",
     "iopub.status.busy": "2023-03-22T13:49:03.596518Z",
     "iopub.status.idle": "2023-03-22T13:49:03.603401Z",
     "shell.execute_reply": "2023-03-22T13:49:03.602117Z"
    },
    "papermill": {
     "duration": 0.064733,
     "end_time": "2023-03-22T13:49:03.605241",
     "exception": false,
     "start_time": "2023-03-22T13:49:03.540508",
     "status": "completed"
    },
    "tags": []
   },
   "outputs": [
    {
     "name": "stdout",
     "output_type": "stream",
     "text": [
      "root\n",
      " |-- School: string (nullable = true)\n",
      " |-- Private: string (nullable = true)\n",
      " |-- Apps: integer (nullable = true)\n",
      " |-- Accept: integer (nullable = true)\n",
      " |-- Enroll: integer (nullable = true)\n",
      " |-- Top10perc: integer (nullable = true)\n",
      " |-- Top25perc: integer (nullable = true)\n",
      " |-- F_Undergrad: integer (nullable = true)\n",
      " |-- P_Undergrad: integer (nullable = true)\n",
      " |-- Outstate: integer (nullable = true)\n",
      " |-- Room_Board: integer (nullable = true)\n",
      " |-- Books: integer (nullable = true)\n",
      " |-- Personal: integer (nullable = true)\n",
      " |-- PhD: integer (nullable = true)\n",
      " |-- Terminal: integer (nullable = true)\n",
      " |-- S_F_Ratio: double (nullable = true)\n",
      " |-- perc_alumni: integer (nullable = true)\n",
      " |-- Expend: integer (nullable = true)\n",
      " |-- Grad_Rate: integer (nullable = true)\n",
      "\n"
     ]
    }
   ],
   "source": [
    "df.printSchema()"
   ]
  },
  {
   "cell_type": "code",
   "execution_count": 154,
   "id": "910df54b",
   "metadata": {
    "execution": {
     "iopub.execute_input": "2023-03-22T13:49:03.714035Z",
     "iopub.status.busy": "2023-03-22T13:49:03.713636Z",
     "iopub.status.idle": "2023-03-22T13:49:03.721191Z",
     "shell.execute_reply": "2023-03-22T13:49:03.719888Z"
    },
    "papermill": {
     "duration": 0.064734,
     "end_time": "2023-03-22T13:49:03.723173",
     "exception": false,
     "start_time": "2023-03-22T13:49:03.658439",
     "status": "completed"
    },
    "tags": []
   },
   "outputs": [
    {
     "data": {
      "text/plain": [
       "['School',\n",
       " 'Private',\n",
       " 'Apps',\n",
       " 'Accept',\n",
       " 'Enroll',\n",
       " 'Top10perc',\n",
       " 'Top25perc',\n",
       " 'F_Undergrad',\n",
       " 'P_Undergrad',\n",
       " 'Outstate',\n",
       " 'Room_Board',\n",
       " 'Books',\n",
       " 'Personal',\n",
       " 'PhD',\n",
       " 'Terminal',\n",
       " 'S_F_Ratio',\n",
       " 'perc_alumni',\n",
       " 'Expend',\n",
       " 'Grad_Rate']"
      ]
     },
     "execution_count": 154,
     "metadata": {},
     "output_type": "execute_result"
    }
   ],
   "source": [
    "df.columns"
   ]
  },
  {
   "cell_type": "code",
   "execution_count": 155,
   "id": "697484e5",
   "metadata": {
    "execution": {
     "iopub.execute_input": "2023-03-22T13:49:03.833713Z",
     "iopub.status.busy": "2023-03-22T13:49:03.833322Z",
     "iopub.status.idle": "2023-03-22T13:49:03.842737Z",
     "shell.execute_reply": "2023-03-22T13:49:03.841572Z"
    },
    "papermill": {
     "duration": 0.068432,
     "end_time": "2023-03-22T13:49:03.845120",
     "exception": false,
     "start_time": "2023-03-22T13:49:03.776688",
     "status": "completed"
    },
    "tags": []
   },
   "outputs": [],
   "source": [
    "from pyspark.ml.feature import VectorAssembler\n",
    "from pyspark.ml.feature import StringIndexer\n",
    "from pyspark.ml.feature import OneHotEncoder\n",
    "\n",
    "assembler = VectorAssembler(inputCols=['Accept', 'Enroll', 'Top10perc', 'Top25perc',\n",
    "                            'F_Undergrad','P_Undergrad','Outstate','Room_Board','Books','Personal','PhD','Terminal',\n",
    "                            'S_F_Ratio','perc_alumni','Expend','Grad_Rate'], outputCol='features')"
   ]
  },
  {
   "cell_type": "code",
   "execution_count": 156,
   "id": "7590d486",
   "metadata": {
    "execution": {
     "iopub.execute_input": "2023-03-22T13:49:03.956439Z",
     "iopub.status.busy": "2023-03-22T13:49:03.956041Z",
     "iopub.status.idle": "2023-03-22T13:49:04.123036Z",
     "shell.execute_reply": "2023-03-22T13:49:04.120933Z"
    },
    "papermill": {
     "duration": 0.226599,
     "end_time": "2023-03-22T13:49:04.127165",
     "exception": false,
     "start_time": "2023-03-22T13:49:03.900566",
     "status": "completed"
    },
    "tags": []
   },
   "outputs": [
    {
     "name": "stdout",
     "output_type": "stream",
     "text": [
      "root\n",
      " |-- School: string (nullable = true)\n",
      " |-- Private: string (nullable = true)\n",
      " |-- Apps: integer (nullable = true)\n",
      " |-- Accept: integer (nullable = true)\n",
      " |-- Enroll: integer (nullable = true)\n",
      " |-- Top10perc: integer (nullable = true)\n",
      " |-- Top25perc: integer (nullable = true)\n",
      " |-- F_Undergrad: integer (nullable = true)\n",
      " |-- P_Undergrad: integer (nullable = true)\n",
      " |-- Outstate: integer (nullable = true)\n",
      " |-- Room_Board: integer (nullable = true)\n",
      " |-- Books: integer (nullable = true)\n",
      " |-- Personal: integer (nullable = true)\n",
      " |-- PhD: integer (nullable = true)\n",
      " |-- Terminal: integer (nullable = true)\n",
      " |-- S_F_Ratio: double (nullable = true)\n",
      " |-- perc_alumni: integer (nullable = true)\n",
      " |-- Expend: integer (nullable = true)\n",
      " |-- Grad_Rate: integer (nullable = true)\n",
      " |-- features: vector (nullable = true)\n",
      " |-- Indexed_Private: double (nullable = false)\n",
      "\n"
     ]
    }
   ],
   "source": [
    "output = assembler.transform(df)\n",
    "\n",
    "indexer = StringIndexer(inputCol='Private', outputCol='Indexed_Private')\n",
    "output_fixed = indexer.fit(output).transform(output)\n",
    "\n",
    "output_fixed.printSchema()"
   ]
  },
  {
   "cell_type": "code",
   "execution_count": 157,
   "id": "ff044941",
   "metadata": {
    "execution": {
     "iopub.execute_input": "2023-03-22T13:49:04.265854Z",
     "iopub.status.busy": "2023-03-22T13:49:04.265480Z",
     "iopub.status.idle": "2023-03-22T13:49:04.282254Z",
     "shell.execute_reply": "2023-03-22T13:49:04.281193Z"
    },
    "papermill": {
     "duration": 0.076047,
     "end_time": "2023-03-22T13:49:04.285033",
     "exception": false,
     "start_time": "2023-03-22T13:49:04.208986",
     "status": "completed"
    },
    "tags": []
   },
   "outputs": [],
   "source": [
    "train, test = output_fixed.select(['features', 'Indexed_Private']).randomSplit([0.7, 0.3])"
   ]
  },
  {
   "cell_type": "code",
   "execution_count": 158,
   "id": "edf8c2fd",
   "metadata": {
    "execution": {
     "iopub.execute_input": "2023-03-22T13:49:04.395098Z",
     "iopub.status.busy": "2023-03-22T13:49:04.394437Z",
     "iopub.status.idle": "2023-03-22T13:49:04.553735Z",
     "shell.execute_reply": "2023-03-22T13:49:04.551447Z"
    },
    "papermill": {
     "duration": 0.216534,
     "end_time": "2023-03-22T13:49:04.557199",
     "exception": false,
     "start_time": "2023-03-22T13:49:04.340665",
     "status": "completed"
    },
    "tags": []
   },
   "outputs": [
    {
     "name": "stdout",
     "output_type": "stream",
     "text": [
      "23/03/22 13:49:04 WARN package: Truncated the string representation of a plan since it was too large. This behavior can be adjusted by setting 'spark.sql.debug.maxToStringFields'.\n",
      "+--------------------+---------------+\n",
      "|            features|Indexed_Private|\n",
      "+--------------------+---------------+\n",
      "|[72.0,51.0,33.0,7...|            0.0|\n",
      "|[118.0,55.0,12.0,...|            0.0|\n",
      "|[128.0,75.0,17.0,...|            0.0|\n",
      "|[146.0,55.0,16.0,...|            0.0|\n",
      "|[155.0,75.0,28.0,...|            0.0|\n",
      "|[158.0,132.0,10.0...|            0.0|\n",
      "|[165.0,63.0,5.0,2...|            0.0|\n",
      "|[166.0,85.0,13.0,...|            0.0|\n",
      "|[182.0,99.0,7.0,2...|            0.0|\n",
      "|[184.0,122.0,19.0...|            0.0|\n",
      "|[185.0,91.0,16.0,...|            0.0|\n",
      "|[192.0,111.0,15.0...|            0.0|\n",
      "|[197.0,124.0,3.0,...|            0.0|\n",
      "|[198.0,82.0,12.0,...|            0.0|\n",
      "|[201.0,97.0,10.0,...|            0.0|\n",
      "|[223.0,103.0,10.0...|            0.0|\n",
      "|[228.0,137.0,10.0...|            0.0|\n",
      "|[233.0,153.0,5.0,...|            1.0|\n",
      "|[237.0,104.0,30.0...|            0.0|\n",
      "|[240.0,130.0,40.0...|            0.0|\n",
      "+--------------------+---------------+\n",
      "only showing top 20 rows\n",
      "\n"
     ]
    }
   ],
   "source": [
    "train.show()"
   ]
  },
  {
   "cell_type": "code",
   "execution_count": 159,
   "id": "de090387",
   "metadata": {
    "execution": {
     "iopub.execute_input": "2023-03-22T13:49:04.678233Z",
     "iopub.status.busy": "2023-03-22T13:49:04.677800Z",
     "iopub.status.idle": "2023-03-22T13:49:04.682326Z",
     "shell.execute_reply": "2023-03-22T13:49:04.681141Z"
    },
    "papermill": {
     "duration": 0.06087,
     "end_time": "2023-03-22T13:49:04.684159",
     "exception": false,
     "start_time": "2023-03-22T13:49:04.623289",
     "status": "completed"
    },
    "tags": []
   },
   "outputs": [],
   "source": [
    "from pyspark.ml.classification import (DecisionTreeClassifier,\n",
    "                                       RandomForestClassifier,\n",
    "                                       GBTClassifier)"
   ]
  },
  {
   "cell_type": "code",
   "execution_count": 160,
   "id": "72397ca3",
   "metadata": {
    "execution": {
     "iopub.execute_input": "2023-03-22T13:49:04.796105Z",
     "iopub.status.busy": "2023-03-22T13:49:04.795660Z",
     "iopub.status.idle": "2023-03-22T13:49:11.624156Z",
     "shell.execute_reply": "2023-03-22T13:49:11.623383Z"
    },
    "papermill": {
     "duration": 6.887208,
     "end_time": "2023-03-22T13:49:11.626516",
     "exception": false,
     "start_time": "2023-03-22T13:49:04.739308",
     "status": "completed"
    },
    "tags": []
   },
   "outputs": [],
   "source": [
    "from pyspark.ml import pipeline\n",
    "\n",
    "dtc = DecisionTreeClassifier(labelCol='Indexed_Private', featuresCol='features')\n",
    "rfc = RandomForestClassifier(labelCol='Indexed_Private', featuresCol='features')\n",
    "gbt = GBTClassifier(labelCol='Indexed_Private', featuresCol='features')\n",
    "\n",
    "dtc_model = dtc.fit(train)\n",
    "rfc_model = rfc.fit(train)\n",
    "gbt_model = gbt.fit(train)\n",
    "\n",
    "dt_pred = dtc_model.transform(test)\n",
    "rf_pred = rfc_model.transform(test)\n",
    "gb_pred = gbt_model.transform(test)\n",
    "\n",
    "from pyspark.ml.evaluation import BinaryClassificationEvaluator\n",
    "\n",
    "my_binary_eval = BinaryClassificationEvaluator(labelCol='Indexed_Private')"
   ]
  },
  {
   "cell_type": "code",
   "execution_count": 161,
   "id": "91df5beb",
   "metadata": {
    "execution": {
     "iopub.execute_input": "2023-03-22T13:49:11.736251Z",
     "iopub.status.busy": "2023-03-22T13:49:11.735616Z",
     "iopub.status.idle": "2023-03-22T13:49:12.367624Z",
     "shell.execute_reply": "2023-03-22T13:49:12.366342Z"
    },
    "papermill": {
     "duration": 0.689314,
     "end_time": "2023-03-22T13:49:12.369968",
     "exception": false,
     "start_time": "2023-03-22T13:49:11.680654",
     "status": "completed"
    },
    "tags": []
   },
   "outputs": [
    {
     "name": "stdout",
     "output_type": "stream",
     "text": [
      "DTC Prediction AUC ROC is: 0.918927738927739\n",
      "RFC Prediction AUC ROC is: 0.9688578088578086\n",
      "GBT Prediction AUC ROC is: 0.9516083916083916\n"
     ]
    }
   ],
   "source": [
    "print('DTC Prediction AUC ROC is: {x}'.format(x = my_binary_eval.evaluate(dt_pred)))\n",
    "print('RFC Prediction AUC ROC is: {x}'.format(x = my_binary_eval.evaluate(rf_pred)))\n",
    "print('GBT Prediction AUC ROC is: {x}'.format(x = my_binary_eval.evaluate(gb_pred)))"
   ]
  },
  {
   "cell_type": "markdown",
   "id": "6c4cfd94",
   "metadata": {
    "papermill": {
     "duration": 0.053445,
     "end_time": "2023-03-22T13:49:12.478975",
     "exception": false,
     "start_time": "2023-03-22T13:49:12.425530",
     "status": "completed"
    },
    "tags": []
   },
   "source": [
    "# RFC Consulting Project"
   ]
  },
  {
   "cell_type": "code",
   "execution_count": 162,
   "id": "ae194818",
   "metadata": {
    "execution": {
     "iopub.execute_input": "2023-03-22T13:49:12.591225Z",
     "iopub.status.busy": "2023-03-22T13:49:12.590848Z",
     "iopub.status.idle": "2023-03-22T13:49:12.967627Z",
     "shell.execute_reply": "2023-03-22T13:49:12.966849Z"
    },
    "papermill": {
     "duration": 0.437496,
     "end_time": "2023-03-22T13:49:12.969927",
     "exception": false,
     "start_time": "2023-03-22T13:49:12.532431",
     "status": "completed"
    },
    "tags": []
   },
   "outputs": [
    {
     "name": "stdout",
     "output_type": "stream",
     "text": [
      "23/03/22 13:49:12 WARN SparkSession: Using an existing Spark session; only runtime SQL configurations will take effect.\n",
      "+---+---+----+---+-------+\n",
      "|  A|  B|   C|  D|Spoiled|\n",
      "+---+---+----+---+-------+\n",
      "|  4|  2|12.0|  3|    1.0|\n",
      "|  5|  6|12.0|  7|    1.0|\n",
      "|  6|  2|13.0|  6|    1.0|\n",
      "|  4|  2|12.0|  1|    1.0|\n",
      "|  4|  2|12.0|  3|    1.0|\n",
      "| 10|  3|13.0|  9|    1.0|\n",
      "|  8|  5|14.0|  5|    1.0|\n",
      "|  5|  8|12.0|  8|    1.0|\n",
      "|  6|  5|12.0|  9|    1.0|\n",
      "|  3|  3|12.0|  1|    1.0|\n",
      "|  9|  8|11.0|  3|    1.0|\n",
      "|  1| 10|12.0|  3|    1.0|\n",
      "|  1|  5|13.0| 10|    1.0|\n",
      "|  2| 10|12.0|  6|    1.0|\n",
      "|  1| 10|11.0|  4|    1.0|\n",
      "|  5|  3|12.0|  2|    1.0|\n",
      "|  4|  9|11.0|  8|    1.0|\n",
      "|  5|  1|11.0|  1|    1.0|\n",
      "|  4|  9|12.0| 10|    1.0|\n",
      "|  5|  8|10.0|  9|    1.0|\n",
      "+---+---+----+---+-------+\n",
      "only showing top 20 rows\n",
      "\n",
      "root\n",
      " |-- A: integer (nullable = true)\n",
      " |-- B: integer (nullable = true)\n",
      " |-- C: double (nullable = true)\n",
      " |-- D: integer (nullable = true)\n",
      " |-- Spoiled: double (nullable = true)\n",
      "\n",
      "+-------+------------------+------------------+------------------+------------------+-------------------+\n",
      "|summary|                 A|                 B|                 C|                 D|            Spoiled|\n",
      "+-------+------------------+------------------+------------------+------------------+-------------------+\n",
      "|  count|               490|               490|               490|               490|                490|\n",
      "|   mean|  5.53469387755102| 5.504081632653061| 9.126530612244897| 5.579591836734694| 0.2857142857142857|\n",
      "| stddev|2.9515204234399057|2.8537966089662063|2.0555451971054275|2.8548369309982857|0.45221563164613465|\n",
      "|    min|                 1|                 1|               5.0|                 1|                0.0|\n",
      "|    max|                10|                10|              14.0|                10|                1.0|\n",
      "+-------+------------------+------------------+------------------+------------------+-------------------+\n",
      "\n"
     ]
    }
   ],
   "source": [
    "from pyspark.sql import SparkSession\n",
    "from pyspark.ml.feature import VectorAssembler\n",
    "from pyspark.ml.classification import RandomForestClassifier\n",
    "from pyspark.ml.evaluation import BinaryClassificationEvaluator\n",
    "\n",
    "spark = SparkSession.builder.appName('Consulting').getOrCreate()\n",
    "\n",
    "df = spark.read.csv('/kaggle/input/dog-food/dog_food.csv', inferSchema=True, header=True)\n",
    "\n",
    "df.show()\n",
    "\n",
    "df.printSchema()\n",
    "\n",
    "df.describe().show()"
   ]
  },
  {
   "cell_type": "code",
   "execution_count": 163,
   "id": "e0193cb4",
   "metadata": {
    "execution": {
     "iopub.execute_input": "2023-03-22T13:49:13.124715Z",
     "iopub.status.busy": "2023-03-22T13:49:13.124309Z",
     "iopub.status.idle": "2023-03-22T13:49:13.216630Z",
     "shell.execute_reply": "2023-03-22T13:49:13.215710Z"
    },
    "papermill": {
     "duration": 0.17104,
     "end_time": "2023-03-22T13:49:13.218962",
     "exception": false,
     "start_time": "2023-03-22T13:49:13.047922",
     "status": "completed"
    },
    "tags": []
   },
   "outputs": [
    {
     "name": "stdout",
     "output_type": "stream",
     "text": [
      "+---+---+----+---+-------+-------------------+\n",
      "|  A|  B|   C|  D|Spoiled|           features|\n",
      "+---+---+----+---+-------+-------------------+\n",
      "|  4|  2|12.0|  3|    1.0| [4.0,2.0,12.0,3.0]|\n",
      "|  5|  6|12.0|  7|    1.0| [5.0,6.0,12.0,7.0]|\n",
      "|  6|  2|13.0|  6|    1.0| [6.0,2.0,13.0,6.0]|\n",
      "|  4|  2|12.0|  1|    1.0| [4.0,2.0,12.0,1.0]|\n",
      "|  4|  2|12.0|  3|    1.0| [4.0,2.0,12.0,3.0]|\n",
      "| 10|  3|13.0|  9|    1.0|[10.0,3.0,13.0,9.0]|\n",
      "|  8|  5|14.0|  5|    1.0| [8.0,5.0,14.0,5.0]|\n",
      "|  5|  8|12.0|  8|    1.0| [5.0,8.0,12.0,8.0]|\n",
      "|  6|  5|12.0|  9|    1.0| [6.0,5.0,12.0,9.0]|\n",
      "|  3|  3|12.0|  1|    1.0| [3.0,3.0,12.0,1.0]|\n",
      "|  9|  8|11.0|  3|    1.0| [9.0,8.0,11.0,3.0]|\n",
      "|  1| 10|12.0|  3|    1.0|[1.0,10.0,12.0,3.0]|\n",
      "|  1|  5|13.0| 10|    1.0|[1.0,5.0,13.0,10.0]|\n",
      "|  2| 10|12.0|  6|    1.0|[2.0,10.0,12.0,6.0]|\n",
      "|  1| 10|11.0|  4|    1.0|[1.0,10.0,11.0,4.0]|\n",
      "|  5|  3|12.0|  2|    1.0| [5.0,3.0,12.0,2.0]|\n",
      "|  4|  9|11.0|  8|    1.0| [4.0,9.0,11.0,8.0]|\n",
      "|  5|  1|11.0|  1|    1.0| [5.0,1.0,11.0,1.0]|\n",
      "|  4|  9|12.0| 10|    1.0|[4.0,9.0,12.0,10.0]|\n",
      "|  5|  8|10.0|  9|    1.0| [5.0,8.0,10.0,9.0]|\n",
      "+---+---+----+---+-------+-------------------+\n",
      "only showing top 20 rows\n",
      "\n"
     ]
    }
   ],
   "source": [
    "assembler = VectorAssembler(inputCols=['A', 'B', 'C', 'D'], outputCol='features') \n",
    "df = assembler.transform(df)\n",
    "df.show()"
   ]
  },
  {
   "cell_type": "code",
   "execution_count": 164,
   "id": "bc328313",
   "metadata": {
    "execution": {
     "iopub.execute_input": "2023-03-22T13:49:13.335624Z",
     "iopub.status.busy": "2023-03-22T13:49:13.335190Z",
     "iopub.status.idle": "2023-03-22T13:49:13.351246Z",
     "shell.execute_reply": "2023-03-22T13:49:13.349968Z"
    },
    "papermill": {
     "duration": 0.073673,
     "end_time": "2023-03-22T13:49:13.353767",
     "exception": false,
     "start_time": "2023-03-22T13:49:13.280094",
     "status": "completed"
    },
    "tags": []
   },
   "outputs": [],
   "source": [
    "df_clean = df.select(['features', 'Spoiled'])\n",
    "train, test = df_clean.randomSplit([0.7, 0.3])"
   ]
  },
  {
   "cell_type": "code",
   "execution_count": 165,
   "id": "5b20c6ca",
   "metadata": {
    "execution": {
     "iopub.execute_input": "2023-03-22T13:49:13.465954Z",
     "iopub.status.busy": "2023-03-22T13:49:13.465580Z",
     "iopub.status.idle": "2023-03-22T13:49:14.318323Z",
     "shell.execute_reply": "2023-03-22T13:49:14.317273Z"
    },
    "papermill": {
     "duration": 0.91129,
     "end_time": "2023-03-22T13:49:14.321205",
     "exception": false,
     "start_time": "2023-03-22T13:49:13.409915",
     "status": "completed"
    },
    "tags": []
   },
   "outputs": [],
   "source": [
    "rfm = RandomForestClassifier(featuresCol='features', labelCol='Spoiled')\n",
    "rfm_model = rfm.fit(train)\n",
    "rfm_pred = rfm_model.transform(test)"
   ]
  },
  {
   "cell_type": "code",
   "execution_count": 166,
   "id": "c17755ff",
   "metadata": {
    "execution": {
     "iopub.execute_input": "2023-03-22T13:49:14.476992Z",
     "iopub.status.busy": "2023-03-22T13:49:14.476551Z",
     "iopub.status.idle": "2023-03-22T13:49:14.584099Z",
     "shell.execute_reply": "2023-03-22T13:49:14.583131Z"
    },
    "papermill": {
     "duration": 0.185577,
     "end_time": "2023-03-22T13:49:14.586314",
     "exception": false,
     "start_time": "2023-03-22T13:49:14.400737",
     "status": "completed"
    },
    "tags": []
   },
   "outputs": [
    {
     "name": "stdout",
     "output_type": "stream",
     "text": [
      "+-------------------+-------+--------------------+--------------------+----------+\n",
      "|           features|Spoiled|       rawPrediction|         probability|prediction|\n",
      "+-------------------+-------+--------------------+--------------------+----------+\n",
      "|  [1.0,2.0,9.0,4.0]|    0.0|[18.6522457276251...|[0.93261228638125...|       0.0|\n",
      "|  [1.0,3.0,8.0,5.0]|    0.0|[19.8933161269102...|[0.99466580634551...|       0.0|\n",
      "|  [1.0,4.0,8.0,1.0]|    0.0|[19.6779789744822...|[0.98389894872411...|       0.0|\n",
      "|  [1.0,4.0,8.0,5.0]|    0.0|[19.8933161269102...|[0.99466580634551...|       0.0|\n",
      "|  [1.0,4.0,8.0,7.0]|    0.0|[18.8856238192179...|[0.94428119096089...|       0.0|\n",
      "|  [1.0,4.0,9.0,3.0]|    0.0|[19.6779789744822...|[0.98389894872411...|       0.0|\n",
      "|[1.0,4.0,13.0,10.0]|    1.0|[0.56489092188599...|[0.02824454609429...|       1.0|\n",
      "|[1.0,5.0,12.0,10.0]|    1.0|[1.45377981077488...|[0.07268899053874...|       1.0|\n",
      "|[1.0,5.0,13.0,10.0]|    1.0|[1.45377981077488...|[0.07268899053874...|       1.0|\n",
      "|[1.0,6.0,11.0,10.0]|    1.0|[2.45377981077488...|[0.12268899053874...|       1.0|\n",
      "|  [1.0,7.0,7.0,2.0]|    0.0|[19.5514488426554...|[0.97757244213277...|       0.0|\n",
      "|  [1.0,7.0,7.0,6.0]|    0.0|[19.7787015305284...|[0.98893507652642...|       0.0|\n",
      "|  [1.0,9.0,7.0,4.0]|    0.0|[19.5270585987530...|[0.97635292993765...|       0.0|\n",
      "|  [1.0,9.0,9.0,7.0]|    0.0|[18.7787015305284...|[0.93893507652642...|       0.0|\n",
      "| [1.0,9.0,10.0,6.0]|    0.0|[16.7446355964624...|[0.83723177982312...|       0.0|\n",
      "|[1.0,10.0,12.0,3.0]|    1.0|[0.71940170940170...|[0.03597008547008...|       1.0|\n",
      "|  [2.0,1.0,8.0,9.0]|    0.0|[18.4989705473813...|[0.92494852736906...|       0.0|\n",
      "|  [2.0,1.0,9.0,1.0]|    0.0|[18.9868421052631...|[0.94934210526315...|       0.0|\n",
      "|  [2.0,1.0,9.0,1.0]|    0.0|[18.9868421052631...|[0.94934210526315...|       0.0|\n",
      "| [2.0,1.0,10.0,7.0]|    0.0|[11.3077617561725...|[0.56538808780862...|       0.0|\n",
      "+-------------------+-------+--------------------+--------------------+----------+\n",
      "only showing top 20 rows\n",
      "\n"
     ]
    }
   ],
   "source": [
    "rfm_pred.show()"
   ]
  },
  {
   "cell_type": "code",
   "execution_count": 167,
   "id": "b15c427e",
   "metadata": {
    "execution": {
     "iopub.execute_input": "2023-03-22T13:49:14.696197Z",
     "iopub.status.busy": "2023-03-22T13:49:14.695795Z",
     "iopub.status.idle": "2023-03-22T13:49:14.706745Z",
     "shell.execute_reply": "2023-03-22T13:49:14.706051Z"
    },
    "papermill": {
     "duration": 0.06814,
     "end_time": "2023-03-22T13:49:14.708803",
     "exception": false,
     "start_time": "2023-03-22T13:49:14.640663",
     "status": "completed"
    },
    "tags": []
   },
   "outputs": [
    {
     "data": {
      "text/plain": [
       "SparseVector(4, {0: 0.0241, 1: 0.0288, 2: 0.9211, 3: 0.0259})"
      ]
     },
     "execution_count": 167,
     "metadata": {},
     "output_type": "execute_result"
    }
   ],
   "source": [
    "# Predictions are depending on C majorly\n",
    "# Model states C feature to be more effective in estimationg Spoiled food\n",
    "rfm_model.featureImportances"
   ]
  },
  {
   "cell_type": "code",
   "execution_count": 168,
   "id": "a6089a3a",
   "metadata": {
    "execution": {
     "iopub.execute_input": "2023-03-22T13:49:14.822626Z",
     "iopub.status.busy": "2023-03-22T13:49:14.821946Z",
     "iopub.status.idle": "2023-03-22T13:49:14.977122Z",
     "shell.execute_reply": "2023-03-22T13:49:14.976385Z"
    },
    "papermill": {
     "duration": 0.215423,
     "end_time": "2023-03-22T13:49:14.979360",
     "exception": false,
     "start_time": "2023-03-22T13:49:14.763937",
     "status": "completed"
    },
    "tags": []
   },
   "outputs": [
    {
     "data": {
      "text/plain": [
       "0.9880811662726554"
      ]
     },
     "execution_count": 168,
     "metadata": {},
     "output_type": "execute_result"
    }
   ],
   "source": [
    "my_eval = BinaryClassificationEvaluator(labelCol='Spoiled')\n",
    "my_eval.evaluate(rfm_pred)"
   ]
  },
  {
   "cell_type": "markdown",
   "id": "70ea3eb3",
   "metadata": {
    "papermill": {
     "duration": 0.115597,
     "end_time": "2023-03-22T13:49:15.154962",
     "exception": false,
     "start_time": "2023-03-22T13:49:15.039365",
     "status": "completed"
    },
    "tags": []
   },
   "source": [
    "# Clustering"
   ]
  },
  {
   "cell_type": "code",
   "execution_count": 169,
   "id": "f762a965",
   "metadata": {
    "execution": {
     "iopub.execute_input": "2023-03-22T13:49:15.267412Z",
     "iopub.status.busy": "2023-03-22T13:49:15.267019Z",
     "iopub.status.idle": "2023-03-22T13:49:15.621910Z",
     "shell.execute_reply": "2023-03-22T13:49:15.620228Z"
    },
    "papermill": {
     "duration": 0.413847,
     "end_time": "2023-03-22T13:49:15.624345",
     "exception": false,
     "start_time": "2023-03-22T13:49:15.210498",
     "status": "completed"
    },
    "tags": []
   },
   "outputs": [
    {
     "name": "stdout",
     "output_type": "stream",
     "text": [
      "23/03/22 13:49:15 WARN SparkSession: Using an existing Spark session; only runtime SQL configurations will take effect.\n",
      "root\n",
      " |-- area: double (nullable = true)\n",
      " |-- perimeter: double (nullable = true)\n",
      " |-- compactness: double (nullable = true)\n",
      " |-- length_of_kernel: double (nullable = true)\n",
      " |-- width_of_kernel: double (nullable = true)\n",
      " |-- asymmetry_coefficient: double (nullable = true)\n",
      " |-- length_of_groove: double (nullable = true)\n",
      "\n",
      "+-------+------------------+------------------+--------------------+-------------------+------------------+---------------------+-------------------+\n",
      "|summary|              area|         perimeter|         compactness|   length_of_kernel|   width_of_kernel|asymmetry_coefficient|   length_of_groove|\n",
      "+-------+------------------+------------------+--------------------+-------------------+------------------+---------------------+-------------------+\n",
      "|  count|               210|               210|                 210|                210|               210|                  210|                210|\n",
      "|   mean|14.847523809523816|14.559285714285718|  0.8709985714285714|  5.628533333333335| 3.258604761904762|   3.7001999999999997|  5.408071428571429|\n",
      "| stddev|2.9096994306873647|1.3059587265640225|0.023629416583846364|0.44306347772644983|0.3777144449065867|   1.5035589702547392|0.49148049910240543|\n",
      "|    min|             10.59|             12.41|              0.8081|              4.899|              2.63|                0.765|              4.519|\n",
      "|    max|             21.18|             17.25|              0.9183|              6.675|             4.033|                8.456|               6.55|\n",
      "+-------+------------------+------------------+--------------------+-------------------+------------------+---------------------+-------------------+\n",
      "\n",
      "+-----+---------+-----------+------------------+------------------+---------------------+------------------+\n",
      "| area|perimeter|compactness|  length_of_kernel|   width_of_kernel|asymmetry_coefficient|  length_of_groove|\n",
      "+-----+---------+-----------+------------------+------------------+---------------------+------------------+\n",
      "|15.26|    14.84|      0.871|             5.763|             3.312|                2.221|              5.22|\n",
      "|14.88|    14.57|     0.8811| 5.553999999999999|             3.333|                1.018|             4.956|\n",
      "|14.29|    14.09|      0.905|             5.291|3.3369999999999997|                2.699|             4.825|\n",
      "|13.84|    13.94|     0.8955|             5.324|3.3789999999999996|                2.259|             4.805|\n",
      "|16.14|    14.99|     0.9034|5.6579999999999995|             3.562|                1.355|             5.175|\n",
      "|14.38|    14.21|     0.8951|             5.386|             3.312|   2.4619999999999997|             4.956|\n",
      "|14.69|    14.49|     0.8799|             5.563|             3.259|   3.5860000000000003| 5.218999999999999|\n",
      "|14.11|     14.1|     0.8911|              5.42|             3.302|                  2.7|               5.0|\n",
      "|16.63|    15.46|     0.8747|             6.053|             3.465|                 2.04| 5.877000000000001|\n",
      "|16.44|    15.25|      0.888|5.8839999999999995|             3.505|                1.969|5.5329999999999995|\n",
      "|15.26|    14.85|     0.8696|5.7139999999999995|             3.242|                4.543|             5.314|\n",
      "|14.03|    14.16|     0.8796|             5.438|             3.201|   1.7169999999999999|             5.001|\n",
      "|13.89|    14.02|      0.888|             5.439|             3.199|                3.986|             4.738|\n",
      "|13.78|    14.06|     0.8759|             5.479|             3.156|                3.136|             4.872|\n",
      "|13.74|    14.05|     0.8744|             5.482|             3.114|                2.932|             4.825|\n",
      "|14.59|    14.28|     0.8993|             5.351|             3.333|                4.185| 4.781000000000001|\n",
      "|13.99|    13.83|     0.9183|             5.119|             3.383|                5.234| 4.781000000000001|\n",
      "|15.69|    14.75|     0.9058|             5.527|             3.514|                1.599|             5.046|\n",
      "| 14.7|    14.21|     0.9153|             5.205|             3.466|                1.767|             4.649|\n",
      "|12.72|    13.57|     0.8686|             5.226|             3.049|                4.102|             4.914|\n",
      "+-----+---------+-----------+------------------+------------------+---------------------+------------------+\n",
      "only showing top 20 rows\n",
      "\n"
     ]
    }
   ],
   "source": [
    "from pyspark.sql import SparkSession\n",
    "\n",
    "spark = SparkSession.builder.appName('Clustering').getOrCreate()\n",
    "\n",
    "df = spark.read.csv('/kaggle/input/seed-dataset/seeds_dataset.csv', inferSchema=True, header=True)\n",
    "\n",
    "df.printSchema()\n",
    "\n",
    "df.describe().show()\n",
    "\n",
    "df.show()"
   ]
  },
  {
   "cell_type": "code",
   "execution_count": 170,
   "id": "111c906e",
   "metadata": {
    "execution": {
     "iopub.execute_input": "2023-03-22T13:49:15.744522Z",
     "iopub.status.busy": "2023-03-22T13:49:15.744126Z",
     "iopub.status.idle": "2023-03-22T13:49:15.751354Z",
     "shell.execute_reply": "2023-03-22T13:49:15.750433Z"
    },
    "papermill": {
     "duration": 0.066543,
     "end_time": "2023-03-22T13:49:15.753252",
     "exception": false,
     "start_time": "2023-03-22T13:49:15.686709",
     "status": "completed"
    },
    "tags": []
   },
   "outputs": [
    {
     "data": {
      "text/plain": [
       "['area',\n",
       " 'perimeter',\n",
       " 'compactness',\n",
       " 'length_of_kernel',\n",
       " 'width_of_kernel',\n",
       " 'asymmetry_coefficient',\n",
       " 'length_of_groove']"
      ]
     },
     "execution_count": 170,
     "metadata": {},
     "output_type": "execute_result"
    }
   ],
   "source": [
    "df.columns"
   ]
  },
  {
   "cell_type": "code",
   "execution_count": 171,
   "id": "59ee61f2",
   "metadata": {
    "execution": {
     "iopub.execute_input": "2023-03-22T13:49:15.864080Z",
     "iopub.status.busy": "2023-03-22T13:49:15.863543Z",
     "iopub.status.idle": "2023-03-22T13:49:15.940390Z",
     "shell.execute_reply": "2023-03-22T13:49:15.939391Z"
    },
    "papermill": {
     "duration": 0.135633,
     "end_time": "2023-03-22T13:49:15.943752",
     "exception": false,
     "start_time": "2023-03-22T13:49:15.808119",
     "status": "completed"
    },
    "tags": []
   },
   "outputs": [
    {
     "name": "stdout",
     "output_type": "stream",
     "text": [
      "+-----+---------+-----------+------------------+------------------+---------------------+------------------+--------------------+\n",
      "| area|perimeter|compactness|  length_of_kernel|   width_of_kernel|asymmetry_coefficient|  length_of_groove|            features|\n",
      "+-----+---------+-----------+------------------+------------------+---------------------+------------------+--------------------+\n",
      "|15.26|    14.84|      0.871|             5.763|             3.312|                2.221|              5.22|[15.26,14.84,0.87...|\n",
      "|14.88|    14.57|     0.8811| 5.553999999999999|             3.333|                1.018|             4.956|[14.88,14.57,0.88...|\n",
      "|14.29|    14.09|      0.905|             5.291|3.3369999999999997|                2.699|             4.825|[14.29,14.09,0.90...|\n",
      "|13.84|    13.94|     0.8955|             5.324|3.3789999999999996|                2.259|             4.805|[13.84,13.94,0.89...|\n",
      "|16.14|    14.99|     0.9034|5.6579999999999995|             3.562|                1.355|             5.175|[16.14,14.99,0.90...|\n",
      "|14.38|    14.21|     0.8951|             5.386|             3.312|   2.4619999999999997|             4.956|[14.38,14.21,0.89...|\n",
      "|14.69|    14.49|     0.8799|             5.563|             3.259|   3.5860000000000003| 5.218999999999999|[14.69,14.49,0.87...|\n",
      "|14.11|     14.1|     0.8911|              5.42|             3.302|                  2.7|               5.0|[14.11,14.1,0.891...|\n",
      "|16.63|    15.46|     0.8747|             6.053|             3.465|                 2.04| 5.877000000000001|[16.63,15.46,0.87...|\n",
      "|16.44|    15.25|      0.888|5.8839999999999995|             3.505|                1.969|5.5329999999999995|[16.44,15.25,0.88...|\n",
      "|15.26|    14.85|     0.8696|5.7139999999999995|             3.242|                4.543|             5.314|[15.26,14.85,0.86...|\n",
      "|14.03|    14.16|     0.8796|             5.438|             3.201|   1.7169999999999999|             5.001|[14.03,14.16,0.87...|\n",
      "|13.89|    14.02|      0.888|             5.439|             3.199|                3.986|             4.738|[13.89,14.02,0.88...|\n",
      "|13.78|    14.06|     0.8759|             5.479|             3.156|                3.136|             4.872|[13.78,14.06,0.87...|\n",
      "|13.74|    14.05|     0.8744|             5.482|             3.114|                2.932|             4.825|[13.74,14.05,0.87...|\n",
      "|14.59|    14.28|     0.8993|             5.351|             3.333|                4.185| 4.781000000000001|[14.59,14.28,0.89...|\n",
      "|13.99|    13.83|     0.9183|             5.119|             3.383|                5.234| 4.781000000000001|[13.99,13.83,0.91...|\n",
      "|15.69|    14.75|     0.9058|             5.527|             3.514|                1.599|             5.046|[15.69,14.75,0.90...|\n",
      "| 14.7|    14.21|     0.9153|             5.205|             3.466|                1.767|             4.649|[14.7,14.21,0.915...|\n",
      "|12.72|    13.57|     0.8686|             5.226|             3.049|                4.102|             4.914|[12.72,13.57,0.86...|\n",
      "+-----+---------+-----------+------------------+------------------+---------------------+------------------+--------------------+\n",
      "only showing top 20 rows\n",
      "\n"
     ]
    }
   ],
   "source": [
    "from pyspark.ml.clustering import KMeans\n",
    "from pyspark.ml.feature import VectorAssembler\n",
    "\n",
    "assembler = VectorAssembler(inputCols=df.columns, outputCol='features')\n",
    "\n",
    "df = assembler.transform(df)\n",
    "\n",
    "df.show()"
   ]
  },
  {
   "cell_type": "code",
   "execution_count": 172,
   "id": "961945ca",
   "metadata": {
    "execution": {
     "iopub.execute_input": "2023-03-22T13:49:16.060957Z",
     "iopub.status.busy": "2023-03-22T13:49:16.059687Z",
     "iopub.status.idle": "2023-03-22T13:49:16.227065Z",
     "shell.execute_reply": "2023-03-22T13:49:16.226170Z"
    },
    "papermill": {
     "duration": 0.228045,
     "end_time": "2023-03-22T13:49:16.229425",
     "exception": false,
     "start_time": "2023-03-22T13:49:16.001380",
     "status": "completed"
    },
    "tags": []
   },
   "outputs": [],
   "source": [
    "from pyspark.ml.feature import StandardScaler\n",
    "\n",
    "scaler = StandardScaler(inputCol='features', outputCol='scaled_features')\n",
    "\n",
    "scaled_data = scaler.fit(df).transform(df)"
   ]
  },
  {
   "cell_type": "code",
   "execution_count": 173,
   "id": "da5e193d",
   "metadata": {
    "execution": {
     "iopub.execute_input": "2023-03-22T13:49:16.345990Z",
     "iopub.status.busy": "2023-03-22T13:49:16.345578Z",
     "iopub.status.idle": "2023-03-22T13:49:16.421959Z",
     "shell.execute_reply": "2023-03-22T13:49:16.421029Z"
    },
    "papermill": {
     "duration": 0.137321,
     "end_time": "2023-03-22T13:49:16.424552",
     "exception": false,
     "start_time": "2023-03-22T13:49:16.287231",
     "status": "completed"
    },
    "tags": []
   },
   "outputs": [
    {
     "name": "stdout",
     "output_type": "stream",
     "text": [
      "+-----+---------+-----------+------------------+------------------+---------------------+------------------+--------------------+--------------------+\n",
      "| area|perimeter|compactness|  length_of_kernel|   width_of_kernel|asymmetry_coefficient|  length_of_groove|            features|     scaled_features|\n",
      "+-----+---------+-----------+------------------+------------------+---------------------+------------------+--------------------+--------------------+\n",
      "|15.26|    14.84|      0.871|             5.763|             3.312|                2.221|              5.22|[15.26,14.84,0.87...|[5.24452795332028...|\n",
      "|14.88|    14.57|     0.8811| 5.553999999999999|             3.333|                1.018|             4.956|[14.88,14.57,0.88...|[5.11393027165175...|\n",
      "|14.29|    14.09|      0.905|             5.291|3.3369999999999997|                2.699|             4.825|[14.29,14.09,0.90...|[4.91116018695588...|\n",
      "|13.84|    13.94|     0.8955|             5.324|3.3789999999999996|                2.259|             4.805|[13.84,13.94,0.89...|[4.75650503761158...|\n",
      "|16.14|    14.99|     0.9034|5.6579999999999995|             3.562|                1.355|             5.175|[16.14,14.99,0.90...|[5.54696468981581...|\n",
      "|14.38|    14.21|     0.8951|             5.386|             3.312|   2.4619999999999997|             4.956|[14.38,14.21,0.89...|[4.94209121682475...|\n",
      "|14.69|    14.49|     0.8799|             5.563|             3.259|   3.5860000000000003| 5.218999999999999|[14.69,14.49,0.87...|[5.04863143081749...|\n",
      "|14.11|     14.1|     0.8911|              5.42|             3.302|                  2.7|               5.0|[14.11,14.1,0.891...|[4.84929812721816...|\n",
      "|16.63|    15.46|     0.8747|             6.053|             3.465|                 2.04| 5.877000000000001|[16.63,15.46,0.87...|[5.71536696354628...|\n",
      "|16.44|    15.25|      0.888|5.8839999999999995|             3.505|                1.969|5.5329999999999995|[16.44,15.25,0.88...|[5.65006812271202...|\n",
      "|15.26|    14.85|     0.8696|5.7139999999999995|             3.242|                4.543|             5.314|[15.26,14.85,0.86...|[5.24452795332028...|\n",
      "|14.03|    14.16|     0.8796|             5.438|             3.201|   1.7169999999999999|             5.001|[14.03,14.16,0.87...|[4.82180387844584...|\n",
      "|13.89|    14.02|      0.888|             5.439|             3.199|                3.986|             4.738|[13.89,14.02,0.88...|[4.77368894309428...|\n",
      "|13.78|    14.06|     0.8759|             5.479|             3.156|                3.136|             4.872|[13.78,14.06,0.87...|[4.73588435103234...|\n",
      "|13.74|    14.05|     0.8744|             5.482|             3.114|                2.932|             4.825|[13.74,14.05,0.87...|[4.72213722664617...|\n",
      "|14.59|    14.28|     0.8993|             5.351|             3.333|                4.185| 4.781000000000001|[14.59,14.28,0.89...|[5.01426361985209...|\n",
      "|13.99|    13.83|     0.9183|             5.119|             3.383|                5.234| 4.781000000000001|[13.99,13.83,0.91...|[4.80805675405968...|\n",
      "|15.69|    14.75|     0.9058|             5.527|             3.514|                1.599|             5.046|[15.69,14.75,0.90...|[5.39230954047151...|\n",
      "| 14.7|    14.21|     0.9153|             5.205|             3.466|                1.767|             4.649|[14.7,14.21,0.915...|[5.05206821191403...|\n",
      "|12.72|    13.57|     0.8686|             5.226|             3.049|                4.102|             4.914|[12.72,13.57,0.86...|[4.37158555479908...|\n",
      "+-----+---------+-----------+------------------+------------------+---------------------+------------------+--------------------+--------------------+\n",
      "only showing top 20 rows\n",
      "\n"
     ]
    }
   ],
   "source": [
    "scaled_data.show()"
   ]
  },
  {
   "cell_type": "code",
   "execution_count": 174,
   "id": "81deac86",
   "metadata": {
    "execution": {
     "iopub.execute_input": "2023-03-22T13:49:16.554493Z",
     "iopub.status.busy": "2023-03-22T13:49:16.554137Z",
     "iopub.status.idle": "2023-03-22T13:49:17.524878Z",
     "shell.execute_reply": "2023-03-22T13:49:17.523930Z"
    },
    "papermill": {
     "duration": 1.029384,
     "end_time": "2023-03-22T13:49:17.526931",
     "exception": false,
     "start_time": "2023-03-22T13:49:16.497547",
     "status": "completed"
    },
    "tags": []
   },
   "outputs": [
    {
     "data": {
      "text/plain": [
       "[array([ 6.35645488, 12.40730852, 37.41990178, 13.93860446,  9.7892399 ,\n",
       "         2.41585013, 12.29286107]),\n",
       " array([ 4.07497225, 10.14410142, 35.89816849, 11.80812742,  7.54416916,\n",
       "         3.15410901, 10.38031464]),\n",
       " array([ 4.96198582, 10.97871333, 37.30930808, 12.44647267,  8.62880781,\n",
       "         1.80061978, 10.41913733])]"
      ]
     },
     "execution_count": 174,
     "metadata": {},
     "output_type": "execute_result"
    }
   ],
   "source": [
    "km = KMeans(k=3, featuresCol='scaled_features')\n",
    "\n",
    "model = km.fit(scaled_data)\n",
    "\n",
    "model.clusterCenters()"
   ]
  },
  {
   "cell_type": "code",
   "execution_count": 175,
   "id": "00ec8cfd",
   "metadata": {
    "execution": {
     "iopub.execute_input": "2023-03-22T13:49:17.653470Z",
     "iopub.status.busy": "2023-03-22T13:49:17.653125Z",
     "iopub.status.idle": "2023-03-22T13:49:17.782803Z",
     "shell.execute_reply": "2023-03-22T13:49:17.781932Z"
    },
    "papermill": {
     "duration": 0.191662,
     "end_time": "2023-03-22T13:49:17.785787",
     "exception": false,
     "start_time": "2023-03-22T13:49:17.594125",
     "status": "completed"
    },
    "tags": []
   },
   "outputs": [
    {
     "name": "stdout",
     "output_type": "stream",
     "text": [
      "+----------+\n",
      "|prediction|\n",
      "+----------+\n",
      "|         2|\n",
      "|         2|\n",
      "|         2|\n",
      "|         2|\n",
      "|         2|\n",
      "|         2|\n",
      "|         2|\n",
      "|         2|\n",
      "|         0|\n",
      "|         2|\n",
      "|         2|\n",
      "|         2|\n",
      "|         2|\n",
      "|         2|\n",
      "|         2|\n",
      "|         2|\n",
      "|         2|\n",
      "|         2|\n",
      "|         2|\n",
      "|         1|\n",
      "+----------+\n",
      "only showing top 20 rows\n",
      "\n"
     ]
    }
   ],
   "source": [
    "model.transform(scaled_data).select('prediction').show()"
   ]
  },
  {
   "cell_type": "code",
   "execution_count": 176,
   "id": "a77a3ecf",
   "metadata": {
    "execution": {
     "iopub.execute_input": "2023-03-22T13:49:17.898702Z",
     "iopub.status.busy": "2023-03-22T13:49:17.897805Z",
     "iopub.status.idle": "2023-03-22T13:49:18.298026Z",
     "shell.execute_reply": "2023-03-22T13:49:18.297063Z"
    },
    "papermill": {
     "duration": 0.458562,
     "end_time": "2023-03-22T13:49:18.300412",
     "exception": false,
     "start_time": "2023-03-22T13:49:17.841850",
     "status": "completed"
    },
    "tags": []
   },
   "outputs": [
    {
     "name": "stdout",
     "output_type": "stream",
     "text": [
      "23/03/22 13:49:17 WARN SparkSession: Using an existing Spark session; only runtime SQL configurations will take effect.\n",
      "+-----------------------+-----------------+---------------+-----------------+---------------+--------------------+----------------+\n",
      "|Session_Connection_Time|Bytes Transferred|Kali_Trace_Used|Servers_Corrupted|Pages_Corrupted|            Location|WPM_Typing_Speed|\n",
      "+-----------------------+-----------------+---------------+-----------------+---------------+--------------------+----------------+\n",
      "|                    8.0|           391.09|              1|             2.96|            7.0|            Slovenia|           72.37|\n",
      "|                   20.0|           720.99|              0|             3.04|            9.0|British Virgin Is...|           69.08|\n",
      "|                   31.0|           356.32|              1|             3.71|            8.0|             Tokelau|           70.58|\n",
      "|                    2.0|           228.08|              1|             2.48|            8.0|             Bolivia|            70.8|\n",
      "|                   20.0|            408.5|              0|             3.57|            8.0|                Iraq|           71.28|\n",
      "|                    1.0|           390.69|              1|             2.79|            9.0|    Marshall Islands|           71.57|\n",
      "|                   18.0|           342.97|              1|              5.1|            7.0|             Georgia|           72.32|\n",
      "|                   22.0|           101.61|              1|             3.03|            7.0|         Timor-Leste|           72.03|\n",
      "|                   15.0|           275.53|              1|             3.53|            8.0|Palestinian Terri...|           70.17|\n",
      "|                   12.0|           424.83|              1|             2.53|            8.0|          Bangladesh|           69.99|\n",
      "|                   15.0|           249.09|              1|             3.39|            9.0|Northern Mariana ...|           70.77|\n",
      "|                   32.0|           242.48|              0|             4.24|            8.0|            Zimbabwe|           67.93|\n",
      "|                   23.0|           514.54|              0|             3.18|            8.0|         Isle of Man|           68.56|\n",
      "|                    9.0|           284.77|              0|             3.12|            9.0|Sao Tome and Prin...|           70.82|\n",
      "|                   27.0|           779.25|              1|             2.37|            8.0|              Greece|           72.73|\n",
      "|                   12.0|           307.31|              1|             3.22|            7.0|     Solomon Islands|           67.95|\n",
      "|                   21.0|           355.94|              1|              2.0|            7.0|       Guinea-Bissau|            72.0|\n",
      "|                   10.0|           372.65|              0|             3.33|            7.0|        Burkina Faso|           69.19|\n",
      "|                   20.0|           347.23|              1|             2.33|            7.0|            Mongolia|           70.41|\n",
      "|                   22.0|           456.57|              0|             1.52|            8.0|             Nigeria|           69.35|\n",
      "+-----------------------+-----------------+---------------+-----------------+---------------+--------------------+----------------+\n",
      "only showing top 20 rows\n",
      "\n",
      "root\n",
      " |-- Session_Connection_Time: double (nullable = true)\n",
      " |-- Bytes Transferred: double (nullable = true)\n",
      " |-- Kali_Trace_Used: integer (nullable = true)\n",
      " |-- Servers_Corrupted: double (nullable = true)\n",
      " |-- Pages_Corrupted: double (nullable = true)\n",
      " |-- Location: string (nullable = true)\n",
      " |-- WPM_Typing_Speed: double (nullable = true)\n",
      "\n",
      "+-------+-----------------------+------------------+------------------+-----------------+------------------+-----------+------------------+\n",
      "|summary|Session_Connection_Time| Bytes Transferred|   Kali_Trace_Used|Servers_Corrupted|   Pages_Corrupted|   Location|  WPM_Typing_Speed|\n",
      "+-------+-----------------------+------------------+------------------+-----------------+------------------+-----------+------------------+\n",
      "|  count|                    334|               334|               334|              334|               334|        334|               334|\n",
      "|   mean|     30.008982035928145| 607.2452694610777|0.5119760479041916|5.258502994011977|10.838323353293413|       null|57.342395209580864|\n",
      "| stddev|     14.088200614636158|286.33593163576757|0.5006065264451406| 2.30190693339697|  3.06352633036022|       null| 13.41106336843464|\n",
      "|    min|                    1.0|              10.0|                 0|              1.0|               6.0|Afghanistan|              40.0|\n",
      "|    max|                   60.0|            1330.5|                 1|             10.0|              15.0|   Zimbabwe|              75.0|\n",
      "+-------+-----------------------+------------------+------------------+-----------------+------------------+-----------+------------------+\n",
      "\n"
     ]
    },
    {
     "data": {
      "text/plain": [
       "DataFrame[Session_Connection_Time: double, Bytes Transferred: double, Kali_Trace_Used: int, Servers_Corrupted: double, Pages_Corrupted: double, Location: string, WPM_Typing_Speed: double]"
      ]
     },
     "execution_count": 176,
     "metadata": {},
     "output_type": "execute_result"
    }
   ],
   "source": [
    "from pyspark.sql import SparkSession\n",
    "from pyspark.ml.feature import VectorAssembler\n",
    "from pyspark.ml.feature import StandardScaler\n",
    "from pyspark.ml.clustering import KMeans\n",
    "\n",
    "spark = SparkSession.builder.appName('KMeans').getOrCreate()\n",
    "df = spark.read.csv('/kaggle/input/hack-data/hack_data.csv', inferSchema=True, header=True)\n",
    "\n",
    "df.show()\n",
    "\n",
    "df.printSchema()\n",
    "\n",
    "df.describe().show()\n",
    "\n",
    "df.na.drop()"
   ]
  },
  {
   "cell_type": "code",
   "execution_count": 177,
   "id": "f38ea034",
   "metadata": {
    "execution": {
     "iopub.execute_input": "2023-03-22T13:49:18.415151Z",
     "iopub.status.busy": "2023-03-22T13:49:18.414822Z",
     "iopub.status.idle": "2023-03-22T13:49:18.420436Z",
     "shell.execute_reply": "2023-03-22T13:49:18.419715Z"
    },
    "papermill": {
     "duration": 0.065139,
     "end_time": "2023-03-22T13:49:18.422570",
     "exception": false,
     "start_time": "2023-03-22T13:49:18.357431",
     "status": "completed"
    },
    "tags": []
   },
   "outputs": [
    {
     "data": {
      "text/plain": [
       "['Session_Connection_Time',\n",
       " 'Bytes Transferred',\n",
       " 'Kali_Trace_Used',\n",
       " 'Servers_Corrupted',\n",
       " 'Pages_Corrupted',\n",
       " 'Location',\n",
       " 'WPM_Typing_Speed']"
      ]
     },
     "execution_count": 177,
     "metadata": {},
     "output_type": "execute_result"
    }
   ],
   "source": [
    "df.columns"
   ]
  },
  {
   "cell_type": "code",
   "execution_count": 178,
   "id": "62726857",
   "metadata": {
    "execution": {
     "iopub.execute_input": "2023-03-22T13:49:18.536085Z",
     "iopub.status.busy": "2023-03-22T13:49:18.535258Z",
     "iopub.status.idle": "2023-03-22T13:49:18.559322Z",
     "shell.execute_reply": "2023-03-22T13:49:18.557529Z"
    },
    "papermill": {
     "duration": 0.083568,
     "end_time": "2023-03-22T13:49:18.561726",
     "exception": false,
     "start_time": "2023-03-22T13:49:18.478158",
     "status": "completed"
    },
    "tags": []
   },
   "outputs": [],
   "source": [
    "assembler = VectorAssembler(inputCols=['Session_Connection_Time',\n",
    "                                         'Bytes Transferred',\n",
    "                                         'Kali_Trace_Used',\n",
    "                                         'Servers_Corrupted',\n",
    "                                         'Pages_Corrupted',\n",
    "                                         'WPM_Typing_Speed'], outputCol='feature')\n",
    "\n",
    "df_new = assembler.transform(df)"
   ]
  },
  {
   "cell_type": "code",
   "execution_count": 179,
   "id": "4ee21b45",
   "metadata": {
    "execution": {
     "iopub.execute_input": "2023-03-22T13:49:18.678170Z",
     "iopub.status.busy": "2023-03-22T13:49:18.677831Z",
     "iopub.status.idle": "2023-03-22T13:49:18.740722Z",
     "shell.execute_reply": "2023-03-22T13:49:18.739841Z"
    },
    "papermill": {
     "duration": 0.123304,
     "end_time": "2023-03-22T13:49:18.744242",
     "exception": false,
     "start_time": "2023-03-22T13:49:18.620938",
     "status": "completed"
    },
    "tags": []
   },
   "outputs": [
    {
     "name": "stdout",
     "output_type": "stream",
     "text": [
      "+-----------------------+-----------------+---------------+-----------------+---------------+--------------------+----------------+--------------------+\n",
      "|Session_Connection_Time|Bytes Transferred|Kali_Trace_Used|Servers_Corrupted|Pages_Corrupted|            Location|WPM_Typing_Speed|             feature|\n",
      "+-----------------------+-----------------+---------------+-----------------+---------------+--------------------+----------------+--------------------+\n",
      "|                    8.0|           391.09|              1|             2.96|            7.0|            Slovenia|           72.37|[8.0,391.09,1.0,2...|\n",
      "|                   20.0|           720.99|              0|             3.04|            9.0|British Virgin Is...|           69.08|[20.0,720.99,0.0,...|\n",
      "|                   31.0|           356.32|              1|             3.71|            8.0|             Tokelau|           70.58|[31.0,356.32,1.0,...|\n",
      "|                    2.0|           228.08|              1|             2.48|            8.0|             Bolivia|            70.8|[2.0,228.08,1.0,2...|\n",
      "|                   20.0|            408.5|              0|             3.57|            8.0|                Iraq|           71.28|[20.0,408.5,0.0,3...|\n",
      "|                    1.0|           390.69|              1|             2.79|            9.0|    Marshall Islands|           71.57|[1.0,390.69,1.0,2...|\n",
      "|                   18.0|           342.97|              1|              5.1|            7.0|             Georgia|           72.32|[18.0,342.97,1.0,...|\n",
      "|                   22.0|           101.61|              1|             3.03|            7.0|         Timor-Leste|           72.03|[22.0,101.61,1.0,...|\n",
      "|                   15.0|           275.53|              1|             3.53|            8.0|Palestinian Terri...|           70.17|[15.0,275.53,1.0,...|\n",
      "|                   12.0|           424.83|              1|             2.53|            8.0|          Bangladesh|           69.99|[12.0,424.83,1.0,...|\n",
      "|                   15.0|           249.09|              1|             3.39|            9.0|Northern Mariana ...|           70.77|[15.0,249.09,1.0,...|\n",
      "|                   32.0|           242.48|              0|             4.24|            8.0|            Zimbabwe|           67.93|[32.0,242.48,0.0,...|\n",
      "|                   23.0|           514.54|              0|             3.18|            8.0|         Isle of Man|           68.56|[23.0,514.54,0.0,...|\n",
      "|                    9.0|           284.77|              0|             3.12|            9.0|Sao Tome and Prin...|           70.82|[9.0,284.77,0.0,3...|\n",
      "|                   27.0|           779.25|              1|             2.37|            8.0|              Greece|           72.73|[27.0,779.25,1.0,...|\n",
      "|                   12.0|           307.31|              1|             3.22|            7.0|     Solomon Islands|           67.95|[12.0,307.31,1.0,...|\n",
      "|                   21.0|           355.94|              1|              2.0|            7.0|       Guinea-Bissau|            72.0|[21.0,355.94,1.0,...|\n",
      "|                   10.0|           372.65|              0|             3.33|            7.0|        Burkina Faso|           69.19|[10.0,372.65,0.0,...|\n",
      "|                   20.0|           347.23|              1|             2.33|            7.0|            Mongolia|           70.41|[20.0,347.23,1.0,...|\n",
      "|                   22.0|           456.57|              0|             1.52|            8.0|             Nigeria|           69.35|[22.0,456.57,0.0,...|\n",
      "+-----------------------+-----------------+---------------+-----------------+---------------+--------------------+----------------+--------------------+\n",
      "only showing top 20 rows\n",
      "\n"
     ]
    }
   ],
   "source": [
    "df_new.show()"
   ]
  },
  {
   "cell_type": "code",
   "execution_count": 180,
   "id": "e1007ef5",
   "metadata": {
    "execution": {
     "iopub.execute_input": "2023-03-22T13:49:18.859541Z",
     "iopub.status.busy": "2023-03-22T13:49:18.859206Z",
     "iopub.status.idle": "2023-03-22T13:49:18.988356Z",
     "shell.execute_reply": "2023-03-22T13:49:18.986823Z"
    },
    "papermill": {
     "duration": 0.187063,
     "end_time": "2023-03-22T13:49:18.990713",
     "exception": false,
     "start_time": "2023-03-22T13:49:18.803650",
     "status": "completed"
    },
    "tags": []
   },
   "outputs": [],
   "source": [
    "Scaler = StandardScaler(inputCol='feature', outputCol='scaled_features')\n",
    "\n",
    "df2 = Scaler.fit(df_new).transform(df_new)"
   ]
  },
  {
   "cell_type": "code",
   "execution_count": 181,
   "id": "d291ee71",
   "metadata": {
    "execution": {
     "iopub.execute_input": "2023-03-22T13:49:19.117408Z",
     "iopub.status.busy": "2023-03-22T13:49:19.117043Z",
     "iopub.status.idle": "2023-03-22T13:49:19.187996Z",
     "shell.execute_reply": "2023-03-22T13:49:19.186742Z"
    },
    "papermill": {
     "duration": 0.132599,
     "end_time": "2023-03-22T13:49:19.190461",
     "exception": false,
     "start_time": "2023-03-22T13:49:19.057862",
     "status": "completed"
    },
    "tags": []
   },
   "outputs": [
    {
     "name": "stdout",
     "output_type": "stream",
     "text": [
      "+-----------------------+-----------------+---------------+-----------------+---------------+--------------------+----------------+--------------------+--------------------+\n",
      "|Session_Connection_Time|Bytes Transferred|Kali_Trace_Used|Servers_Corrupted|Pages_Corrupted|            Location|WPM_Typing_Speed|             feature|     scaled_features|\n",
      "+-----------------------+-----------------+---------------+-----------------+---------------+--------------------+----------------+--------------------+--------------------+\n",
      "|                    8.0|           391.09|              1|             2.96|            7.0|            Slovenia|           72.37|[8.0,391.09,1.0,2...|[0.56785108466505...|\n",
      "|                   20.0|           720.99|              0|             3.04|            9.0|British Virgin Is...|           69.08|[20.0,720.99,0.0,...|[1.41962771166263...|\n",
      "|                   31.0|           356.32|              1|             3.71|            8.0|             Tokelau|           70.58|[31.0,356.32,1.0,...|[2.20042295307707...|\n",
      "|                    2.0|           228.08|              1|             2.48|            8.0|             Bolivia|            70.8|[2.0,228.08,1.0,2...|[0.14196277116626...|\n",
      "|                   20.0|            408.5|              0|             3.57|            8.0|                Iraq|           71.28|[20.0,408.5,0.0,3...|[1.41962771166263...|\n",
      "|                    1.0|           390.69|              1|             2.79|            9.0|    Marshall Islands|           71.57|[1.0,390.69,1.0,2...|[0.07098138558313...|\n",
      "|                   18.0|           342.97|              1|              5.1|            7.0|             Georgia|           72.32|[18.0,342.97,1.0,...|[1.27766494049636...|\n",
      "|                   22.0|           101.61|              1|             3.03|            7.0|         Timor-Leste|           72.03|[22.0,101.61,1.0,...|[1.56159048282889...|\n",
      "|                   15.0|           275.53|              1|             3.53|            8.0|Palestinian Terri...|           70.17|[15.0,275.53,1.0,...|[1.06472078374697...|\n",
      "|                   12.0|           424.83|              1|             2.53|            8.0|          Bangladesh|           69.99|[12.0,424.83,1.0,...|[0.85177662699757...|\n",
      "|                   15.0|           249.09|              1|             3.39|            9.0|Northern Mariana ...|           70.77|[15.0,249.09,1.0,...|[1.06472078374697...|\n",
      "|                   32.0|           242.48|              0|             4.24|            8.0|            Zimbabwe|           67.93|[32.0,242.48,0.0,...|[2.27140433866020...|\n",
      "|                   23.0|           514.54|              0|             3.18|            8.0|         Isle of Man|           68.56|[23.0,514.54,0.0,...|[1.63257186841202...|\n",
      "|                    9.0|           284.77|              0|             3.12|            9.0|Sao Tome and Prin...|           70.82|[9.0,284.77,0.0,3...|[0.63883247024818...|\n",
      "|                   27.0|           779.25|              1|             2.37|            8.0|              Greece|           72.73|[27.0,779.25,1.0,...|[1.91649741074455...|\n",
      "|                   12.0|           307.31|              1|             3.22|            7.0|     Solomon Islands|           67.95|[12.0,307.31,1.0,...|[0.85177662699757...|\n",
      "|                   21.0|           355.94|              1|              2.0|            7.0|       Guinea-Bissau|            72.0|[21.0,355.94,1.0,...|[1.49060909724576...|\n",
      "|                   10.0|           372.65|              0|             3.33|            7.0|        Burkina Faso|           69.19|[10.0,372.65,0.0,...|[0.70981385583131...|\n",
      "|                   20.0|           347.23|              1|             2.33|            7.0|            Mongolia|           70.41|[20.0,347.23,1.0,...|[1.41962771166263...|\n",
      "|                   22.0|           456.57|              0|             1.52|            8.0|             Nigeria|           69.35|[22.0,456.57,0.0,...|[1.56159048282889...|\n",
      "+-----------------------+-----------------+---------------+-----------------+---------------+--------------------+----------------+--------------------+--------------------+\n",
      "only showing top 20 rows\n",
      "\n"
     ]
    }
   ],
   "source": [
    "df2.show()"
   ]
  },
  {
   "cell_type": "code",
   "execution_count": 182,
   "id": "7a6de7f8",
   "metadata": {
    "execution": {
     "iopub.execute_input": "2023-03-22T13:49:19.305135Z",
     "iopub.status.busy": "2023-03-22T13:49:19.304809Z",
     "iopub.status.idle": "2023-03-22T13:49:19.922063Z",
     "shell.execute_reply": "2023-03-22T13:49:19.920998Z"
    },
    "papermill": {
     "duration": 0.676684,
     "end_time": "2023-03-22T13:49:19.924389",
     "exception": false,
     "start_time": "2023-03-22T13:49:19.247705",
     "status": "completed"
    },
    "tags": []
   },
   "outputs": [
    {
     "data": {
      "text/plain": [
       "[array([1.26023837, 1.31829808, 0.99280765, 1.36491885, 2.5625043 ,\n",
       "        5.26676612]),\n",
       " array([2.99991988, 2.92319035, 1.05261534, 3.20390443, 4.51321315,\n",
       "        3.28474   ])]"
      ]
     },
     "execution_count": 182,
     "metadata": {},
     "output_type": "execute_result"
    }
   ],
   "source": [
    "km = KMeans(k=2, featuresCol='scaled_features')\n",
    "\n",
    "m = km.fit(df2)\n",
    "\n",
    "m.clusterCenters()"
   ]
  },
  {
   "cell_type": "code",
   "execution_count": 183,
   "id": "8b40deaf",
   "metadata": {
    "execution": {
     "iopub.execute_input": "2023-03-22T13:49:20.050757Z",
     "iopub.status.busy": "2023-03-22T13:49:20.050415Z",
     "iopub.status.idle": "2023-03-22T13:49:20.145536Z",
     "shell.execute_reply": "2023-03-22T13:49:20.144469Z"
    },
    "papermill": {
     "duration": 0.155764,
     "end_time": "2023-03-22T13:49:20.148703",
     "exception": false,
     "start_time": "2023-03-22T13:49:19.992939",
     "status": "completed"
    },
    "tags": []
   },
   "outputs": [
    {
     "name": "stdout",
     "output_type": "stream",
     "text": [
      "+----------+\n",
      "|prediction|\n",
      "+----------+\n",
      "|         0|\n",
      "|         0|\n",
      "|         0|\n",
      "|         0|\n",
      "|         0|\n",
      "|         0|\n",
      "|         0|\n",
      "|         0|\n",
      "|         0|\n",
      "|         0|\n",
      "|         0|\n",
      "|         0|\n",
      "|         0|\n",
      "|         0|\n",
      "|         0|\n",
      "|         0|\n",
      "|         0|\n",
      "|         0|\n",
      "|         0|\n",
      "|         0|\n",
      "+----------+\n",
      "only showing top 20 rows\n",
      "\n"
     ]
    }
   ],
   "source": [
    "m.transform(df2).select('prediction').show()"
   ]
  },
  {
   "cell_type": "markdown",
   "id": "ba3e34b8",
   "metadata": {
    "papermill": {
     "duration": 0.055318,
     "end_time": "2023-03-22T13:49:20.271181",
     "exception": false,
     "start_time": "2023-03-22T13:49:20.215863",
     "status": "completed"
    },
    "tags": []
   },
   "source": [
    "# Recommendation System in Spark"
   ]
  },
  {
   "cell_type": "code",
   "execution_count": 184,
   "id": "1adb9c8a",
   "metadata": {
    "execution": {
     "iopub.execute_input": "2023-03-22T13:49:20.385379Z",
     "iopub.status.busy": "2023-03-22T13:49:20.385055Z",
     "iopub.status.idle": "2023-03-22T13:49:20.540116Z",
     "shell.execute_reply": "2023-03-22T13:49:20.539368Z"
    },
    "papermill": {
     "duration": 0.216792,
     "end_time": "2023-03-22T13:49:20.544347",
     "exception": false,
     "start_time": "2023-03-22T13:49:20.327555",
     "status": "completed"
    },
    "tags": []
   },
   "outputs": [
    {
     "name": "stdout",
     "output_type": "stream",
     "text": [
      "23/03/22 13:49:20 WARN SparkSession: Using an existing Spark session; only runtime SQL configurations will take effect.\n",
      "+-------+------+------+\n",
      "|movieId|rating|userId|\n",
      "+-------+------+------+\n",
      "|      2|   3.0|     0|\n",
      "|      3|   1.0|     0|\n",
      "|      5|   2.0|     0|\n",
      "|      9|   4.0|     0|\n",
      "|     11|   1.0|     0|\n",
      "|     12|   2.0|     0|\n",
      "|     15|   1.0|     0|\n",
      "|     17|   1.0|     0|\n",
      "|     19|   1.0|     0|\n",
      "|     21|   1.0|     0|\n",
      "|     23|   1.0|     0|\n",
      "|     26|   3.0|     0|\n",
      "|     27|   1.0|     0|\n",
      "|     28|   1.0|     0|\n",
      "|     29|   1.0|     0|\n",
      "|     30|   1.0|     0|\n",
      "|     31|   1.0|     0|\n",
      "|     34|   1.0|     0|\n",
      "|     37|   1.0|     0|\n",
      "|     41|   2.0|     0|\n",
      "+-------+------+------+\n",
      "only showing top 20 rows\n",
      "\n"
     ]
    }
   ],
   "source": [
    "from pyspark.sql import SparkSession\n",
    "from pyspark.ml.recommendation import ALS\n",
    "from pyspark.ml.evaluation import RegressionEvaluator\n",
    "\n",
    "spark = SparkSession.builder.appName('Recommendation Engine').getOrCreate()\n",
    "\n",
    "df = spark.read.csv('/kaggle/input/movie-recommendation/movielens_ratings.csv', inferSchema=True, header=True)\n",
    "\n",
    "df.show()"
   ]
  },
  {
   "cell_type": "code",
   "execution_count": 185,
   "id": "5151e4c7",
   "metadata": {
    "execution": {
     "iopub.execute_input": "2023-03-22T13:49:20.661921Z",
     "iopub.status.busy": "2023-03-22T13:49:20.661554Z",
     "iopub.status.idle": "2023-03-22T13:49:20.793473Z",
     "shell.execute_reply": "2023-03-22T13:49:20.792138Z"
    },
    "papermill": {
     "duration": 0.19299,
     "end_time": "2023-03-22T13:49:20.795856",
     "exception": false,
     "start_time": "2023-03-22T13:49:20.602866",
     "status": "completed"
    },
    "tags": []
   },
   "outputs": [
    {
     "name": "stdout",
     "output_type": "stream",
     "text": [
      "+-------+------------------+------------------+------------------+\n",
      "|summary|           movieId|            rating|            userId|\n",
      "+-------+------------------+------------------+------------------+\n",
      "|  count|              1501|              1501|              1501|\n",
      "|   mean| 49.40572951365756|1.7741505662891406|14.383744170552964|\n",
      "| stddev|28.937034065088994| 1.187276166124803| 8.591040424293272|\n",
      "|    min|                 0|               1.0|                 0|\n",
      "|    max|                99|               5.0|                29|\n",
      "+-------+------------------+------------------+------------------+\n",
      "\n"
     ]
    }
   ],
   "source": [
    "df.describe().show()"
   ]
  },
  {
   "cell_type": "code",
   "execution_count": 186,
   "id": "cfa5ff02",
   "metadata": {
    "execution": {
     "iopub.execute_input": "2023-03-22T13:49:20.910644Z",
     "iopub.status.busy": "2023-03-22T13:49:20.910219Z",
     "iopub.status.idle": "2023-03-22T13:49:23.493080Z",
     "shell.execute_reply": "2023-03-22T13:49:23.492197Z"
    },
    "papermill": {
     "duration": 2.643642,
     "end_time": "2023-03-22T13:49:23.495879",
     "exception": false,
     "start_time": "2023-03-22T13:49:20.852237",
     "status": "completed"
    },
    "tags": []
   },
   "outputs": [
    {
     "name": "stdout",
     "output_type": "stream",
     "text": [
      "+-------+------+------+-----------+\n",
      "|movieId|rating|userId| prediction|\n",
      "+-------+------+------+-----------+\n",
      "|      0|   1.0|    26|  1.8684434|\n",
      "|      1|   1.0|    26|   2.434731|\n",
      "|      4|   1.0|    12|  2.6393816|\n",
      "|      5|   2.0|    22| 0.88908935|\n",
      "|      4|   2.0|     1|  2.9217875|\n",
      "|      0|   1.0|    20|  1.6813176|\n",
      "|      2|   2.0|    20|  0.7120066|\n",
      "|      1|   1.0|     5| 0.28369877|\n",
      "|      5|   1.0|     5| 0.43618703|\n",
      "|      0|   1.0|    19| 0.24309614|\n",
      "|      1|   4.0|    15| 0.95611584|\n",
      "|      2|   1.0|    17|  3.8301725|\n",
      "|      6|   1.0|     9| 0.87634623|\n",
      "|      2|   4.0|     8|  2.5052433|\n",
      "|      4|   2.0|     8|  1.8031679|\n",
      "|      4|   1.0|    23|-0.03727299|\n",
      "|      7|   1.0|    10| 0.41790688|\n",
      "|      6|   2.0|    11|  1.4597461|\n",
      "|      4|   1.0|    14|   0.271206|\n",
      "|      6|   1.0|     2|-0.90608966|\n",
      "+-------+------+------+-----------+\n",
      "only showing top 20 rows\n",
      "\n"
     ]
    }
   ],
   "source": [
    "train, test = df.randomSplit([0.8, 0.2])\n",
    "\n",
    "als = ALS(maxIter=5, regParam=0.01, userCol='userId', itemCol='movieId', ratingCol='rating')\n",
    "\n",
    "model = als.fit(train)\n",
    "\n",
    "predictions = model.transform(test)\n",
    "\n",
    "predictions.show()"
   ]
  },
  {
   "cell_type": "code",
   "execution_count": 187,
   "id": "0d652a52",
   "metadata": {
    "execution": {
     "iopub.execute_input": "2023-03-22T13:49:23.630518Z",
     "iopub.status.busy": "2023-03-22T13:49:23.630188Z",
     "iopub.status.idle": "2023-03-22T13:49:23.978363Z",
     "shell.execute_reply": "2023-03-22T13:49:23.977370Z"
    },
    "papermill": {
     "duration": 0.410236,
     "end_time": "2023-03-22T13:49:23.981352",
     "exception": false,
     "start_time": "2023-03-22T13:49:23.571116",
     "status": "completed"
    },
    "tags": []
   },
   "outputs": [
    {
     "name": "stdout",
     "output_type": "stream",
     "text": [
      "1.7497589035931866\n"
     ]
    }
   ],
   "source": [
    "evaluator = RegressionEvaluator(metricName='rmse', labelCol='rating', predictionCol='prediction')\n",
    "rmse = evaluator.evaluate(predictions)\n",
    "print(rmse)"
   ]
  },
  {
   "cell_type": "code",
   "execution_count": 188,
   "id": "f832c9ba",
   "metadata": {
    "execution": {
     "iopub.execute_input": "2023-03-22T13:49:24.100657Z",
     "iopub.status.busy": "2023-03-22T13:49:24.099179Z",
     "iopub.status.idle": "2023-03-22T13:49:24.180449Z",
     "shell.execute_reply": "2023-03-22T13:49:24.178599Z"
    },
    "papermill": {
     "duration": 0.141619,
     "end_time": "2023-03-22T13:49:24.183211",
     "exception": false,
     "start_time": "2023-03-22T13:49:24.041592",
     "status": "completed"
    },
    "tags": []
   },
   "outputs": [
    {
     "name": "stdout",
     "output_type": "stream",
     "text": [
      "+-------+------+\n",
      "|movieId|userId|\n",
      "+-------+------+\n",
      "|      6|    11|\n",
      "|     11|    11|\n",
      "|     23|    11|\n",
      "|     32|    11|\n",
      "|     41|    11|\n",
      "|     45|    11|\n",
      "|     61|    11|\n",
      "|     66|    11|\n",
      "|     69|    11|\n",
      "|     70|    11|\n",
      "|     71|    11|\n",
      "|     75|    11|\n",
      "|     81|    11|\n",
      "|     89|    11|\n",
      "|     97|    11|\n",
      "|     99|    11|\n",
      "+-------+------+\n",
      "\n"
     ]
    }
   ],
   "source": [
    "single_user = test.filter(test['userId'] == 11).select(['movieId', 'userId'])\n",
    "\n",
    "single_user.show()"
   ]
  },
  {
   "cell_type": "code",
   "execution_count": 189,
   "id": "6c3c8971",
   "metadata": {
    "execution": {
     "iopub.execute_input": "2023-03-22T13:49:24.297199Z",
     "iopub.status.busy": "2023-03-22T13:49:24.296876Z",
     "iopub.status.idle": "2023-03-22T13:49:24.698565Z",
     "shell.execute_reply": "2023-03-22T13:49:24.696987Z"
    },
    "papermill": {
     "duration": 0.461533,
     "end_time": "2023-03-22T13:49:24.701377",
     "exception": false,
     "start_time": "2023-03-22T13:49:24.239844",
     "status": "completed"
    },
    "tags": []
   },
   "outputs": [
    {
     "name": "stdout",
     "output_type": "stream",
     "text": [
      "+-------+------+-----------+\n",
      "|movieId|userId| prediction|\n",
      "+-------+------+-----------+\n",
      "|     23|    11|  4.3866963|\n",
      "|     32|    11|  4.1463685|\n",
      "|     71|    11|  3.2859325|\n",
      "|     75|    11|  2.9265513|\n",
      "|     61|    11|  2.8999562|\n",
      "|     89|    11|   2.492686|\n",
      "|     45|    11|  1.6563156|\n",
      "|     97|    11|  1.6327345|\n",
      "|      6|    11|  1.4597461|\n",
      "|     81|    11|  1.0329089|\n",
      "|     41|    11|  0.9547563|\n",
      "|     66|    11| 0.77656454|\n",
      "|     11|    11|  0.7721311|\n",
      "|     99|    11| 0.66847277|\n",
      "|     69|    11|-0.59268486|\n",
      "|     70|    11| -2.9860172|\n",
      "+-------+------+-----------+\n",
      "\n"
     ]
    }
   ],
   "source": [
    "recommendations = model.transform(single_user)\n",
    "\n",
    "recommendations.orderBy('prediction', ascending=False).show()"
   ]
  }
 ],
 "metadata": {
  "kernelspec": {
   "display_name": "pyspark-env",
   "language": "python",
   "name": "python3"
  },
  "language_info": {
   "codemirror_mode": {
    "name": "ipython",
    "version": 3
   },
   "file_extension": ".py",
   "mimetype": "text/x-python",
   "name": "python",
   "nbconvert_exporter": "python",
   "pygments_lexer": "ipython3",
   "version": "3.11.7"
  },
  "papermill": {
   "default_parameters": {},
   "duration": 129.21543,
   "end_time": "2023-03-22T13:49:27.378100",
   "environment_variables": {},
   "exception": null,
   "input_path": "__notebook__.ipynb",
   "output_path": "__notebook__.ipynb",
   "parameters": {},
   "start_time": "2023-03-22T13:47:18.162670",
   "version": "2.4.0"
  }
 },
 "nbformat": 4,
 "nbformat_minor": 5
}
